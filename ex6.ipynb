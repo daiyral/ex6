{
  "cells": [
    {
      "cell_type": "markdown",
      "metadata": {
        "id": "E_wGwPYLbghK"
      },
      "source": [
        "## Normalizing Flows - Exercise 6.\n",
        "### Daniel Aibinder 318239639, Yonathan Dovgolevsky 327709648"
      ]
    },
    {
      "cell_type": "code",
      "execution_count": 1,
      "metadata": {
        "colab": {
          "base_uri": "https://localhost:8080/",
          "height": 105
        },
        "id": "jUdClyTnbghM",
        "outputId": "0b691a00-8229-4fba-ada7-da73c9c4dfbe"
      },
      "outputs": [
        {
          "name": "stderr",
          "output_type": "stream",
          "text": [
            "C:\\Users\\Danny\\AppData\\Local\\Temp\\ipykernel_1228\\3028478413.py:11: DeprecationWarning: `set_matplotlib_formats` is deprecated since IPython 7.23, directly use `matplotlib_inline.backend_inline.set_matplotlib_formats()`\n",
            "  set_matplotlib_formats('svg', 'pdf') # For export\n",
            "Global seed set to 42\n"
          ]
        },
        {
          "name": "stdout",
          "output_type": "stream",
          "text": [
            "Using device cuda:0\n"
          ]
        },
        {
          "data": {
            "text/plain": [
              "<Figure size 640x480 with 0 Axes>"
            ]
          },
          "metadata": {},
          "output_type": "display_data"
        }
      ],
      "source": [
        "## Standard libraries\n",
        "import os\n",
        "import math\n",
        "import numpy as np\n",
        "\n",
        "## Imports for plotting\n",
        "import matplotlib.pyplot as plt\n",
        "plt.set_cmap('cividis')\n",
        "%matplotlib inline\n",
        "from IPython.display import set_matplotlib_formats\n",
        "set_matplotlib_formats('svg', 'pdf') # For export\n",
        "from matplotlib.colors import to_rgb\n",
        "import seaborn as sns\n",
        "\n",
        "## Progress bar\n",
        "from tqdm.notebook import tqdm\n",
        "\n",
        "## PyTorch\n",
        "import torch\n",
        "import torch.nn as nn\n",
        "import torch.nn.functional as F\n",
        "import torch.utils.data as data\n",
        "import torch.optim as optim\n",
        "# Torchvision\n",
        "import torchvision\n",
        "from torchvision.datasets import MNIST\n",
        "from torchvision import transforms\n",
        "# PyTorch Lightning\n",
        "try:\n",
        "    import pytorch_lightning as pl\n",
        "except ModuleNotFoundError: # Google Colab does not have PyTorch Lightning installed by default. Hence, we do it here if necessary\n",
        "    !pip install --quiet pytorch-lightning>=1.4\n",
        "    import pytorch_lightning as pl\n",
        "from pytorch_lightning.callbacks import LearningRateMonitor, ModelCheckpoint\n",
        "from pytorch_lightning.loggers import TensorBoardLogger\n",
        "\n",
        "\n",
        "# Path to the folder where the datasets are/should be downloaded (e.g. MNIST)\n",
        "DATASET_PATH = \"./data\"\n",
        "# Path to the folder where the pretrained models are saved\n",
        "CHECKPOINT_PATH = \"./saved_models/tutorial12\"\n",
        "\n",
        "# Setting the seed\n",
        "pl.seed_everything(42)\n",
        "\n",
        "# Ensure that all operations are deterministic on GPU (if used) for reproducibility\n",
        "torch.backends.cudnn.deterministic = True\n",
        "torch.backends.cudnn.benchmark = False\n",
        "\n",
        "# Fetching the device that will be used throughout this notebook\n",
        "device = torch.device(\"cpu\") if not torch.cuda.is_available() else torch.device(\"cuda:0\")\n",
        "print(\"Using device\", device)"
      ]
    },
    {
      "cell_type": "code",
      "execution_count": 2,
      "metadata": {
        "colab": {
          "base_uri": "https://localhost:8080/"
        },
        "id": "xiX3muzmbghO",
        "outputId": "eeee7f49-d8ff-4c03-c7d5-d49148e79d35"
      },
      "outputs": [
        {
          "name": "stderr",
          "output_type": "stream",
          "text": [
            "Global seed set to 42\n"
          ]
        }
      ],
      "source": [
        "def add_noise(sample):\n",
        "    sample = (sample * 255).to(torch.float) # Convert to float and scale to [0, 255]\n",
        "    noise = torch.rand_like(sample) # Uniform noise in [0, 1]\n",
        "    noisy_sample = sample + noise\n",
        "    noisy_sample = noisy_sample / 255.0 # Scale back to [0, 1]\n",
        "    noisy_sample = torch.clamp(noisy_sample, 0, 1) # Ensure that the values are still in [0, 1]\n",
        "    return noisy_sample\n",
        "\n",
        "def flatten_image(image):\n",
        "    return image.view(-1)\n",
        "\n",
        "# Transformations: Convert to tensor, add noise and normalize\n",
        "transform = transforms.Compose([\n",
        "    transforms.ToTensor(),\n",
        "    add_noise,\n",
        "    flatten_image\n",
        "])\n",
        "\n",
        "\n",
        "# Loading the training dataset. We need to split it into a training and validation part\n",
        "train_dataset = MNIST(root=DATASET_PATH, train=True, transform=transform, download=True)\n",
        "pl.seed_everything(42)\n",
        "train_set, val_set = torch.utils.data.random_split(train_dataset, [50000, 10000])\n",
        "\n",
        "# Loading the test set\n",
        "test_set = MNIST(root=DATASET_PATH, train=False, transform=transform, download=True)\n",
        "\n",
        "# We define a set of data loaders that we can use for various purposes later.\n",
        "train_loader = data.DataLoader(train_set, batch_size=128, shuffle=True, drop_last=True, pin_memory=True)\n",
        "val_loader = data.DataLoader(val_set, batch_size=128, shuffle=False, drop_last=False)\n",
        "test_loader = data.DataLoader(test_set, batch_size=128, shuffle=False, drop_last=False)"
      ]
    },
    {
      "cell_type": "code",
      "execution_count": 3,
      "metadata": {
        "colab": {
          "base_uri": "https://localhost:8080/",
          "height": 280
        },
        "id": "vN4jMKlCbghO",
        "outputId": "cff9fdce-4aa9-49c6-a2ba-f88f51104bd5"
      },
      "outputs": [
        {
          "name": "stderr",
          "output_type": "stream",
          "text": [
            "Clipping input data to the valid range for imshow with RGB data ([0..1] for floats or [0..255] for integers).\n"
          ]
        },
        {
          "data": {
            "application/pdf": "[encoded data removed]",
            "image/svg+xml": [
              "<?xml version=\"1.0\" encoding=\"utf-8\" standalone=\"no\"?>\n",
              "<!DOCTYPE svg PUBLIC \"-//W3C//DTD SVG 1.1//EN\"\n",
              "  \"http://www.w3.org/Graphics/SVG/1.1/DTD/svg11.dtd\">\n",
              "<svg xmlns:xlink=\"http://www.w3.org/1999/xlink\" width=\"341.674839pt\" height=\"180.72pt\" viewBox=\"0 0 341.674839 180.72\" xmlns=\"http://www.w3.org/2000/svg\" version=\"1.1\">\n",
              " <metadata>\n",
              "  <rdf:RDF xmlns:dc=\"http://purl.org/dc/elements/1.1/\" xmlns:cc=\"http://creativecommons.org/ns#\" xmlns:rdf=\"http://www.w3.org/1999/02/22-rdf-syntax-ns#\">\n",
              "   <cc:Work>\n",
              "    <dc:type rdf:resource=\"http://purl.org/dc/dcmitype/StillImage\"/>\n",
              "    <dc:date>2024-07-12T23:16:06.591352</dc:date>\n",
              "    <dc:format>image/svg+xml</dc:format>\n",
              "    <dc:creator>\n",
              "     <cc:Agent>\n",
              "      <dc:title>Matplotlib v3.8.4, https://matplotlib.org/</dc:title>\n",
              "     </cc:Agent>\n",
              "    </dc:creator>\n",
              "   </cc:Work>\n",
              "  </rdf:RDF>\n",
              " </metadata>\n",
              " <defs>\n",
              "  <style type=\"text/css\">*{stroke-linejoin: round; stroke-linecap: butt}</style>\n",
              " </defs>\n",
              " <g id=\"figure_1\">\n",
              "  <g id=\"patch_1\">\n",
              "   <path d=\"M 0 180.72 \n",
              "L 341.674839 180.72 \n",
              "L 341.674839 0 \n",
              "L 0 0 \n",
              "z\n",
              "\" style=\"fill: #ffffff\"/>\n",
              "  </g>\n",
              "  <g id=\"axes_1\">\n",
              "   <g clip-path=\"url(#p3ed77b8343)\">\n",
              "    <image xlink:href=\"data:image/png;base64,\n",
              "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\" id=\"image00a6a83bbf\" transform=\"scale(1 -1) translate(0 -166.32)\" x=\"7.2\" y=\"-7.2\" width=\"327.6\" height=\"166.32\"/>\n",
              "   </g>\n",
              "  </g>\n",
              " </g>\n",
              " <defs>\n",
              "  <clipPath id=\"p3ed77b8343\">\n",
              "   <rect x=\"7.2\" y=\"7.2\" width=\"327.274839\" height=\"166.32\"/>\n",
              "  </clipPath>\n",
              " </defs>\n",
              "</svg>\n"
            ],
            "text/plain": [
              "<Figure size 600x300 with 1 Axes>"
            ]
          },
          "metadata": {},
          "output_type": "display_data"
        }
      ],
      "source": [
        "def show_imgs(imgs):\n",
        "    imgs = [img.view(1, 28, 28) for img in imgs] #unflatten images\n",
        "    num_imgs = imgs.shape[0] if isinstance(imgs, torch.Tensor) else len(imgs)\n",
        "    nrow = min(num_imgs, 4)\n",
        "    ncol = int(math.ceil(num_imgs/nrow))\n",
        "    imgs = torchvision.utils.make_grid(imgs, nrow=nrow, pad_value=128)\n",
        "    imgs = imgs.clamp(min=0, max=255)\n",
        "    np_imgs = imgs.cpu().numpy()\n",
        "    plt.figure(figsize=(1.5*nrow, 1.5*ncol))\n",
        "    plt.imshow(np.transpose(np_imgs, (1,2,0)), interpolation='nearest')\n",
        "    plt.axis('off')\n",
        "    plt.show()\n",
        "    plt.close()\n",
        "\n",
        "show_imgs([train_set[i][0] for i in range(8)])"
      ]
    },
    {
      "cell_type": "code",
      "execution_count": 4,
      "metadata": {},
      "outputs": [],
      "source": [
        "class MLP(nn.Module):\n",
        "    def __init__(self, input_dim):\n",
        "        super(MLP, self).__init__()\n",
        "        self.layers = nn.Sequential(\n",
        "            nn.Linear(input_dim, input_dim // 2),\n",
        "            nn.BatchNorm1d(input_dim // 2),\n",
        "            nn.ReLU(),\n",
        "            nn.Linear(input_dim // 2, input_dim // 4 ),\n",
        "            nn.BatchNorm1d(input_dim // 4),\n",
        "            nn.ReLU(),\n",
        "            nn.Linear(input_dim // 4 , input_dim // 4 ),\n",
        "            nn.BatchNorm1d(input_dim // 4),\n",
        "            nn.ReLU(),\n",
        "            nn.Linear(input_dim // 4 , input_dim // 2 ),\n",
        "            nn.BatchNorm1d(input_dim // 2),\n",
        "            nn.ReLU(),\n",
        "            nn.Linear(input_dim // 2 , input_dim)\n",
        "        )\n",
        "        # self.layers = nn.Sequential(\n",
        "        #     nn.Linear(input_dim, input_dim * 2 ),\n",
        "        #     nn.BatchNorm1d(input_dim * 2),\n",
        "        #     nn.ReLU(),\n",
        "        #     nn.Linear(input_dim * 2 , input_dim * 2 ),\n",
        "        #     nn.BatchNorm1d(input_dim * 2 ),\n",
        "        #     nn.ReLU(),\n",
        "        #     nn.Linear(input_dim * 2  , input_dim * 2 ),\n",
        "        #     nn.BatchNorm1d(input_dim * 2 ),\n",
        "        #     nn.ReLU(),\n",
        "        #     nn.Linear(input_dim * 2  , input_dim * 2 ),\n",
        "        #     nn.BatchNorm1d(input_dim * 2 ),\n",
        "        #     nn.ReLU(),\n",
        "        #     nn.Linear(input_dim * 2  , input_dim)\n",
        "        # )\n",
        "\n",
        "\n",
        "    def forward(self, x):\n",
        "        self.to(x.device)\n",
        "        return self.layers(x)\n",
        "\n",
        "class NormalizingFlowLayer2(nn.Module):\n",
        "    def __init__(self, input_dim):\n",
        "        super().__init__()\n",
        "        self.input_dim = input_dim\n",
        "        self.mlp = MLP(input_dim // 2)\n",
        "        self.scale = nn.Parameter(torch.randn(input_dim, device=device) * 0.01).to(device)    \n",
        "        \n",
        "    def forward(self, x, alternate, inverse = False):\n",
        "        if not inverse:\n",
        "            x1, x2 = torch.chunk(x, 2, dim=1)\n",
        "            if alternate:\n",
        "                x2 = x2 + self.mlp(x1)\n",
        "            else:\n",
        "                x1 = x1 + self.mlp(x2)\n",
        "            x = torch.cat([x1, x2], dim=1)\n",
        "            x = x * torch.exp(self.scale)\n",
        "            logdet = torch.sum(self.scale, dim=-1)\n",
        "        else:\n",
        "            x = x * torch.exp(-self.scale.to(device))\n",
        "            x1, x2 = torch.chunk(x, 2, dim=1)\n",
        "            if alternate:\n",
        "                x2 = x2 - self.mlp(x1)\n",
        "            else:\n",
        "                x1 = x1 - self.mlp(x2)\n",
        "            x = torch.cat([x1, x2], dim=1)\n",
        "            logdet = -torch.sum(self.scale, dim=-1)\n",
        "        return x, logdet\n",
        "    \n",
        "        \n",
        "class NormalizingFlowModel2(pl.LightningModule):\n",
        "    def __init__(self,input_dim, num_flows):\n",
        "        super().__init__()\n",
        "        self.input_dim = input_dim\n",
        "        self.num_flows = num_flows\n",
        "        self.transforms = nn.ModuleList([NormalizingFlowLayer2(input_dim) for _ in range(num_flows)])\n",
        "\n",
        "    def forward(self, x):\n",
        "        logdet = torch.zeros(x.shape[0], device=x.device)\n",
        "        alternate = False\n",
        "        for transform in self.transforms:\n",
        "            x, ld = transform(x, alternate)\n",
        "            logdet += ld\n",
        "            alternate = not alternate\n",
        "        return x, logdet\n",
        "    \n",
        "    def inverse(self, x):\n",
        "        logdet = torch.zeros(x.shape[0], device=x.device)\n",
        "        alternate = True\n",
        "        for transform in reversed(self.transforms):\n",
        "            x, ld = transform(x, alternate, inverse=True)\n",
        "            logdet += ld\n",
        "            alternate = not alternate\n",
        "        return x, logdet\n",
        "    \n",
        "    def calc_likelihood(self, x):\n",
        "        z, logdet = self.forward(x)\n",
        "        logPz = -0.5 * torch.sum(z**2, dim=1) - 0.5 * self.input_dim * math.log(2 * math.pi)\n",
        "\n",
        "        # log_det = torch.mean(log_det)\n",
        "        # log2pi = torch.log(torch.tensor(2*np.pi))\n",
        "        # norm_factor = - 0.5  * 28*28 * log2pi\n",
        "        # logPz = torch.mean(-0.5 * torch.pow(z,2).sum(1)) + norm_factor # (-1/2) ||z-mu||^2\n",
        "        return logPz + logdet\n",
        "    \n",
        "    @torch.no_grad()\n",
        "    def sample(self, num_samples):\n",
        "        z = torch.randn(num_samples, self.input_dim, device=device)\n",
        "        x,_ = self.inverse(z)\n",
        "        return x\n",
        "\n",
        "    def configure_optimizers(self):\n",
        "        optimizer = optim.Adam(self.parameters(), lr=1e-3, weight_decay=1e-5)\n",
        "        scheduler = optim.lr_scheduler.StepLR(optimizer, 1, gamma=0.99)\n",
        "        return [optimizer], [scheduler]\n",
        "\n",
        "    def training_step(self, batch, batch_idx):\n",
        "        x, _ = batch\n",
        "        log_likelihood = self.calc_likelihood(x).mean()\n",
        "        loss = -log_likelihood\n",
        "        self.log('train_log_likelihood', log_likelihood)\n",
        "        return loss\n",
        "    \n",
        "    def validation_step(self, batch, batch_idx):\n",
        "        x, _ = batch\n",
        "        log_likelihood = self.calc_likelihood(x).mean()\n",
        "        loss = -log_likelihood\n",
        "        self.log('val_log_likelihood', log_likelihood)\n",
        "        return loss\n",
        "\n",
        "    def test_step(self, batch, batch_idx):\n",
        "        x, _ = batch\n",
        "        log_likelihood = self.calc_likelihood(x).mean()\n",
        "        loss = -log_likelihood\n",
        "        self.log('test_log_likelihood', log_likelihood)\n",
        "        return loss\n"
      ]
    },
    {
      "cell_type": "code",
      "execution_count": 5,
      "metadata": {
        "id": "3n_VPsTYbghP"
      },
      "outputs": [],
      "source": [
        "# class MLP(nn.Module):\n",
        "#     def __init__(self, input_dim):\n",
        "#         super(MLP, self).__init__()\n",
        "#         self.layers = nn.Sequential(\n",
        "#             nn.Linear(input_dim, input_dim * 4),\n",
        "#             nn.LeakyReLU(),\n",
        "#             nn.Linear(input_dim * 4, input_dim * 4),\n",
        "#             nn.LeakyReLU(),\n",
        "#             nn.Linear(input_dim * 4, input_dim * 4),\n",
        "#             nn.LeakyReLU(),\n",
        "#             nn.Linear(input_dim * 4, input_dim * 4),\n",
        "#             nn.LeakyReLU(),\n",
        "#             nn.Linear(input_dim * 4 , input_dim)\n",
        "#         )\n",
        "\n",
        "#     def forward(self, x):\n",
        "#         self.to(x.device)\n",
        "#         return self.layers(x)\n",
        "\n",
        "# class NormalizingFlowLayer(nn.Module):\n",
        "#     def __init__(self, input_dim):\n",
        "#         super(NormalizingFlowLayer, self).__init__()\n",
        "#         self.input_dim = input_dim\n",
        "#         self.scale = nn.Parameter(torch.zeros(input_dim))\n",
        "#         self.mlp = MLP(input_dim)\n",
        "    \n",
        "#     def forward(self, x1, x2):\n",
        "#         s = self.mlp(x1)\n",
        "#         s = torch.tanh(s/self.scale.exp()) * self.scale.exp()\n",
        "#         z1 = x1 * torch.exp(s)\n",
        "#         z = torch.cat([z1, x2], dim=1)\n",
        "#         log_det_jacobian = s.sum(dim=1)\n",
        "#         return z, log_det_jacobian\n",
        "    \n",
        "#     def inverse(self, z1, z2):\n",
        "#         self.to(z1.device)\n",
        "#         s = self.mlp(z1)\n",
        "#         s = torch.tanh(s/self.scale.exp()) * self.scale.exp()\n",
        "#         x1 = z1 * torch.exp(-s)\n",
        "#         x = torch.cat([x1, z2], dim=1)\n",
        "#         return x\n",
        "\n",
        "\n",
        "# class NormalizingFlowModel(pl.LightningModule):\n",
        "     \n",
        "#     def __init__(self, input_dim, num_flows):\n",
        "#         super().__init__()\n",
        "#         self.save_hyperparameters()\n",
        "#         self.input_dim = input_dim\n",
        "#         self.flows = nn.ModuleList([NormalizingFlowLayer(input_dim // 2) for _ in range(num_flows)])\n",
        "#         self.prior = torch.distributions.multivariate_normal.MultivariateNormal(torch.zeros(input_dim,device=device), torch.eye(input_dim, device=device))\n",
        "\n",
        "    \n",
        "#     def forward(self, x):\n",
        "#         log_det_jacobian = torch.zeros(x.size(0), device=x.device)\n",
        "#         alternate = False\n",
        "#         for flow in self.flows:\n",
        "#             x1, x2 = x.chunk(2, dim=1)\n",
        "#             if alternate:\n",
        "#                 x1, x2 = x2, x1\n",
        "#             x, ldj = flow(x1, x2)\n",
        "#             log_det_jacobian += ldj\n",
        "#             alternate = not alternate\n",
        "#         return x, log_det_jacobian\n",
        "    \n",
        "#     def inverse(self, z):\n",
        "#         alternate = False\n",
        "#         for flow in reversed(self.flows):\n",
        "#             z1, z2 = z.chunk(2, dim=1)\n",
        "#             if alternate:\n",
        "#                 z1, z2 = z2, z1\n",
        "#             z = flow.inverse(z1, z2)\n",
        "#             alternate = not alternate\n",
        "#         return z\n",
        "    \n",
        "#     def calc_likelihood(self, x):\n",
        "#         z, log_det_jacobian = self.forward(x)\n",
        "#         log_pz = self.prior.log_prob(z)\n",
        "#         #prior_ll = -0.5 * torch.sum(z**2 + np.log(2 * np.pi), dim=-1)\n",
        "#         return log_pz + log_det_jacobian\n",
        "\n",
        "#     @torch.no_grad()\n",
        "#     def sample(self, num_samples):\n",
        "#         z = self.prior.sample((num_samples,)).to(device)\n",
        "#         x = self.inverse(z)\n",
        "#         return x\n",
        "\n",
        "#     def configure_optimizers(self):\n",
        "#         optimizer = optim.Adam(self.parameters(), lr=1e-3)\n",
        "#         scheduler = optim.lr_scheduler.StepLR(optimizer, 1, gamma=0.99)\n",
        "#         return [optimizer], [scheduler]\n",
        "\n",
        "#     def training_step(self, batch, batch_idx):\n",
        "#         x, _ = batch\n",
        "#         log_likelihood = self.calc_likelihood(x).mean()\n",
        "#         loss = -log_likelihood\n",
        "#         self.log('train_log_likelihood', log_likelihood)\n",
        "#         return loss\n",
        "    \n",
        "#     def validation_step(self, batch, batch_idx):\n",
        "#         x, _ = batch\n",
        "#         log_likelihood = self.calc_likelihood(x).mean()\n",
        "#         loss = -log_likelihood\n",
        "#         self.log('val_log_likelihood', log_likelihood)\n",
        "#         return loss\n",
        "\n",
        "#     def test_step(self, batch, batch_idx):\n",
        "#         x, _ = batch\n",
        "#         log_likelihood = self.calc_likelihood(x).mean()\n",
        "#         loss = -log_likelihood\n",
        "#         self.log('test_log_likelihood', log_likelihood)\n",
        "#         return loss\n",
        "\n"
      ]
    },
    {
      "cell_type": "code",
      "execution_count": 6,
      "metadata": {
        "id": "g1zeMtu3bghQ"
      },
      "outputs": [],
      "source": [
        "def train_model(use_pretrained = False, pretrained_path = \"\", **kwargs):\n",
        "    logger = TensorBoardLogger(\"tb_logs\", name=\"Flows-ex6\")\n",
        "    # Create a PyTorch Lightning trainer with the generation callback\n",
        "    trainer = pl.Trainer(default_root_dir=os.path.join(CHECKPOINT_PATH, \"Flows-ex6\"),\n",
        "                         accelerator=\"gpu\" if str(device).startswith(\"cuda\") else \"cpu\",\n",
        "                         devices=1,\n",
        "                         logger = logger,\n",
        "                         max_epochs=150,\n",
        "                         callbacks=[ModelCheckpoint(save_weights_only=True, mode=\"min\", monitor=\"val_log_likelihood\"),\n",
        "                                    LearningRateMonitor(\"epoch\")])\n",
        "    result = None\n",
        "\n",
        "    # Check whether pretrained model exists. If yes, load it and skip training\n",
        "    if os.path.isfile(pretrained_path) and use_pretrained:\n",
        "        print(\"Found pretrained model, loading...\")\n",
        "        model = NormalizingFlowModel2.load_from_checkpoint(pretrained_path)\n",
        "        ckpt = torch.load(pretrained_path, map_location=device)\n",
        "        result = ckpt.get(\"result\", None)\n",
        "    else:\n",
        "        model = NormalizingFlowModel2(**kwargs)\n",
        "        trainer.fit(model, train_loader, val_loader)\n",
        "    model = model.to(device)\n",
        "\n",
        "    if result is None:\n",
        "        # Test best model on validation and test set\n",
        "        val_result = trainer.test(model, val_loader, verbose=False)\n",
        "        test_result = trainer.test(model, test_loader, verbose=False)\n",
        "        result = {\"test\": test_result, \"val\": val_result}\n",
        "    return model, result"
      ]
    },
    {
      "cell_type": "code",
      "execution_count": 7,
      "metadata": {
        "id": "Ogctk_HbbghQ"
      },
      "outputs": [],
      "source": [
        "#All graphs taken from tensorboard\n",
        "\n",
        "# %load_ext tensorboard\n",
        "# %tensorboard --logdir tb_logs"
      ]
    },
    {
      "cell_type": "code",
      "execution_count": 8,
      "metadata": {
        "colab": {
          "base_uri": "https://localhost:8080/",
          "height": 222,
          "referenced_widgets": [
            "955a0c6dbfbe4a7089f0ffd6c22cc72f",
            "e646fb573b2047d9a54ffa7e420561e8",
            "411b1f11155f437fb31a52d8bd954d53",
            "0791d07a942e474daa97b181846b55a1",
            "827c6a13c52149259e3728e4d4e644b2",
            "e74e08c9fb654724acc8373e356edf01",
            "446e703b0c4140b091570386f4dd874a",
            "5835871934b444e1bd84bc30e276cb0b",
            "c02ae0c813964142bb9f66c2a361c9ac",
            "46c93a5cf1c8421aa0fc1e217c2e229d",
            "645df64423fc4de3b22532404d4b6d44",
            "66321ec3082c4f2e82004f36841027a6",
            "43b4ba6b4bf64af485b9e1252a8b6287",
            "b1cfd5928a144458adc0ce7415ef6010",
            "0e31f520164a4bf7babb984d23f6d70b",
            "ee0044f500d742a7bac85586d44b9929",
            "2e6e6d0f2d5a4b1c87abd1920b1bdc4b",
            "29184af70bd542a68c9f07d6c540aa09",
            "01664b9aedb8488a9f4031aa3492e4c0",
            "a97f2d91d86d4a0aa13f14ab2115ae21",
            "b1f903d69e6849f693a475df3316979f",
            "2a6bd5516ebb40c1956559052323d50d"
          ]
        },
        "id": "Za6-69NWbghR",
        "outputId": "7cfd08dd-38d4-4ab0-abef-ef56170cc0b2"
      },
      "outputs": [
        {
          "name": "stderr",
          "output_type": "stream",
          "text": [
            "GPU available: True (cuda), used: True\n",
            "TPU available: False, using: 0 TPU cores\n",
            "IPU available: False, using: 0 IPUs\n",
            "HPU available: False, using: 0 HPUs\n",
            "You are using a CUDA device ('NVIDIA GeForce RTX 4080') that has Tensor Cores. To properly utilize them, you should set `torch.set_float32_matmul_precision('medium' | 'high')` which will trade-off precision for performance. For more details, read https://pytorch.org/docs/stable/generated/torch.set_float32_matmul_precision.html#torch.set_float32_matmul_precision\n",
            "LOCAL_RANK: 0 - CUDA_VISIBLE_DEVICES: [0]\n",
            "\n",
            "  | Name       | Type       | Params\n",
            "------------------------------------------\n",
            "0 | transforms | ModuleList | 9.9 M \n",
            "------------------------------------------\n",
            "9.9 M     Trainable params\n",
            "0         Non-trainable params\n",
            "9.9 M     Total params\n",
            "39.507    Total estimated model params size (MB)\n"
          ]
        },
        {
          "data": {
            "application/vnd.jupyter.widget-view+json": {
              "model_id": "4418e73484824929bc9ed1a1946ade68",
              "version_major": 2,
              "version_minor": 0
            },
            "text/plain": [
              "Sanity Checking: 0it [00:00, ?it/s]"
            ]
          },
          "metadata": {},
          "output_type": "display_data"
        },
        {
          "name": "stderr",
          "output_type": "stream",
          "text": [
            "c:\\Users\\Danny\\AppData\\Local\\Programs\\Python\\Python311\\Lib\\site-packages\\pytorch_lightning\\trainer\\connectors\\data_connector.py:442: PossibleUserWarning: The dataloader, val_dataloader, does not have many workers which may be a bottleneck. Consider increasing the value of the `num_workers` argument` (try 20 which is the number of cpus on this machine) in the `DataLoader` init to improve performance.\n",
            "  rank_zero_warn(\n",
            "c:\\Users\\Danny\\AppData\\Local\\Programs\\Python\\Python311\\Lib\\site-packages\\pytorch_lightning\\trainer\\connectors\\data_connector.py:442: PossibleUserWarning: The dataloader, train_dataloader, does not have many workers which may be a bottleneck. Consider increasing the value of the `num_workers` argument` (try 20 which is the number of cpus on this machine) in the `DataLoader` init to improve performance.\n",
            "  rank_zero_warn(\n"
          ]
        },
        {
          "data": {
            "application/vnd.jupyter.widget-view+json": {
              "model_id": "70d3f098c08c48ae95047db3075f6540",
              "version_major": 2,
              "version_minor": 0
            },
            "text/plain": [
              "Training: 0it [00:00, ?it/s]"
            ]
          },
          "metadata": {},
          "output_type": "display_data"
        },
        {
          "data": {
            "application/vnd.jupyter.widget-view+json": {
              "model_id": "eb22af3871a94e9c9043ef5dadf62668",
              "version_major": 2,
              "version_minor": 0
            },
            "text/plain": [
              "Validation: 0it [00:00, ?it/s]"
            ]
          },
          "metadata": {},
          "output_type": "display_data"
        },
        {
          "data": {
            "application/vnd.jupyter.widget-view+json": {
              "model_id": "281f7cd465a24e9c9957eaaf8b426587",
              "version_major": 2,
              "version_minor": 0
            },
            "text/plain": [
              "Validation: 0it [00:00, ?it/s]"
            ]
          },
          "metadata": {},
          "output_type": "display_data"
        },
        {
          "data": {
            "application/vnd.jupyter.widget-view+json": {
              "model_id": "d80e4f3c13e549939ad22b2cc88aabf0",
              "version_major": 2,
              "version_minor": 0
            },
            "text/plain": [
              "Validation: 0it [00:00, ?it/s]"
            ]
          },
          "metadata": {},
          "output_type": "display_data"
        },
        {
          "data": {
            "application/vnd.jupyter.widget-view+json": {
              "model_id": "79e8328a9f914f21a91437b9eacfe988",
              "version_major": 2,
              "version_minor": 0
            },
            "text/plain": [
              "Validation: 0it [00:00, ?it/s]"
            ]
          },
          "metadata": {},
          "output_type": "display_data"
        },
        {
          "data": {
            "application/vnd.jupyter.widget-view+json": {
              "model_id": "ce1ac298a9554e7b819733125f487419",
              "version_major": 2,
              "version_minor": 0
            },
            "text/plain": [
              "Validation: 0it [00:00, ?it/s]"
            ]
          },
          "metadata": {},
          "output_type": "display_data"
        },
        {
          "data": {
            "application/vnd.jupyter.widget-view+json": {
              "model_id": "b4091524a2604eec8a4fb9759a25e5ef",
              "version_major": 2,
              "version_minor": 0
            },
            "text/plain": [
              "Validation: 0it [00:00, ?it/s]"
            ]
          },
          "metadata": {},
          "output_type": "display_data"
        },
        {
          "data": {
            "application/vnd.jupyter.widget-view+json": {
              "model_id": "aca94626e78041e7b6fa8c6b04ffbf1c",
              "version_major": 2,
              "version_minor": 0
            },
            "text/plain": [
              "Validation: 0it [00:00, ?it/s]"
            ]
          },
          "metadata": {},
          "output_type": "display_data"
        },
        {
          "data": {
            "application/vnd.jupyter.widget-view+json": {
              "model_id": "8209d3ad7e4b43fc8ae0bcf748e705d9",
              "version_major": 2,
              "version_minor": 0
            },
            "text/plain": [
              "Validation: 0it [00:00, ?it/s]"
            ]
          },
          "metadata": {},
          "output_type": "display_data"
        },
        {
          "data": {
            "application/vnd.jupyter.widget-view+json": {
              "model_id": "a7f8a9856e134bdc933a9a2bd94f4d7f",
              "version_major": 2,
              "version_minor": 0
            },
            "text/plain": [
              "Validation: 0it [00:00, ?it/s]"
            ]
          },
          "metadata": {},
          "output_type": "display_data"
        },
        {
          "data": {
            "application/vnd.jupyter.widget-view+json": {
              "model_id": "c7473a07618846868cc8cea5270aa6aa",
              "version_major": 2,
              "version_minor": 0
            },
            "text/plain": [
              "Validation: 0it [00:00, ?it/s]"
            ]
          },
          "metadata": {},
          "output_type": "display_data"
        },
        {
          "data": {
            "application/vnd.jupyter.widget-view+json": {
              "model_id": "e3cfb7a537064826ad37435e83c148ea",
              "version_major": 2,
              "version_minor": 0
            },
            "text/plain": [
              "Validation: 0it [00:00, ?it/s]"
            ]
          },
          "metadata": {},
          "output_type": "display_data"
        },
        {
          "data": {
            "application/vnd.jupyter.widget-view+json": {
              "model_id": "867109ca449b4f0cb4ca29aee1490ea1",
              "version_major": 2,
              "version_minor": 0
            },
            "text/plain": [
              "Validation: 0it [00:00, ?it/s]"
            ]
          },
          "metadata": {},
          "output_type": "display_data"
        },
        {
          "data": {
            "application/vnd.jupyter.widget-view+json": {
              "model_id": "1a1a6dcba0f14067a12e53818d27d3b5",
              "version_major": 2,
              "version_minor": 0
            },
            "text/plain": [
              "Validation: 0it [00:00, ?it/s]"
            ]
          },
          "metadata": {},
          "output_type": "display_data"
        },
        {
          "data": {
            "application/vnd.jupyter.widget-view+json": {
              "model_id": "83e9177097054219abe44a104b2810da",
              "version_major": 2,
              "version_minor": 0
            },
            "text/plain": [
              "Validation: 0it [00:00, ?it/s]"
            ]
          },
          "metadata": {},
          "output_type": "display_data"
        },
        {
          "data": {
            "application/vnd.jupyter.widget-view+json": {
              "model_id": "1c6b5f8e4cba40d4ae64cb7516284a4e",
              "version_major": 2,
              "version_minor": 0
            },
            "text/plain": [
              "Validation: 0it [00:00, ?it/s]"
            ]
          },
          "metadata": {},
          "output_type": "display_data"
        },
        {
          "data": {
            "application/vnd.jupyter.widget-view+json": {
              "model_id": "965ef201a7b741258ad4b429c691b097",
              "version_major": 2,
              "version_minor": 0
            },
            "text/plain": [
              "Validation: 0it [00:00, ?it/s]"
            ]
          },
          "metadata": {},
          "output_type": "display_data"
        },
        {
          "data": {
            "application/vnd.jupyter.widget-view+json": {
              "model_id": "134820f8debf462fa43d0a3d3b31eb63",
              "version_major": 2,
              "version_minor": 0
            },
            "text/plain": [
              "Validation: 0it [00:00, ?it/s]"
            ]
          },
          "metadata": {},
          "output_type": "display_data"
        },
        {
          "data": {
            "application/vnd.jupyter.widget-view+json": {
              "model_id": "8619c20f3c6e4427bcafc9f68a18def6",
              "version_major": 2,
              "version_minor": 0
            },
            "text/plain": [
              "Validation: 0it [00:00, ?it/s]"
            ]
          },
          "metadata": {},
          "output_type": "display_data"
        },
        {
          "data": {
            "application/vnd.jupyter.widget-view+json": {
              "model_id": "fe2326138fd24dce9d780a943dddc0bf",
              "version_major": 2,
              "version_minor": 0
            },
            "text/plain": [
              "Validation: 0it [00:00, ?it/s]"
            ]
          },
          "metadata": {},
          "output_type": "display_data"
        },
        {
          "data": {
            "application/vnd.jupyter.widget-view+json": {
              "model_id": "cbcbdf8345f94c62b335af6f16fe0e9b",
              "version_major": 2,
              "version_minor": 0
            },
            "text/plain": [
              "Validation: 0it [00:00, ?it/s]"
            ]
          },
          "metadata": {},
          "output_type": "display_data"
        },
        {
          "data": {
            "application/vnd.jupyter.widget-view+json": {
              "model_id": "8c006cbc44e8460fb0ae61bd6a442ce4",
              "version_major": 2,
              "version_minor": 0
            },
            "text/plain": [
              "Validation: 0it [00:00, ?it/s]"
            ]
          },
          "metadata": {},
          "output_type": "display_data"
        },
        {
          "data": {
            "application/vnd.jupyter.widget-view+json": {
              "model_id": "4d18d243c1d248c49bbd7f8dfde6fa1b",
              "version_major": 2,
              "version_minor": 0
            },
            "text/plain": [
              "Validation: 0it [00:00, ?it/s]"
            ]
          },
          "metadata": {},
          "output_type": "display_data"
        },
        {
          "data": {
            "application/vnd.jupyter.widget-view+json": {
              "model_id": "161dc1c1c94d483783c6ba64c5d553a0",
              "version_major": 2,
              "version_minor": 0
            },
            "text/plain": [
              "Validation: 0it [00:00, ?it/s]"
            ]
          },
          "metadata": {},
          "output_type": "display_data"
        },
        {
          "data": {
            "application/vnd.jupyter.widget-view+json": {
              "model_id": "43cf187cb410413eb44f9bd1f5955c0f",
              "version_major": 2,
              "version_minor": 0
            },
            "text/plain": [
              "Validation: 0it [00:00, ?it/s]"
            ]
          },
          "metadata": {},
          "output_type": "display_data"
        },
        {
          "data": {
            "application/vnd.jupyter.widget-view+json": {
              "model_id": "b2f0a4c71b614576881f56162e1c627c",
              "version_major": 2,
              "version_minor": 0
            },
            "text/plain": [
              "Validation: 0it [00:00, ?it/s]"
            ]
          },
          "metadata": {},
          "output_type": "display_data"
        },
        {
          "data": {
            "application/vnd.jupyter.widget-view+json": {
              "model_id": "f078ef2a00b240deaeef3616454ac498",
              "version_major": 2,
              "version_minor": 0
            },
            "text/plain": [
              "Validation: 0it [00:00, ?it/s]"
            ]
          },
          "metadata": {},
          "output_type": "display_data"
        },
        {
          "data": {
            "application/vnd.jupyter.widget-view+json": {
              "model_id": "8c2fc40598bc4beea7f59a49f3224839",
              "version_major": 2,
              "version_minor": 0
            },
            "text/plain": [
              "Validation: 0it [00:00, ?it/s]"
            ]
          },
          "metadata": {},
          "output_type": "display_data"
        },
        {
          "data": {
            "application/vnd.jupyter.widget-view+json": {
              "model_id": "848fe493690d445aa4cf50d2e5ae2249",
              "version_major": 2,
              "version_minor": 0
            },
            "text/plain": [
              "Validation: 0it [00:00, ?it/s]"
            ]
          },
          "metadata": {},
          "output_type": "display_data"
        },
        {
          "data": {
            "application/vnd.jupyter.widget-view+json": {
              "model_id": "770d2fdb6fd9461e852e77909d22224a",
              "version_major": 2,
              "version_minor": 0
            },
            "text/plain": [
              "Validation: 0it [00:00, ?it/s]"
            ]
          },
          "metadata": {},
          "output_type": "display_data"
        },
        {
          "data": {
            "application/vnd.jupyter.widget-view+json": {
              "model_id": "7009e10036bb4e068eb9b67be842eda8",
              "version_major": 2,
              "version_minor": 0
            },
            "text/plain": [
              "Validation: 0it [00:00, ?it/s]"
            ]
          },
          "metadata": {},
          "output_type": "display_data"
        },
        {
          "data": {
            "application/vnd.jupyter.widget-view+json": {
              "model_id": "d5b605805afe4fdf86a512424b2804d0",
              "version_major": 2,
              "version_minor": 0
            },
            "text/plain": [
              "Validation: 0it [00:00, ?it/s]"
            ]
          },
          "metadata": {},
          "output_type": "display_data"
        },
        {
          "data": {
            "application/vnd.jupyter.widget-view+json": {
              "model_id": "883ed25e997e4133997bcf33ae2e594d",
              "version_major": 2,
              "version_minor": 0
            },
            "text/plain": [
              "Validation: 0it [00:00, ?it/s]"
            ]
          },
          "metadata": {},
          "output_type": "display_data"
        },
        {
          "data": {
            "application/vnd.jupyter.widget-view+json": {
              "model_id": "918743d247d94c719f71bf6911170807",
              "version_major": 2,
              "version_minor": 0
            },
            "text/plain": [
              "Validation: 0it [00:00, ?it/s]"
            ]
          },
          "metadata": {},
          "output_type": "display_data"
        },
        {
          "data": {
            "application/vnd.jupyter.widget-view+json": {
              "model_id": "bd82904ec50744539e914f164d8409aa",
              "version_major": 2,
              "version_minor": 0
            },
            "text/plain": [
              "Validation: 0it [00:00, ?it/s]"
            ]
          },
          "metadata": {},
          "output_type": "display_data"
        },
        {
          "data": {
            "application/vnd.jupyter.widget-view+json": {
              "model_id": "fb15438a521e42b3902a88e6b0e9d70e",
              "version_major": 2,
              "version_minor": 0
            },
            "text/plain": [
              "Validation: 0it [00:00, ?it/s]"
            ]
          },
          "metadata": {},
          "output_type": "display_data"
        },
        {
          "data": {
            "application/vnd.jupyter.widget-view+json": {
              "model_id": "06827728e8b54503bd53d0b0286d5514",
              "version_major": 2,
              "version_minor": 0
            },
            "text/plain": [
              "Validation: 0it [00:00, ?it/s]"
            ]
          },
          "metadata": {},
          "output_type": "display_data"
        },
        {
          "data": {
            "application/vnd.jupyter.widget-view+json": {
              "model_id": "3460b8645ae94647be6f42ef2ea093af",
              "version_major": 2,
              "version_minor": 0
            },
            "text/plain": [
              "Validation: 0it [00:00, ?it/s]"
            ]
          },
          "metadata": {},
          "output_type": "display_data"
        },
        {
          "data": {
            "application/vnd.jupyter.widget-view+json": {
              "model_id": "abcfde9ab40b43c2bac1cd7b06fc2418",
              "version_major": 2,
              "version_minor": 0
            },
            "text/plain": [
              "Validation: 0it [00:00, ?it/s]"
            ]
          },
          "metadata": {},
          "output_type": "display_data"
        },
        {
          "data": {
            "application/vnd.jupyter.widget-view+json": {
              "model_id": "517a963111504861abe7746137b1077c",
              "version_major": 2,
              "version_minor": 0
            },
            "text/plain": [
              "Validation: 0it [00:00, ?it/s]"
            ]
          },
          "metadata": {},
          "output_type": "display_data"
        },
        {
          "data": {
            "application/vnd.jupyter.widget-view+json": {
              "model_id": "acda86091c2c4c6ab6f9fee8efc75546",
              "version_major": 2,
              "version_minor": 0
            },
            "text/plain": [
              "Validation: 0it [00:00, ?it/s]"
            ]
          },
          "metadata": {},
          "output_type": "display_data"
        },
        {
          "data": {
            "application/vnd.jupyter.widget-view+json": {
              "model_id": "60c00b12fb334fefaf071090bf4aa4bf",
              "version_major": 2,
              "version_minor": 0
            },
            "text/plain": [
              "Validation: 0it [00:00, ?it/s]"
            ]
          },
          "metadata": {},
          "output_type": "display_data"
        },
        {
          "data": {
            "application/vnd.jupyter.widget-view+json": {
              "model_id": "48685436135748f48ecf191fd105efda",
              "version_major": 2,
              "version_minor": 0
            },
            "text/plain": [
              "Validation: 0it [00:00, ?it/s]"
            ]
          },
          "metadata": {},
          "output_type": "display_data"
        },
        {
          "data": {
            "application/vnd.jupyter.widget-view+json": {
              "model_id": "7d143a3a0142452a9bf7313b598411b6",
              "version_major": 2,
              "version_minor": 0
            },
            "text/plain": [
              "Validation: 0it [00:00, ?it/s]"
            ]
          },
          "metadata": {},
          "output_type": "display_data"
        },
        {
          "data": {
            "application/vnd.jupyter.widget-view+json": {
              "model_id": "c7b291aaed244f68a397da1198a8e053",
              "version_major": 2,
              "version_minor": 0
            },
            "text/plain": [
              "Validation: 0it [00:00, ?it/s]"
            ]
          },
          "metadata": {},
          "output_type": "display_data"
        },
        {
          "name": "stderr",
          "output_type": "stream",
          "text": [
            "c:\\Users\\Danny\\AppData\\Local\\Programs\\Python\\Python311\\Lib\\site-packages\\pytorch_lightning\\trainer\\call.py:53: UserWarning: Detected KeyboardInterrupt, attempting graceful shutdown...\n",
            "  rank_zero_warn(\"Detected KeyboardInterrupt, attempting graceful shutdown...\")\n",
            "LOCAL_RANK: 0 - CUDA_VISIBLE_DEVICES: [0]\n",
            "c:\\Users\\Danny\\AppData\\Local\\Programs\\Python\\Python311\\Lib\\site-packages\\pytorch_lightning\\trainer\\connectors\\data_connector.py:442: PossibleUserWarning: The dataloader, test_dataloader, does not have many workers which may be a bottleneck. Consider increasing the value of the `num_workers` argument` (try 20 which is the number of cpus on this machine) in the `DataLoader` init to improve performance.\n",
            "  rank_zero_warn(\n"
          ]
        },
        {
          "data": {
            "application/vnd.jupyter.widget-view+json": {
              "model_id": "8a02d3e10ad5450f8f846525491953ad",
              "version_major": 2,
              "version_minor": 0
            },
            "text/plain": [
              "Testing: 0it [00:00, ?it/s]"
            ]
          },
          "metadata": {},
          "output_type": "display_data"
        },
        {
          "name": "stderr",
          "output_type": "stream",
          "text": [
            "LOCAL_RANK: 0 - CUDA_VISIBLE_DEVICES: [0]\n"
          ]
        },
        {
          "data": {
            "application/vnd.jupyter.widget-view+json": {
              "model_id": "7dba309999394ed79032214ea8f04e8b",
              "version_major": 2,
              "version_minor": 0
            },
            "text/plain": [
              "Testing: 0it [00:00, ?it/s]"
            ]
          },
          "metadata": {},
          "output_type": "display_data"
        },
        {
          "name": "stdout",
          "output_type": "stream",
          "text": [
            "test_log_likelihood: 1672.980\n"
          ]
        }
      ],
      "source": [
        "# QUESTION 1 TRAIN\n",
        "pretrained_path = \"tb_logs//Flows-ex6//version_0//checkpoints//epoch=0-step=390.ckpt\"\n",
        "model, result = train_model(input_dim = 28*28, num_flows = 4, use_pretrained=False, pretrained_path=pretrained_path)\n",
        "test_res = result[\"test\"][0]\n",
        "print(\"test_log_likelihood: %4.3f\" % (test_res[\"test_loss\"] if \"test_loss\" in test_res else test_res[\"test_log_likelihood\"]))"
      ]
    },
    {
      "cell_type": "markdown",
      "metadata": {
        "id": "-AEQRjFMnsOZ"
      },
      "source": [
        "## Results\n",
        "<!-- <img src=\"https://raw.githubusercontent.com/daiyral/ex5/main/plots/q1/train_elbo.png\" alt=\"Training Loss (Non-Causal)\" width=\"1000\"/> -->"
      ]
    },
    {
      "cell_type": "code",
      "execution_count": 15,
      "metadata": {
        "colab": {
          "base_uri": "https://localhost:8080/",
          "height": 519
        },
        "id": "Y-W60K7vbghR",
        "outputId": "25b032f5-c0da-42e9-84a3-db9a8faa786d"
      },
      "outputs": [
        {
          "name": "stderr",
          "output_type": "stream",
          "text": [
            "Global seed set to 7\n",
            "Clipping input data to the valid range for imshow with RGB data ([0..1] for floats or [0..255] for integers).\n"
          ]
        },
        {
          "data": {
            "application/pdf": "[encoded data removed]",
            "image/svg+xml": [
              "<?xml version=\"1.0\" encoding=\"utf-8\" standalone=\"no\"?>\n",
              "<!DOCTYPE svg PUBLIC \"-//W3C//DTD SVG 1.1//EN\"\n",
              "  \"http://www.w3.org/Graphics/SVG/1.1/DTD/svg11.dtd\">\n",
              "<svg xmlns:xlink=\"http://www.w3.org/1999/xlink\" width=\"347.04pt\" height=\"347.04pt\" viewBox=\"0 0 347.04 347.04\" xmlns=\"http://www.w3.org/2000/svg\" version=\"1.1\">\n",
              " <metadata>\n",
              "  <rdf:RDF xmlns:dc=\"http://purl.org/dc/elements/1.1/\" xmlns:cc=\"http://creativecommons.org/ns#\" xmlns:rdf=\"http://www.w3.org/1999/02/22-rdf-syntax-ns#\">\n",
              "   <cc:Work>\n",
              "    <dc:type rdf:resource=\"http://purl.org/dc/dcmitype/StillImage\"/>\n",
              "    <dc:date>2024-07-12T23:25:33.612912</dc:date>\n",
              "    <dc:format>image/svg+xml</dc:format>\n",
              "    <dc:creator>\n",
              "     <cc:Agent>\n",
              "      <dc:title>Matplotlib v3.8.4, https://matplotlib.org/</dc:title>\n",
              "     </cc:Agent>\n",
              "    </dc:creator>\n",
              "   </cc:Work>\n",
              "  </rdf:RDF>\n",
              " </metadata>\n",
              " <defs>\n",
              "  <style type=\"text/css\">*{stroke-linejoin: round; stroke-linecap: butt}</style>\n",
              " </defs>\n",
              " <g id=\"figure_1\">\n",
              "  <g id=\"patch_1\">\n",
              "   <path d=\"M 0 347.04 \n",
              "L 347.04 347.04 \n",
              "L 347.04 -0 \n",
              "L 0 -0 \n",
              "z\n",
              "\" style=\"fill: #ffffff\"/>\n",
              "  </g>\n",
              "  <g id=\"axes_1\">\n",
              "   <g clip-path=\"url(#p91017a44fa)\">\n",
              "    <image xlink:href=\"data:image/png;base64,\n",
              "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\" id=\"image8d9439bd71\" transform=\"scale(1 -1) translate(0 -333.36)\" x=\"7.2\" y=\"-6.48\" width=\"332.64\" height=\"333.36\"/>\n",
              "   </g>\n",
              "  </g>\n",
              " </g>\n",
              " <defs>\n",
              "  <clipPath id=\"p91017a44fa\">\n",
              "   <rect x=\"7.2\" y=\"7.2\" width=\"332.64\" height=\"332.64\"/>\n",
              "  </clipPath>\n",
              " </defs>\n",
              "</svg>\n"
            ],
            "text/plain": [
              "<Figure size 600x600 with 1 Axes>"
            ]
          },
          "metadata": {},
          "output_type": "display_data"
        }
      ],
      "source": [
        "pl.seed_everything(7)\n",
        "samples = model.sample(num_samples=16)\n",
        "show_imgs(samples.cpu())"
      ]
    },
    {
      "cell_type": "code",
      "execution_count": null,
      "metadata": {
        "colab": {
          "base_uri": "https://localhost:8080/",
          "height": 1000
        },
        "id": "izH_hLrVnsOa",
        "outputId": "b76f8c99-f062-4444-c962-7eae9dc4665b"
      },
      "outputs": [],
      "source": [
        "def q2(i, j):\n",
        "    im1, im2 = train_set[i][0], train_set[j][0]\n",
        "    show_imgs([im1, im2])\n",
        "    (mu1, log_variance1), (mu2, log_variance2) = model.encoder(im1.unsqueeze(1)), model.encoder(im2.unsqueeze(1))\n",
        "    for i in range(0, 10):\n",
        "        mu, log_variance = mu1 * (1 - i/10) + mu2 * i/10, log_variance1 * (1 - i/10) + log_variance2 * i/10\n",
        "        z = model.latent_sample(mu.unsqueeze(0), log_variance.unsqueeze(0))\n",
        "        reconstructed = model.decoder(z)\n",
        "        show_imgs(reconstructed.cpu().detach())\n",
        "q2(1, 2)\n",
        "q2(2, 3)\n",
        "q2(5, 6)"
      ]
    }
  ],
  "metadata": {
    "accelerator": "GPU",
    "colab": {
      "gpuType": "T4",
      "provenance": []
    },
    "kernelspec": {
      "display_name": "Python 3",
      "name": "python3"
    },
    "language_info": {
      "codemirror_mode": {
        "name": "ipython",
        "version": 3
      },
      "file_extension": ".py",
      "mimetype": "text/x-python",
      "name": "python",
      "nbconvert_exporter": "python",
      "pygments_lexer": "ipython3",
      "version": "3.11.5"
    },
    "widgets": {
      "application/vnd.jupyter.widget-state+json": {
        "01664b9aedb8488a9f4031aa3492e4c0": {
          "model_module": "@jupyter-widgets/base",
          "model_module_version": "1.2.0",
          "model_name": "LayoutModel",
          "state": {
            "_model_module": "@jupyter-widgets/base",
            "_model_module_version": "1.2.0",
            "_model_name": "LayoutModel",
            "_view_count": null,
            "_view_module": "@jupyter-widgets/base",
            "_view_module_version": "1.2.0",
            "_view_name": "LayoutView",
            "align_content": null,
            "align_items": null,
            "align_self": null,
            "border": null,
            "bottom": null,
            "display": null,
            "flex": "2",
            "flex_flow": null,
            "grid_area": null,
            "grid_auto_columns": null,
            "grid_auto_flow": null,
            "grid_auto_rows": null,
            "grid_column": null,
            "grid_gap": null,
            "grid_row": null,
            "grid_template_areas": null,
            "grid_template_columns": null,
            "grid_template_rows": null,
            "height": null,
            "justify_content": null,
            "justify_items": null,
            "left": null,
            "margin": null,
            "max_height": null,
            "max_width": null,
            "min_height": null,
            "min_width": null,
            "object_fit": null,
            "object_position": null,
            "order": null,
            "overflow": null,
            "overflow_x": null,
            "overflow_y": null,
            "padding": null,
            "right": null,
            "top": null,
            "visibility": null,
            "width": null
          }
        },
        "0791d07a942e474daa97b181846b55a1": {
          "model_module": "@jupyter-widgets/controls",
          "model_module_version": "1.5.0",
          "model_name": "HTMLModel",
          "state": {
            "_dom_classes": [],
            "_model_module": "@jupyter-widgets/controls",
            "_model_module_version": "1.5.0",
            "_model_name": "HTMLModel",
            "_view_count": null,
            "_view_module": "@jupyter-widgets/controls",
            "_view_module_version": "1.5.0",
            "_view_name": "HTMLView",
            "description": "",
            "description_tooltip": null,
            "layout": "IPY_MODEL_46c93a5cf1c8421aa0fc1e217c2e229d",
            "placeholder": "​",
            "style": "IPY_MODEL_645df64423fc4de3b22532404d4b6d44",
            "value": " 79/79 [00:02&lt;00:00, 29.31it/s]"
          }
        },
        "0e31f520164a4bf7babb984d23f6d70b": {
          "model_module": "@jupyter-widgets/controls",
          "model_module_version": "1.5.0",
          "model_name": "HTMLModel",
          "state": {
            "_dom_classes": [],
            "_model_module": "@jupyter-widgets/controls",
            "_model_module_version": "1.5.0",
            "_model_name": "HTMLModel",
            "_view_count": null,
            "_view_module": "@jupyter-widgets/controls",
            "_view_module_version": "1.5.0",
            "_view_name": "HTMLView",
            "description": "",
            "description_tooltip": null,
            "layout": "IPY_MODEL_b1f903d69e6849f693a475df3316979f",
            "placeholder": "​",
            "style": "IPY_MODEL_2a6bd5516ebb40c1956559052323d50d",
            "value": " 79/79 [00:03&lt;00:00, 20.62it/s]"
          }
        },
        "29184af70bd542a68c9f07d6c540aa09": {
          "model_module": "@jupyter-widgets/controls",
          "model_module_version": "1.5.0",
          "model_name": "DescriptionStyleModel",
          "state": {
            "_model_module": "@jupyter-widgets/controls",
            "_model_module_version": "1.5.0",
            "_model_name": "DescriptionStyleModel",
            "_view_count": null,
            "_view_module": "@jupyter-widgets/base",
            "_view_module_version": "1.2.0",
            "_view_name": "StyleView",
            "description_width": ""
          }
        },
        "2a6bd5516ebb40c1956559052323d50d": {
          "model_module": "@jupyter-widgets/controls",
          "model_module_version": "1.5.0",
          "model_name": "DescriptionStyleModel",
          "state": {
            "_model_module": "@jupyter-widgets/controls",
            "_model_module_version": "1.5.0",
            "_model_name": "DescriptionStyleModel",
            "_view_count": null,
            "_view_module": "@jupyter-widgets/base",
            "_view_module_version": "1.2.0",
            "_view_name": "StyleView",
            "description_width": ""
          }
        },
        "2e6e6d0f2d5a4b1c87abd1920b1bdc4b": {
          "model_module": "@jupyter-widgets/base",
          "model_module_version": "1.2.0",
          "model_name": "LayoutModel",
          "state": {
            "_model_module": "@jupyter-widgets/base",
            "_model_module_version": "1.2.0",
            "_model_name": "LayoutModel",
            "_view_count": null,
            "_view_module": "@jupyter-widgets/base",
            "_view_module_version": "1.2.0",
            "_view_name": "LayoutView",
            "align_content": null,
            "align_items": null,
            "align_self": null,
            "border": null,
            "bottom": null,
            "display": null,
            "flex": null,
            "flex_flow": null,
            "grid_area": null,
            "grid_auto_columns": null,
            "grid_auto_flow": null,
            "grid_auto_rows": null,
            "grid_column": null,
            "grid_gap": null,
            "grid_row": null,
            "grid_template_areas": null,
            "grid_template_columns": null,
            "grid_template_rows": null,
            "height": null,
            "justify_content": null,
            "justify_items": null,
            "left": null,
            "margin": null,
            "max_height": null,
            "max_width": null,
            "min_height": null,
            "min_width": null,
            "object_fit": null,
            "object_position": null,
            "order": null,
            "overflow": null,
            "overflow_x": null,
            "overflow_y": null,
            "padding": null,
            "right": null,
            "top": null,
            "visibility": null,
            "width": null
          }
        },
        "411b1f11155f437fb31a52d8bd954d53": {
          "model_module": "@jupyter-widgets/controls",
          "model_module_version": "1.5.0",
          "model_name": "FloatProgressModel",
          "state": {
            "_dom_classes": [],
            "_model_module": "@jupyter-widgets/controls",
            "_model_module_version": "1.5.0",
            "_model_name": "FloatProgressModel",
            "_view_count": null,
            "_view_module": "@jupyter-widgets/controls",
            "_view_module_version": "1.5.0",
            "_view_name": "ProgressView",
            "bar_style": "success",
            "description": "",
            "description_tooltip": null,
            "layout": "IPY_MODEL_5835871934b444e1bd84bc30e276cb0b",
            "max": 79,
            "min": 0,
            "orientation": "horizontal",
            "style": "IPY_MODEL_c02ae0c813964142bb9f66c2a361c9ac",
            "value": 79
          }
        },
        "43b4ba6b4bf64af485b9e1252a8b6287": {
          "model_module": "@jupyter-widgets/controls",
          "model_module_version": "1.5.0",
          "model_name": "HTMLModel",
          "state": {
            "_dom_classes": [],
            "_model_module": "@jupyter-widgets/controls",
            "_model_module_version": "1.5.0",
            "_model_name": "HTMLModel",
            "_view_count": null,
            "_view_module": "@jupyter-widgets/controls",
            "_view_module_version": "1.5.0",
            "_view_name": "HTMLView",
            "description": "",
            "description_tooltip": null,
            "layout": "IPY_MODEL_2e6e6d0f2d5a4b1c87abd1920b1bdc4b",
            "placeholder": "​",
            "style": "IPY_MODEL_29184af70bd542a68c9f07d6c540aa09",
            "value": "Testing DataLoader 0: 100%"
          }
        },
        "446e703b0c4140b091570386f4dd874a": {
          "model_module": "@jupyter-widgets/controls",
          "model_module_version": "1.5.0",
          "model_name": "DescriptionStyleModel",
          "state": {
            "_model_module": "@jupyter-widgets/controls",
            "_model_module_version": "1.5.0",
            "_model_name": "DescriptionStyleModel",
            "_view_count": null,
            "_view_module": "@jupyter-widgets/base",
            "_view_module_version": "1.2.0",
            "_view_name": "StyleView",
            "description_width": ""
          }
        },
        "46c93a5cf1c8421aa0fc1e217c2e229d": {
          "model_module": "@jupyter-widgets/base",
          "model_module_version": "1.2.0",
          "model_name": "LayoutModel",
          "state": {
            "_model_module": "@jupyter-widgets/base",
            "_model_module_version": "1.2.0",
            "_model_name": "LayoutModel",
            "_view_count": null,
            "_view_module": "@jupyter-widgets/base",
            "_view_module_version": "1.2.0",
            "_view_name": "LayoutView",
            "align_content": null,
            "align_items": null,
            "align_self": null,
            "border": null,
            "bottom": null,
            "display": null,
            "flex": null,
            "flex_flow": null,
            "grid_area": null,
            "grid_auto_columns": null,
            "grid_auto_flow": null,
            "grid_auto_rows": null,
            "grid_column": null,
            "grid_gap": null,
            "grid_row": null,
            "grid_template_areas": null,
            "grid_template_columns": null,
            "grid_template_rows": null,
            "height": null,
            "justify_content": null,
            "justify_items": null,
            "left": null,
            "margin": null,
            "max_height": null,
            "max_width": null,
            "min_height": null,
            "min_width": null,
            "object_fit": null,
            "object_position": null,
            "order": null,
            "overflow": null,
            "overflow_x": null,
            "overflow_y": null,
            "padding": null,
            "right": null,
            "top": null,
            "visibility": null,
            "width": null
          }
        },
        "5835871934b444e1bd84bc30e276cb0b": {
          "model_module": "@jupyter-widgets/base",
          "model_module_version": "1.2.0",
          "model_name": "LayoutModel",
          "state": {
            "_model_module": "@jupyter-widgets/base",
            "_model_module_version": "1.2.0",
            "_model_name": "LayoutModel",
            "_view_count": null,
            "_view_module": "@jupyter-widgets/base",
            "_view_module_version": "1.2.0",
            "_view_name": "LayoutView",
            "align_content": null,
            "align_items": null,
            "align_self": null,
            "border": null,
            "bottom": null,
            "display": null,
            "flex": "2",
            "flex_flow": null,
            "grid_area": null,
            "grid_auto_columns": null,
            "grid_auto_flow": null,
            "grid_auto_rows": null,
            "grid_column": null,
            "grid_gap": null,
            "grid_row": null,
            "grid_template_areas": null,
            "grid_template_columns": null,
            "grid_template_rows": null,
            "height": null,
            "justify_content": null,
            "justify_items": null,
            "left": null,
            "margin": null,
            "max_height": null,
            "max_width": null,
            "min_height": null,
            "min_width": null,
            "object_fit": null,
            "object_position": null,
            "order": null,
            "overflow": null,
            "overflow_x": null,
            "overflow_y": null,
            "padding": null,
            "right": null,
            "top": null,
            "visibility": null,
            "width": null
          }
        },
        "645df64423fc4de3b22532404d4b6d44": {
          "model_module": "@jupyter-widgets/controls",
          "model_module_version": "1.5.0",
          "model_name": "DescriptionStyleModel",
          "state": {
            "_model_module": "@jupyter-widgets/controls",
            "_model_module_version": "1.5.0",
            "_model_name": "DescriptionStyleModel",
            "_view_count": null,
            "_view_module": "@jupyter-widgets/base",
            "_view_module_version": "1.2.0",
            "_view_name": "StyleView",
            "description_width": ""
          }
        },
        "66321ec3082c4f2e82004f36841027a6": {
          "model_module": "@jupyter-widgets/controls",
          "model_module_version": "1.5.0",
          "model_name": "HBoxModel",
          "state": {
            "_dom_classes": [],
            "_model_module": "@jupyter-widgets/controls",
            "_model_module_version": "1.5.0",
            "_model_name": "HBoxModel",
            "_view_count": null,
            "_view_module": "@jupyter-widgets/controls",
            "_view_module_version": "1.5.0",
            "_view_name": "HBoxView",
            "box_style": "",
            "children": [
              "IPY_MODEL_43b4ba6b4bf64af485b9e1252a8b6287",
              "IPY_MODEL_b1cfd5928a144458adc0ce7415ef6010",
              "IPY_MODEL_0e31f520164a4bf7babb984d23f6d70b"
            ],
            "layout": "IPY_MODEL_ee0044f500d742a7bac85586d44b9929"
          }
        },
        "827c6a13c52149259e3728e4d4e644b2": {
          "model_module": "@jupyter-widgets/base",
          "model_module_version": "1.2.0",
          "model_name": "LayoutModel",
          "state": {
            "_model_module": "@jupyter-widgets/base",
            "_model_module_version": "1.2.0",
            "_model_name": "LayoutModel",
            "_view_count": null,
            "_view_module": "@jupyter-widgets/base",
            "_view_module_version": "1.2.0",
            "_view_name": "LayoutView",
            "align_content": null,
            "align_items": null,
            "align_self": null,
            "border": null,
            "bottom": null,
            "display": "inline-flex",
            "flex": null,
            "flex_flow": "row wrap",
            "grid_area": null,
            "grid_auto_columns": null,
            "grid_auto_flow": null,
            "grid_auto_rows": null,
            "grid_column": null,
            "grid_gap": null,
            "grid_row": null,
            "grid_template_areas": null,
            "grid_template_columns": null,
            "grid_template_rows": null,
            "height": null,
            "justify_content": null,
            "justify_items": null,
            "left": null,
            "margin": null,
            "max_height": null,
            "max_width": null,
            "min_height": null,
            "min_width": null,
            "object_fit": null,
            "object_position": null,
            "order": null,
            "overflow": null,
            "overflow_x": null,
            "overflow_y": null,
            "padding": null,
            "right": null,
            "top": null,
            "visibility": null,
            "width": "100%"
          }
        },
        "955a0c6dbfbe4a7089f0ffd6c22cc72f": {
          "model_module": "@jupyter-widgets/controls",
          "model_module_version": "1.5.0",
          "model_name": "HBoxModel",
          "state": {
            "_dom_classes": [],
            "_model_module": "@jupyter-widgets/controls",
            "_model_module_version": "1.5.0",
            "_model_name": "HBoxModel",
            "_view_count": null,
            "_view_module": "@jupyter-widgets/controls",
            "_view_module_version": "1.5.0",
            "_view_name": "HBoxView",
            "box_style": "",
            "children": [
              "IPY_MODEL_e646fb573b2047d9a54ffa7e420561e8",
              "IPY_MODEL_411b1f11155f437fb31a52d8bd954d53",
              "IPY_MODEL_0791d07a942e474daa97b181846b55a1"
            ],
            "layout": "IPY_MODEL_827c6a13c52149259e3728e4d4e644b2"
          }
        },
        "a97f2d91d86d4a0aa13f14ab2115ae21": {
          "model_module": "@jupyter-widgets/controls",
          "model_module_version": "1.5.0",
          "model_name": "ProgressStyleModel",
          "state": {
            "_model_module": "@jupyter-widgets/controls",
            "_model_module_version": "1.5.0",
            "_model_name": "ProgressStyleModel",
            "_view_count": null,
            "_view_module": "@jupyter-widgets/base",
            "_view_module_version": "1.2.0",
            "_view_name": "StyleView",
            "bar_color": null,
            "description_width": ""
          }
        },
        "b1cfd5928a144458adc0ce7415ef6010": {
          "model_module": "@jupyter-widgets/controls",
          "model_module_version": "1.5.0",
          "model_name": "FloatProgressModel",
          "state": {
            "_dom_classes": [],
            "_model_module": "@jupyter-widgets/controls",
            "_model_module_version": "1.5.0",
            "_model_name": "FloatProgressModel",
            "_view_count": null,
            "_view_module": "@jupyter-widgets/controls",
            "_view_module_version": "1.5.0",
            "_view_name": "ProgressView",
            "bar_style": "success",
            "description": "",
            "description_tooltip": null,
            "layout": "IPY_MODEL_01664b9aedb8488a9f4031aa3492e4c0",
            "max": 79,
            "min": 0,
            "orientation": "horizontal",
            "style": "IPY_MODEL_a97f2d91d86d4a0aa13f14ab2115ae21",
            "value": 79
          }
        },
        "b1f903d69e6849f693a475df3316979f": {
          "model_module": "@jupyter-widgets/base",
          "model_module_version": "1.2.0",
          "model_name": "LayoutModel",
          "state": {
            "_model_module": "@jupyter-widgets/base",
            "_model_module_version": "1.2.0",
            "_model_name": "LayoutModel",
            "_view_count": null,
            "_view_module": "@jupyter-widgets/base",
            "_view_module_version": "1.2.0",
            "_view_name": "LayoutView",
            "align_content": null,
            "align_items": null,
            "align_self": null,
            "border": null,
            "bottom": null,
            "display": null,
            "flex": null,
            "flex_flow": null,
            "grid_area": null,
            "grid_auto_columns": null,
            "grid_auto_flow": null,
            "grid_auto_rows": null,
            "grid_column": null,
            "grid_gap": null,
            "grid_row": null,
            "grid_template_areas": null,
            "grid_template_columns": null,
            "grid_template_rows": null,
            "height": null,
            "justify_content": null,
            "justify_items": null,
            "left": null,
            "margin": null,
            "max_height": null,
            "max_width": null,
            "min_height": null,
            "min_width": null,
            "object_fit": null,
            "object_position": null,
            "order": null,
            "overflow": null,
            "overflow_x": null,
            "overflow_y": null,
            "padding": null,
            "right": null,
            "top": null,
            "visibility": null,
            "width": null
          }
        },
        "c02ae0c813964142bb9f66c2a361c9ac": {
          "model_module": "@jupyter-widgets/controls",
          "model_module_version": "1.5.0",
          "model_name": "ProgressStyleModel",
          "state": {
            "_model_module": "@jupyter-widgets/controls",
            "_model_module_version": "1.5.0",
            "_model_name": "ProgressStyleModel",
            "_view_count": null,
            "_view_module": "@jupyter-widgets/base",
            "_view_module_version": "1.2.0",
            "_view_name": "StyleView",
            "bar_color": null,
            "description_width": ""
          }
        },
        "e646fb573b2047d9a54ffa7e420561e8": {
          "model_module": "@jupyter-widgets/controls",
          "model_module_version": "1.5.0",
          "model_name": "HTMLModel",
          "state": {
            "_dom_classes": [],
            "_model_module": "@jupyter-widgets/controls",
            "_model_module_version": "1.5.0",
            "_model_name": "HTMLModel",
            "_view_count": null,
            "_view_module": "@jupyter-widgets/controls",
            "_view_module_version": "1.5.0",
            "_view_name": "HTMLView",
            "description": "",
            "description_tooltip": null,
            "layout": "IPY_MODEL_e74e08c9fb654724acc8373e356edf01",
            "placeholder": "​",
            "style": "IPY_MODEL_446e703b0c4140b091570386f4dd874a",
            "value": "Testing DataLoader 0: 100%"
          }
        },
        "e74e08c9fb654724acc8373e356edf01": {
          "model_module": "@jupyter-widgets/base",
          "model_module_version": "1.2.0",
          "model_name": "LayoutModel",
          "state": {
            "_model_module": "@jupyter-widgets/base",
            "_model_module_version": "1.2.0",
            "_model_name": "LayoutModel",
            "_view_count": null,
            "_view_module": "@jupyter-widgets/base",
            "_view_module_version": "1.2.0",
            "_view_name": "LayoutView",
            "align_content": null,
            "align_items": null,
            "align_self": null,
            "border": null,
            "bottom": null,
            "display": null,
            "flex": null,
            "flex_flow": null,
            "grid_area": null,
            "grid_auto_columns": null,
            "grid_auto_flow": null,
            "grid_auto_rows": null,
            "grid_column": null,
            "grid_gap": null,
            "grid_row": null,
            "grid_template_areas": null,
            "grid_template_columns": null,
            "grid_template_rows": null,
            "height": null,
            "justify_content": null,
            "justify_items": null,
            "left": null,
            "margin": null,
            "max_height": null,
            "max_width": null,
            "min_height": null,
            "min_width": null,
            "object_fit": null,
            "object_position": null,
            "order": null,
            "overflow": null,
            "overflow_x": null,
            "overflow_y": null,
            "padding": null,
            "right": null,
            "top": null,
            "visibility": null,
            "width": null
          }
        },
        "ee0044f500d742a7bac85586d44b9929": {
          "model_module": "@jupyter-widgets/base",
          "model_module_version": "1.2.0",
          "model_name": "LayoutModel",
          "state": {
            "_model_module": "@jupyter-widgets/base",
            "_model_module_version": "1.2.0",
            "_model_name": "LayoutModel",
            "_view_count": null,
            "_view_module": "@jupyter-widgets/base",
            "_view_module_version": "1.2.0",
            "_view_name": "LayoutView",
            "align_content": null,
            "align_items": null,
            "align_self": null,
            "border": null,
            "bottom": null,
            "display": "inline-flex",
            "flex": null,
            "flex_flow": "row wrap",
            "grid_area": null,
            "grid_auto_columns": null,
            "grid_auto_flow": null,
            "grid_auto_rows": null,
            "grid_column": null,
            "grid_gap": null,
            "grid_row": null,
            "grid_template_areas": null,
            "grid_template_columns": null,
            "grid_template_rows": null,
            "height": null,
            "justify_content": null,
            "justify_items": null,
            "left": null,
            "margin": null,
            "max_height": null,
            "max_width": null,
            "min_height": null,
            "min_width": null,
            "object_fit": null,
            "object_position": null,
            "order": null,
            "overflow": null,
            "overflow_x": null,
            "overflow_y": null,
            "padding": null,
            "right": null,
            "top": null,
            "visibility": null,
            "width": "100%"
          }
        }
      }
    }
  },
  "nbformat": 4,
  "nbformat_minor": 0
}
