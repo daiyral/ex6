{
  "cells": [
    {
      "cell_type": "markdown",
      "metadata": {
        "id": "E_wGwPYLbghK"
      },
      "source": [
        "## Normalizing Flows - Exercise 6.\n",
        "### Daniel Aibinder 318239639, Yonathan Dovgolevsky 327709648"
      ]
    },
    {
      "cell_type": "code",
      "execution_count": 1,
      "metadata": {
        "colab": {
          "base_uri": "https://localhost:8080/",
          "height": 105
        },
        "id": "jUdClyTnbghM",
        "outputId": "0b691a00-8229-4fba-ada7-da73c9c4dfbe"
      },
      "outputs": [
        {
          "name": "stderr",
          "output_type": "stream",
          "text": [
            "C:\\Users\\Danny\\AppData\\Local\\Temp\\ipykernel_31564\\3028478413.py:11: DeprecationWarning: `set_matplotlib_formats` is deprecated since IPython 7.23, directly use `matplotlib_inline.backend_inline.set_matplotlib_formats()`\n",
            "  set_matplotlib_formats('svg', 'pdf') # For export\n",
            "Seed set to 42\n"
          ]
        },
        {
          "name": "stdout",
          "output_type": "stream",
          "text": [
            "Using device cuda:0\n"
          ]
        },
        {
          "data": {
            "text/plain": [
              "<Figure size 640x480 with 0 Axes>"
            ]
          },
          "metadata": {},
          "output_type": "display_data"
        }
      ],
      "source": [
        "## Standard libraries\n",
        "import os\n",
        "import math\n",
        "import numpy as np\n",
        "\n",
        "## Imports for plotting\n",
        "import matplotlib.pyplot as plt\n",
        "plt.set_cmap('cividis')\n",
        "%matplotlib inline\n",
        "from IPython.display import set_matplotlib_formats\n",
        "set_matplotlib_formats('svg', 'pdf') # For export\n",
        "from matplotlib.colors import to_rgb\n",
        "import seaborn as sns\n",
        "\n",
        "## Progress bar\n",
        "from tqdm.notebook import tqdm\n",
        "\n",
        "## PyTorch\n",
        "import torch\n",
        "import torch.nn as nn\n",
        "import torch.nn.functional as F\n",
        "import torch.utils.data as data\n",
        "import torch.optim as optim\n",
        "# Torchvision\n",
        "import torchvision\n",
        "from torchvision.datasets import MNIST\n",
        "from torchvision import transforms\n",
        "# PyTorch Lightning\n",
        "try:\n",
        "    import pytorch_lightning as pl\n",
        "except ModuleNotFoundError: # Google Colab does not have PyTorch Lightning installed by default. Hence, we do it here if necessary\n",
        "    !pip install --quiet pytorch-lightning>=1.4\n",
        "    import pytorch_lightning as pl\n",
        "from pytorch_lightning.callbacks import LearningRateMonitor, ModelCheckpoint\n",
        "from pytorch_lightning.loggers import TensorBoardLogger\n",
        "\n",
        "\n",
        "# Path to the folder where the datasets are/should be downloaded (e.g. MNIST)\n",
        "DATASET_PATH = \"./data\"\n",
        "# Path to the folder where the pretrained models are saved\n",
        "CHECKPOINT_PATH = \"./saved_models/tutorial12\"\n",
        "\n",
        "# Setting the seed\n",
        "pl.seed_everything(42)\n",
        "\n",
        "# Ensure that all operations are deterministic on GPU (if used) for reproducibility\n",
        "torch.backends.cudnn.deterministic = True\n",
        "torch.backends.cudnn.benchmark = False\n",
        "\n",
        "# Fetching the device that will be used throughout this notebook\n",
        "device = torch.device(\"cpu\") if not torch.cuda.is_available() else torch.device(\"cuda:0\")\n",
        "print(\"Using device\", device)"
      ]
    },
    {
      "cell_type": "code",
      "execution_count": 2,
      "metadata": {
        "colab": {
          "base_uri": "https://localhost:8080/"
        },
        "id": "xiX3muzmbghO",
        "outputId": "eeee7f49-d8ff-4c03-c7d5-d49148e79d35"
      },
      "outputs": [
        {
          "name": "stderr",
          "output_type": "stream",
          "text": [
            "Seed set to 42\n"
          ]
        }
      ],
      "source": [
        "def add_noise(sample):\n",
        "    sample = (sample * 255).to(torch.float) # Convert to float and scale to [0, 255]\n",
        "    noise = torch.rand_like(sample) # Uniform noise in [0, 1]\n",
        "    noisy_sample = sample + noise\n",
        "    noisy_sample = noisy_sample / 255.0 # Scale back to [0, 1]\n",
        "    noisy_sample = torch.clamp(noisy_sample, 0, 1) # Ensure that the values are still in [0, 1]\n",
        "    return noisy_sample\n",
        "\n",
        "def flatten_image(image):\n",
        "    return image.view(-1)\n",
        "\n",
        "# Transformations: Convert to tensor, add noise and normalize\n",
        "transform = transforms.Compose([\n",
        "    transforms.ToTensor(),\n",
        "    add_noise,\n",
        "    flatten_image\n",
        "])\n",
        "\n",
        "\n",
        "# Loading the training dataset. We need to split it into a training and validation part\n",
        "train_dataset = MNIST(root=DATASET_PATH, train=True, transform=transform, download=True)\n",
        "pl.seed_everything(42)\n",
        "train_set, val_set = torch.utils.data.random_split(train_dataset, [50000, 10000])\n",
        "\n",
        "# Loading the test set\n",
        "test_set = MNIST(root=DATASET_PATH, train=False, transform=transform, download=True)\n",
        "\n",
        "# We define a set of data loaders that we can use for various purposes later.\n",
        "train_loader = data.DataLoader(train_set, batch_size=128, shuffle=True, drop_last=True, pin_memory=True)\n",
        "val_loader = data.DataLoader(val_set, batch_size=128, shuffle=False, drop_last=False)\n",
        "test_loader = data.DataLoader(test_set, batch_size=128, shuffle=False, drop_last=False)"
      ]
    },
    {
      "cell_type": "code",
      "execution_count": 3,
      "metadata": {
        "colab": {
          "base_uri": "https://localhost:8080/",
          "height": 280
        },
        "id": "vN4jMKlCbghO",
        "outputId": "cff9fdce-4aa9-49c6-a2ba-f88f51104bd5"
      },
      "outputs": [
        {
          "name": "stderr",
          "output_type": "stream",
          "text": [
            "Clipping input data to the valid range for imshow with RGB data ([0..1] for floats or [0..255] for integers). Got range [4.214399e-07..128.0].\n"
          ]
        },
        {
          "data": {
            "application/pdf": "[encoded data removed]",
            "image/svg+xml": [
              "<?xml version=\"1.0\" encoding=\"utf-8\" standalone=\"no\"?>\n",
              "<!DOCTYPE svg PUBLIC \"-//W3C//DTD SVG 1.1//EN\"\n",
              "  \"http://www.w3.org/Graphics/SVG/1.1/DTD/svg11.dtd\">\n",
              "<svg xmlns:xlink=\"http://www.w3.org/1999/xlink\" width=\"341.674839pt\" height=\"180.72pt\" viewBox=\"0 0 341.674839 180.72\" xmlns=\"http://www.w3.org/2000/svg\" version=\"1.1\">\n",
              " <metadata>\n",
              "  <rdf:RDF xmlns:dc=\"http://purl.org/dc/elements/1.1/\" xmlns:cc=\"http://creativecommons.org/ns#\" xmlns:rdf=\"http://www.w3.org/1999/02/22-rdf-syntax-ns#\">\n",
              "   <cc:Work>\n",
              "    <dc:type rdf:resource=\"http://purl.org/dc/dcmitype/StillImage\"/>\n",
              "    <dc:date>2024-07-05T14:44:39.774123</dc:date>\n",
              "    <dc:format>image/svg+xml</dc:format>\n",
              "    <dc:creator>\n",
              "     <cc:Agent>\n",
              "      <dc:title>Matplotlib v3.9.0, https://matplotlib.org/</dc:title>\n",
              "     </cc:Agent>\n",
              "    </dc:creator>\n",
              "   </cc:Work>\n",
              "  </rdf:RDF>\n",
              " </metadata>\n",
              " <defs>\n",
              "  <style type=\"text/css\">*{stroke-linejoin: round; stroke-linecap: butt}</style>\n",
              " </defs>\n",
              " <g id=\"figure_1\">\n",
              "  <g id=\"patch_1\">\n",
              "   <path d=\"M 0 180.72 \n",
              "L 341.674839 180.72 \n",
              "L 341.674839 0 \n",
              "L 0 0 \n",
              "z\n",
              "\" style=\"fill: #ffffff\"/>\n",
              "  </g>\n",
              "  <g id=\"axes_1\">\n",
              "   <g clip-path=\"url(#p796862aa5b)\">\n",
              "    <image xlink:href=\"data:image/png;base64,\n",
              "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\" id=\"image6e0e38e7f2\" transform=\"scale(1 -1) translate(0 -166.32)\" x=\"7.2\" y=\"-7.2\" width=\"327.6\" height=\"166.32\"/>\n",
              "   </g>\n",
              "  </g>\n",
              " </g>\n",
              " <defs>\n",
              "  <clipPath id=\"p796862aa5b\">\n",
              "   <rect x=\"7.2\" y=\"7.2\" width=\"327.274839\" height=\"166.32\"/>\n",
              "  </clipPath>\n",
              " </defs>\n",
              "</svg>\n"
            ],
            "text/plain": [
              "<Figure size 600x300 with 1 Axes>"
            ]
          },
          "metadata": {},
          "output_type": "display_data"
        }
      ],
      "source": [
        "def show_imgs(imgs):\n",
        "    imgs = [img.view(1, 28, 28) for img in imgs] #unflatten images\n",
        "    num_imgs = imgs.shape[0] if isinstance(imgs, torch.Tensor) else len(imgs)\n",
        "    nrow = min(num_imgs, 4)\n",
        "    ncol = int(math.ceil(num_imgs/nrow))\n",
        "    imgs = torchvision.utils.make_grid(imgs, nrow=nrow, pad_value=128)\n",
        "    imgs = imgs.clamp(min=0, max=255)\n",
        "    np_imgs = imgs.cpu().numpy()\n",
        "    plt.figure(figsize=(1.5*nrow, 1.5*ncol))\n",
        "    plt.imshow(np.transpose(np_imgs, (1,2,0)), interpolation='nearest')\n",
        "    plt.axis('off')\n",
        "    plt.show()\n",
        "    plt.close()\n",
        "\n",
        "show_imgs([train_set[i][0] for i in range(8)])"
      ]
    },
    {
      "cell_type": "code",
      "execution_count": 4,
      "metadata": {
        "id": "3n_VPsTYbghP"
      },
      "outputs": [],
      "source": [
        "class MLP(nn.Module):\n",
        "    def __init__(self, input_dim):\n",
        "        super(MLP, self).__init__()\n",
        "        self.layers = nn.Sequential(\n",
        "            nn.Linear(input_dim, input_dim // 2),\n",
        "            nn.ReLU(),\n",
        "            nn.Linear(input_dim // 2, input_dim // 4),\n",
        "            nn.ReLU(),\n",
        "            nn.Linear(input_dim // 4, input_dim // 8),\n",
        "            nn.ReLU(),\n",
        "            nn.Linear(input_dim // 8, input_dim // 4),\n",
        "            nn.ReLU(),\n",
        "            nn.Linear(input_dim // 4, input_dim)\n",
        "        )\n",
        "\n",
        "    def forward(self, x):\n",
        "        self.to(x.device)\n",
        "        return self.layers(x)\n",
        "\n",
        "class NormalizingFlowLayer(nn.Module):\n",
        "    def __init__(self, input_dim):\n",
        "        super(NormalizingFlowLayer, self).__init__()\n",
        "        self.input_dim = input_dim\n",
        "        self.mlp = MLP(input_dim)\n",
        "    \n",
        "    def forward(self, x1, x2):\n",
        "        s = self.mlp(x1)\n",
        "        z1 = x1 * torch.exp(s)\n",
        "        z = torch.cat([z1, x2], dim=1)\n",
        "        log_det_jacobian = s.sum(dim=1)\n",
        "        return z, log_det_jacobian\n",
        "    \n",
        "    def inverse(self, z1, z2):\n",
        "        s = self.mlp(z1)\n",
        "        x1 = z1 / torch.exp(s)\n",
        "        x = torch.cat([x1, z2], dim=1)\n",
        "        return x\n",
        "\n",
        "\n",
        "class NormalizingFlowModel(pl.LightningModule):\n",
        "     \n",
        "    def __init__(self, input_dim, num_flows):\n",
        "        super().__init__()\n",
        "        self.save_hyperparameters()\n",
        "        self.flows = nn.ModuleList([NormalizingFlowLayer(input_dim // 2) for _ in range(num_flows)])\n",
        "        self.prior = torch.distributions.normal.Normal(loc=0.0, scale=1.0)\n",
        "\n",
        "    \n",
        "    def forward(self, x):\n",
        "        log_det_jacobian = 0\n",
        "        alternate = False\n",
        "        for flow in self.flows:\n",
        "            x1, x2 = x.chunk(2, dim=1)\n",
        "            if alternate:\n",
        "                x1, x2 = x2, x1\n",
        "            x, ldj = flow(x1, x2)\n",
        "            log_det_jacobian += ldj\n",
        "            alternate = not alternate\n",
        "        return x, log_det_jacobian\n",
        "    \n",
        "    def inverse(self, z):\n",
        "        alternate = False\n",
        "        for flow in reversed(self.flows):\n",
        "            z1, z2 = z.chunk(2, dim=1)\n",
        "            if alternate:\n",
        "                z1, z2 = z2, z1\n",
        "            x = flow.inverse(z1, z2)\n",
        "            alternate = not alternate\n",
        "        return x\n",
        "    \n",
        "    def calc_likelihood(self, x):\n",
        "        z, log_det_jacobian = self.forward(x)\n",
        "        log_pz = self.prior.log_prob(z).sum(dim=1)\n",
        "        return log_pz + log_det_jacobian\n",
        "\n",
        "    @torch.no_grad()\n",
        "    def sample(self, sample_shape):\n",
        "        z = self.prior.sample(sample_shape).to(device)\n",
        "        x = self.inverse(z)\n",
        "        return x\n",
        "\n",
        "    def configure_optimizers(self):\n",
        "        optimizer = optim.Adam(self.parameters(), lr=1e-3)\n",
        "        scheduler = optim.lr_scheduler.StepLR(optimizer, 1, gamma=0.99)\n",
        "        return [optimizer], [scheduler]\n",
        "\n",
        "    def training_step(self, batch, batch_idx):\n",
        "        x, _ = batch\n",
        "        log_likelihood = self.calc_likelihood(x).mean()\n",
        "        loss = -log_likelihood\n",
        "        self.log('train_log_likelihood', log_likelihood)\n",
        "        return loss\n",
        "    \n",
        "    def validation_step(self, batch, batch_idx):\n",
        "        x, _ = batch\n",
        "        log_likelihood = self.calc_likelihood(x).mean()\n",
        "        loss = -log_likelihood\n",
        "        self.log('val_log_likelihood', log_likelihood)\n",
        "        return loss\n",
        "\n",
        "    def test_step(self, batch, batch_idx):\n",
        "        x, _ = batch\n",
        "        log_likelihood = self.calc_likelihood(x).mean()\n",
        "        loss = -log_likelihood\n",
        "        self.log('test_log_likelihood', log_likelihood)\n",
        "        return loss\n",
        "\n"
      ]
    },
    {
      "cell_type": "code",
      "execution_count": 5,
      "metadata": {
        "id": "g1zeMtu3bghQ"
      },
      "outputs": [],
      "source": [
        "def train_model(use_pretrained = False, pretrained_path = \"\", **kwargs):\n",
        "    logger = TensorBoardLogger(\"tb_logs\", name=\"Flows-ex6\")\n",
        "    # Create a PyTorch Lightning trainer with the generation callback\n",
        "    trainer = pl.Trainer(default_root_dir=os.path.join(CHECKPOINT_PATH, \"Flows-ex6\"),\n",
        "                         accelerator=\"gpu\" if str(device).startswith(\"cuda\") else \"cpu\",\n",
        "                         devices=1,\n",
        "                         logger = logger,\n",
        "                         max_epochs=150,\n",
        "                         callbacks=[ModelCheckpoint(save_weights_only=True, mode=\"min\", monitor=\"val_log_likelihood\"),\n",
        "                                    LearningRateMonitor(\"epoch\")])\n",
        "    result = None\n",
        "\n",
        "    # Check whether pretrained model exists. If yes, load it and skip training\n",
        "    if os.path.isfile(pretrained_path) and use_pretrained:\n",
        "        print(\"Found pretrained model, loading...\")\n",
        "        model = NormalizingFlowModel.load_from_checkpoint(pretrained_path)\n",
        "        ckpt = torch.load(pretrained_path, map_location=device)\n",
        "        result = ckpt.get(\"result\", None)\n",
        "    else:\n",
        "        model = NormalizingFlowModel(**kwargs)\n",
        "        trainer.fit(model, train_loader, val_loader)\n",
        "    model = model.to(device)\n",
        "\n",
        "    if result is None:\n",
        "        # Test best model on validation and test set\n",
        "        val_result = trainer.test(model, val_loader, verbose=False)\n",
        "        test_result = trainer.test(model, test_loader, verbose=False)\n",
        "        result = {\"test\": test_result, \"val\": val_result}\n",
        "    return model, result"
      ]
    },
    {
      "cell_type": "code",
      "execution_count": 6,
      "metadata": {
        "id": "Ogctk_HbbghQ"
      },
      "outputs": [],
      "source": [
        "#All graphs taken from tensorboard\n",
        "\n",
        "# %load_ext tensorboard\n",
        "# %tensorboard --logdir tb_logs"
      ]
    },
    {
      "cell_type": "code",
      "execution_count": 7,
      "metadata": {
        "colab": {
          "base_uri": "https://localhost:8080/",
          "height": 222,
          "referenced_widgets": [
            "955a0c6dbfbe4a7089f0ffd6c22cc72f",
            "e646fb573b2047d9a54ffa7e420561e8",
            "411b1f11155f437fb31a52d8bd954d53",
            "0791d07a942e474daa97b181846b55a1",
            "827c6a13c52149259e3728e4d4e644b2",
            "e74e08c9fb654724acc8373e356edf01",
            "446e703b0c4140b091570386f4dd874a",
            "5835871934b444e1bd84bc30e276cb0b",
            "c02ae0c813964142bb9f66c2a361c9ac",
            "46c93a5cf1c8421aa0fc1e217c2e229d",
            "645df64423fc4de3b22532404d4b6d44",
            "66321ec3082c4f2e82004f36841027a6",
            "43b4ba6b4bf64af485b9e1252a8b6287",
            "b1cfd5928a144458adc0ce7415ef6010",
            "0e31f520164a4bf7babb984d23f6d70b",
            "ee0044f500d742a7bac85586d44b9929",
            "2e6e6d0f2d5a4b1c87abd1920b1bdc4b",
            "29184af70bd542a68c9f07d6c540aa09",
            "01664b9aedb8488a9f4031aa3492e4c0",
            "a97f2d91d86d4a0aa13f14ab2115ae21",
            "b1f903d69e6849f693a475df3316979f",
            "2a6bd5516ebb40c1956559052323d50d"
          ]
        },
        "id": "Za6-69NWbghR",
        "outputId": "7cfd08dd-38d4-4ab0-abef-ef56170cc0b2"
      },
      "outputs": [
        {
          "name": "stderr",
          "output_type": "stream",
          "text": [
            "GPU available: True (cuda), used: True\n",
            "TPU available: False, using: 0 TPU cores\n",
            "IPU available: False, using: 0 IPUs\n",
            "HPU available: False, using: 0 HPUs\n",
            "You are using a CUDA device ('NVIDIA GeForce RTX 4080') that has Tensor Cores. To properly utilize them, you should set `torch.set_float32_matmul_precision('medium' | 'high')` which will trade-off precision for performance. For more details, read https://pytorch.org/docs/stable/generated/torch.set_float32_matmul_precision.html#torch.set_float32_matmul_precision\n",
            "LOCAL_RANK: 0 - CUDA_VISIBLE_DEVICES: [0]\n",
            "\n",
            "  | Name  | Type       | Params\n",
            "-------------------------------------\n",
            "0 | flows | ModuleList | 579 K \n",
            "-------------------------------------\n",
            "579 K     Trainable params\n",
            "0         Non-trainable params\n",
            "579 K     Total params\n",
            "2.318     Total estimated model params size (MB)\n"
          ]
        },
        {
          "data": {
            "application/vnd.jupyter.widget-view+json": {
              "model_id": "0e6169d9de4848fdaf4aa1d1df3e3960",
              "version_major": 2,
              "version_minor": 0
            },
            "text/plain": [
              "Sanity Checking: |          | 0/? [00:00<?, ?it/s]"
            ]
          },
          "metadata": {},
          "output_type": "display_data"
        },
        {
          "name": "stderr",
          "output_type": "stream",
          "text": [
            "c:\\Users\\Danny\\AppData\\Local\\Programs\\Python\\Python311\\Lib\\site-packages\\pytorch_lightning\\trainer\\connectors\\data_connector.py:441: The 'val_dataloader' does not have many workers which may be a bottleneck. Consider increasing the value of the `num_workers` argument` to `num_workers=19` in the `DataLoader` to improve performance.\n",
            "c:\\Users\\Danny\\AppData\\Local\\Programs\\Python\\Python311\\Lib\\site-packages\\pytorch_lightning\\trainer\\connectors\\data_connector.py:441: The 'train_dataloader' does not have many workers which may be a bottleneck. Consider increasing the value of the `num_workers` argument` to `num_workers=19` in the `DataLoader` to improve performance.\n"
          ]
        },
        {
          "data": {
            "application/vnd.jupyter.widget-view+json": {
              "model_id": "64920b69799c4718920d9ec228470310",
              "version_major": 2,
              "version_minor": 0
            },
            "text/plain": [
              "Training: |          | 0/? [00:00<?, ?it/s]"
            ]
          },
          "metadata": {},
          "output_type": "display_data"
        },
        {
          "data": {
            "application/vnd.jupyter.widget-view+json": {
              "model_id": "3d4e660b37c94fbd8ca341a521926555",
              "version_major": 2,
              "version_minor": 0
            },
            "text/plain": [
              "Validation: |          | 0/? [00:00<?, ?it/s]"
            ]
          },
          "metadata": {},
          "output_type": "display_data"
        },
        {
          "data": {
            "application/vnd.jupyter.widget-view+json": {
              "model_id": "b49acc31ba1448558b3063d6c429dcaa",
              "version_major": 2,
              "version_minor": 0
            },
            "text/plain": [
              "Validation: |          | 0/? [00:00<?, ?it/s]"
            ]
          },
          "metadata": {},
          "output_type": "display_data"
        },
        {
          "data": {
            "application/vnd.jupyter.widget-view+json": {
              "model_id": "13aa49660bfb458cbb02ed4eb7b28cc8",
              "version_major": 2,
              "version_minor": 0
            },
            "text/plain": [
              "Validation: |          | 0/? [00:00<?, ?it/s]"
            ]
          },
          "metadata": {},
          "output_type": "display_data"
        },
        {
          "data": {
            "application/vnd.jupyter.widget-view+json": {
              "model_id": "2731d30a02f548aa94697d0cd062d868",
              "version_major": 2,
              "version_minor": 0
            },
            "text/plain": [
              "Validation: |          | 0/? [00:00<?, ?it/s]"
            ]
          },
          "metadata": {},
          "output_type": "display_data"
        },
        {
          "data": {
            "application/vnd.jupyter.widget-view+json": {
              "model_id": "c0aff4b1de0b452caa8ee7698da48063",
              "version_major": 2,
              "version_minor": 0
            },
            "text/plain": [
              "Validation: |          | 0/? [00:00<?, ?it/s]"
            ]
          },
          "metadata": {},
          "output_type": "display_data"
        },
        {
          "data": {
            "application/vnd.jupyter.widget-view+json": {
              "model_id": "c1543daab6fc4198ba4682cf0a5236c0",
              "version_major": 2,
              "version_minor": 0
            },
            "text/plain": [
              "Validation: |          | 0/? [00:00<?, ?it/s]"
            ]
          },
          "metadata": {},
          "output_type": "display_data"
        },
        {
          "data": {
            "application/vnd.jupyter.widget-view+json": {
              "model_id": "7faec36392ea40d582d6b35d6c7b66fe",
              "version_major": 2,
              "version_minor": 0
            },
            "text/plain": [
              "Validation: |          | 0/? [00:00<?, ?it/s]"
            ]
          },
          "metadata": {},
          "output_type": "display_data"
        },
        {
          "data": {
            "application/vnd.jupyter.widget-view+json": {
              "model_id": "052d1b51e11948a49e0876030e26c9bd",
              "version_major": 2,
              "version_minor": 0
            },
            "text/plain": [
              "Validation: |          | 0/? [00:00<?, ?it/s]"
            ]
          },
          "metadata": {},
          "output_type": "display_data"
        },
        {
          "data": {
            "application/vnd.jupyter.widget-view+json": {
              "model_id": "25266758f0d648a6b9a63c7cdfa79267",
              "version_major": 2,
              "version_minor": 0
            },
            "text/plain": [
              "Validation: |          | 0/? [00:00<?, ?it/s]"
            ]
          },
          "metadata": {},
          "output_type": "display_data"
        },
        {
          "data": {
            "application/vnd.jupyter.widget-view+json": {
              "model_id": "ee744cde33ca45e9a4c4e46d0b56042d",
              "version_major": 2,
              "version_minor": 0
            },
            "text/plain": [
              "Validation: |          | 0/? [00:00<?, ?it/s]"
            ]
          },
          "metadata": {},
          "output_type": "display_data"
        },
        {
          "data": {
            "application/vnd.jupyter.widget-view+json": {
              "model_id": "e59b017070b74b5296d903549e23d139",
              "version_major": 2,
              "version_minor": 0
            },
            "text/plain": [
              "Validation: |          | 0/? [00:00<?, ?it/s]"
            ]
          },
          "metadata": {},
          "output_type": "display_data"
        },
        {
          "data": {
            "application/vnd.jupyter.widget-view+json": {
              "model_id": "19c638e45fa84a0f9cb7269c6b49589b",
              "version_major": 2,
              "version_minor": 0
            },
            "text/plain": [
              "Validation: |          | 0/? [00:00<?, ?it/s]"
            ]
          },
          "metadata": {},
          "output_type": "display_data"
        },
        {
          "data": {
            "application/vnd.jupyter.widget-view+json": {
              "model_id": "0abb54097b1548c9a645827e4ec3cba1",
              "version_major": 2,
              "version_minor": 0
            },
            "text/plain": [
              "Validation: |          | 0/? [00:00<?, ?it/s]"
            ]
          },
          "metadata": {},
          "output_type": "display_data"
        },
        {
          "data": {
            "application/vnd.jupyter.widget-view+json": {
              "model_id": "f92ee6a7368d453aaa1ffd99b79adf9a",
              "version_major": 2,
              "version_minor": 0
            },
            "text/plain": [
              "Validation: |          | 0/? [00:00<?, ?it/s]"
            ]
          },
          "metadata": {},
          "output_type": "display_data"
        },
        {
          "data": {
            "application/vnd.jupyter.widget-view+json": {
              "model_id": "c40258d83333462e857adbc37916b2ce",
              "version_major": 2,
              "version_minor": 0
            },
            "text/plain": [
              "Validation: |          | 0/? [00:00<?, ?it/s]"
            ]
          },
          "metadata": {},
          "output_type": "display_data"
        },
        {
          "data": {
            "application/vnd.jupyter.widget-view+json": {
              "model_id": "bd2ebf22daf44eeea64de1d0411b24bf",
              "version_major": 2,
              "version_minor": 0
            },
            "text/plain": [
              "Validation: |          | 0/? [00:00<?, ?it/s]"
            ]
          },
          "metadata": {},
          "output_type": "display_data"
        },
        {
          "data": {
            "application/vnd.jupyter.widget-view+json": {
              "model_id": "35462cf7b8774767987f5be1eaa234bc",
              "version_major": 2,
              "version_minor": 0
            },
            "text/plain": [
              "Validation: |          | 0/? [00:00<?, ?it/s]"
            ]
          },
          "metadata": {},
          "output_type": "display_data"
        },
        {
          "data": {
            "application/vnd.jupyter.widget-view+json": {
              "model_id": "45110afaa8c14f45aac862e66b94cd33",
              "version_major": 2,
              "version_minor": 0
            },
            "text/plain": [
              "Validation: |          | 0/? [00:00<?, ?it/s]"
            ]
          },
          "metadata": {},
          "output_type": "display_data"
        },
        {
          "data": {
            "application/vnd.jupyter.widget-view+json": {
              "model_id": "3531e9d28fec43f989b492a472b17eb4",
              "version_major": 2,
              "version_minor": 0
            },
            "text/plain": [
              "Validation: |          | 0/? [00:00<?, ?it/s]"
            ]
          },
          "metadata": {},
          "output_type": "display_data"
        },
        {
          "data": {
            "application/vnd.jupyter.widget-view+json": {
              "model_id": "c83244e1bb3a44408eddc1a158cf4458",
              "version_major": 2,
              "version_minor": 0
            },
            "text/plain": [
              "Validation: |          | 0/? [00:00<?, ?it/s]"
            ]
          },
          "metadata": {},
          "output_type": "display_data"
        },
        {
          "data": {
            "application/vnd.jupyter.widget-view+json": {
              "model_id": "3b894f07daf74f60a12465fbbd230233",
              "version_major": 2,
              "version_minor": 0
            },
            "text/plain": [
              "Validation: |          | 0/? [00:00<?, ?it/s]"
            ]
          },
          "metadata": {},
          "output_type": "display_data"
        },
        {
          "name": "stderr",
          "output_type": "stream",
          "text": [
            "c:\\Users\\Danny\\AppData\\Local\\Programs\\Python\\Python311\\Lib\\site-packages\\pytorch_lightning\\trainer\\call.py:54: Detected KeyboardInterrupt, attempting graceful shutdown...\n",
            "LOCAL_RANK: 0 - CUDA_VISIBLE_DEVICES: [0]\n",
            "c:\\Users\\Danny\\AppData\\Local\\Programs\\Python\\Python311\\Lib\\site-packages\\pytorch_lightning\\trainer\\connectors\\data_connector.py:441: The 'test_dataloader' does not have many workers which may be a bottleneck. Consider increasing the value of the `num_workers` argument` to `num_workers=19` in the `DataLoader` to improve performance.\n"
          ]
        },
        {
          "data": {
            "application/vnd.jupyter.widget-view+json": {
              "model_id": "35de45f4b42849169155c047f123a72b",
              "version_major": 2,
              "version_minor": 0
            },
            "text/plain": [
              "Testing: |          | 0/? [00:00<?, ?it/s]"
            ]
          },
          "metadata": {},
          "output_type": "display_data"
        },
        {
          "name": "stderr",
          "output_type": "stream",
          "text": [
            "LOCAL_RANK: 0 - CUDA_VISIBLE_DEVICES: [0]\n"
          ]
        },
        {
          "data": {
            "application/vnd.jupyter.widget-view+json": {
              "model_id": "2ccf74f7ae5e4dd0a82756f1cb6f01a2",
              "version_major": 2,
              "version_minor": 0
            },
            "text/plain": [
              "Testing: |          | 0/? [00:00<?, ?it/s]"
            ]
          },
          "metadata": {},
          "output_type": "display_data"
        },
        {
          "name": "stdout",
          "output_type": "stream",
          "text": [
            "test_log_likelihood: -7317998.000\n"
          ]
        }
      ],
      "source": [
        "# QUESTION 1 TRAIN\n",
        "pretrained_path = \"tb_logs//Flows-ex6//version_0//checkpoints//epoch=0-step=390.ckpt\"\n",
        "model, result = train_model(input_dim = 28*28, num_flows = 4, use_pretrained=False, pretrained_path=pretrained_path)\n",
        "test_res = result[\"test\"][0]\n",
        "print(\"test_log_likelihood: %4.3f\" % (test_res[\"test_loss\"] if \"test_loss\" in test_res else test_res[\"test_log_likelihood\"]))"
      ]
    },
    {
      "cell_type": "markdown",
      "metadata": {
        "id": "-AEQRjFMnsOZ"
      },
      "source": [
        "## Results\n",
        "<!-- <img src=\"https://raw.githubusercontent.com/daiyral/ex5/main/plots/q1/train_elbo.png\" alt=\"Training Loss (Non-Causal)\" width=\"1000\"/> -->"
      ]
    },
    {
      "cell_type": "code",
      "execution_count": 12,
      "metadata": {
        "colab": {
          "base_uri": "https://localhost:8080/",
          "height": 519
        },
        "id": "Y-W60K7vbghR",
        "outputId": "25b032f5-c0da-42e9-84a3-db9a8faa786d"
      },
      "outputs": [
        {
          "name": "stderr",
          "output_type": "stream",
          "text": [
            "Seed set to 2\n",
            "Clipping input data to the valid range for imshow with RGB data ([0..1] for floats or [0..255] for integers). Got range [0.0..255.0].\n"
          ]
        },
        {
          "data": {
            "application/pdf": "[encoded data removed]",
            "image/svg+xml": [
              "<?xml version=\"1.0\" encoding=\"utf-8\" standalone=\"no\"?>\n",
              "<!DOCTYPE svg PUBLIC \"-//W3C//DTD SVG 1.1//EN\"\n",
              "  \"http://www.w3.org/Graphics/SVG/1.1/DTD/svg11.dtd\">\n",
              "<svg xmlns:xlink=\"http://www.w3.org/1999/xlink\" width=\"341.674839pt\" height=\"180.72pt\" viewBox=\"0 0 341.674839 180.72\" xmlns=\"http://www.w3.org/2000/svg\" version=\"1.1\">\n",
              " <metadata>\n",
              "  <rdf:RDF xmlns:dc=\"http://purl.org/dc/elements/1.1/\" xmlns:cc=\"http://creativecommons.org/ns#\" xmlns:rdf=\"http://www.w3.org/1999/02/22-rdf-syntax-ns#\">\n",
              "   <cc:Work>\n",
              "    <dc:type rdf:resource=\"http://purl.org/dc/dcmitype/StillImage\"/>\n",
              "    <dc:date>2024-07-05T14:48:27.757094</dc:date>\n",
              "    <dc:format>image/svg+xml</dc:format>\n",
              "    <dc:creator>\n",
              "     <cc:Agent>\n",
              "      <dc:title>Matplotlib v3.9.0, https://matplotlib.org/</dc:title>\n",
              "     </cc:Agent>\n",
              "    </dc:creator>\n",
              "   </cc:Work>\n",
              "  </rdf:RDF>\n",
              " </metadata>\n",
              " <defs>\n",
              "  <style type=\"text/css\">*{stroke-linejoin: round; stroke-linecap: butt}</style>\n",
              " </defs>\n",
              " <g id=\"figure_1\">\n",
              "  <g id=\"patch_1\">\n",
              "   <path d=\"M 0 180.72 \n",
              "L 341.674839 180.72 \n",
              "L 341.674839 0 \n",
              "L 0 0 \n",
              "z\n",
              "\" style=\"fill: #ffffff\"/>\n",
              "  </g>\n",
              "  <g id=\"axes_1\">\n",
              "   <g clip-path=\"url(#pd7f77d7118)\">\n",
              "    <image xlink:href=\"data:image/png;base64,\n",
              "iVBORw0KGgoAAAANSUhEUgAAAccAAADnCAYAAABrJ50wAAA1MElEQVR4nO2dedxWUxf39yNFUmlOkyQpQkpSUjJUIimUiIgGkijTUzKVPEolKio0SpmS6CkaJEUDmiVDowbNgwbief94P+951/pd91n72vd13Q38vn/t9dnXOWefcd/3+u211r/+97///c8RQgghJOK4Iz0AQggh5GiDkyMhhBACcHIkhBBCAE6OhBBCCMDJkRBCCAE4ORJCCCHA8Vbn9u3blV2gQAFlt2jRQtnr1q2L2jNnzlR9Tz75pLK3bNmi7EGDBnmGmhzVqlVTdpEiRZT9ySefRO0DBw6k5ZgZ0adPH2V/+OGHURuvTffu3ZW9c+fO2P0gIZE4AwcOVHb79u2VvXjx4qh9/vnnJ71fHMO//vUv8/cPPfRQ1H7hhRdU3y233KLsMWPGxO5nyZIlyj733HPN40oeeeQRZS9btkzZH3/8cdL7QuT1wGtRpUoVZS9YsCB2P77raN173DZXrlzK/u2336I2XvNHH31U2SHPwptvvqnsW2+9NeltkVKlSkXtqlWrqr733ntP2a1bt1b20KFDo/YDDzyg+l588cXYY/7+++/KxvO54447YrdFOnbsqGz57XHOuRUrViS9L3mvp0yZovrq168f+1vnnDv77LOjdu3atVXfypUrTfvXX3+N2nhtrDE651y+fPmidsGCBVWf/B7iGEOpVatW1H777bdV3+23365svAfWO8T/HAkhhBCAkyMhhBACcHIkhBBCAFNzRI0RGT16tLKlX9mnhaEm8vnnn0ftSy+9VPV99913ypb+aZ/eFaKHPfzww8ru1auXsqXugVrRTTfdpOxOnTopu3PnzrHHffzxx2PHGKrnSVBfQK1z7969yn7//fdj94W66AcffBA7Jt+Ypc7o+22OHDmUffDgwdjfIlJbQt0pZ86cyv7222/NfYUgrw3y9ddfJ70f37UJeRbwnZKaXMmSJVXfvn37gsaV7Jhatmyp7OHDh5vbrl27Nmr/+eefqm/jxo3Kvvrqq2OP+9Zbb8X2OWdrxGXKlFF29uzZlW1pqv3791e2dW0mT56sbNQR5bZ33nln7H4yYtSoUVEbNe8GDRooW64bweP6sL4D2GdpjL7nHs9Bzh24xmTixInKPuGEE2KPi/A/R0IIIQTg5EgIIYQAnBwJIYQQ4F9WySqfloTIGJOmTZua+0KNYMaMGVEb4w/RP718+fKojXpkhQoVzDFafnCMtcRYnP/85z9RG2N+LrrootjjZHQsyU8//aTsM844I2q3atVK9e3fv1/ZVhxgiF7gnNb3MB5o0aJFyu7atWvURu0S/frnnHOOsqXuhmNEbUzqCfh71KysGLQ1a9YoG+PiSpcureypU6dG7Z9//ln1oZaEsVVSmy5fvrzqW716tbKfe+652DEjIZoOMmTIEGW3adMmauOzO3fuXPO4R4LixYsre/369crGmOz8+fNHbRz/aaedpuzZs2dH7RIlSpjjCIkrRv1Lxgz6wO8YfucyS+XKlZX9zTffKDtv3rzKljoxasao/YWwdetWZcv1LRgDP2DAAGU/88wzypbf5cceeyxoHIxzJIQQQgLg5EgIIYQAnBwJIYQQIEhzfPDBB5Xdr1+/pA80adIkZcs4K+e0hvXUU0+pvo8++ijp44Rofc2bN1e2Lx5K5npEDatQoULKlufjXOK1SxchMWchsaeYNxfvn9Q+UQdFzbFx48bKtq6zT9/asGFD1J42bZrqe/fdd5U9YcKEqO17LjBuTo4RY1ZDQA0kRGNEMCdoup4pjFc+7jj9NzPmXpVgHCDGeNarVy9qy3vnXOI98OlhFpbm6Lv3MtYPc+rib08//XRlox5tbWuBz8W///3v2N/i+eD6AHnN8ffNmjVTfbfddpuyGzZs6B9sDBhX/cUXX0TtQ4cOqb5y5copW8aJ9+zZ0zxOiO6L9wDj0XG9gIT/ORJCCCEAJ0dCCCEECHKroisRl0RLFxK6CXwuhjPPPDNqz5s3T/WdcsopQfuykCVoMFRj3Lhxyrb+fccQCl9pHunCxf1i6ZqFCxfG/hbdOqtWrYo9Jl6nl156SdlYUifEXSGxXEDOJbpJrPvncxnVrVs3dj/t2rVT9iuvvBK1cRl9ly5dlP3aa68lPUZ87jE8Q26LoSmzZs1Sdipucfle7Nq1y/ytFS7kOy4iXZjSfelcYppEWXIN09RhqjLL/WmFczlnh6P4ruOOHTuitiyz5FxiCaevvvpK2VgSSZLKd0p+D51zrnDhwlFbhp44p92XzjlXs2ZNZU+fPj1q4zuPZd8s5PvknHP33HOP+Xv5TcTSXyFgCkkMowsJaVq6dKmyMcxMwv8cCSGEEICTIyGEEAJwciSEEEKAlNLHXXDBBcqWWpn0kTuXmE4OUwJJqlWrpmxMZ2WBY0QNpG/fvpneVyoaggxvQB0Nl0BbXHnllcr+9NNPY3+LS+NRZ0LdBm0JprF74403Yn+bynUbOXKkslHTkeeE5Z8eeeQRZct0cliOq1u3bkmPCc9HPufOOVepUqWk94Wpr5544onY3+J1GzZsmLJDShehNii1QN9+rHAU372V758sVZbRtqizSb0vtCyavN9NmjRRfY8++qiyn3/++dj9olZbtmxZcxwS/G5hKIscF+4Hw9lkurWBAwfGHjPdVK9ePWpjWrcff/zxsIwBrw3q9rVq1Up62xD4nyMhhBACcHIkhBBCAE6OhBBCCHB8yI8/++wzZaP2IsGSVJbG6Jxzr776atTGeLUQDQv7fLE4FpjiKBUOHjwYtWVaM+fCzk+WUvKB9wDjDbNly6ZsmTLu8ccfV32TJ0+OPc5dd92lbJ8+JOPdsPQQxouipjpq1KikjyO1a9R/fJqjjGPF42C8F2qOIRqrpTni+cyZMyfp/crYNuecy507t7Lbtm0buy3qXWjLEkGIpfGgpnjZZZcpG78vGLsowWt8ww03KHvt2rWx20qN0bffVLj44ouVbV0b1PCffvrp2N/i+g1Mgda9e3dly2f9kksuUX0YM4ns3LkzaqeiMYbEZ+NagpB74tO1zz33XGUvXrw4dl/8z5EQQggBODkSQgghACdHQgghBAiKc8S8g08++aSyZd4+3BZj7NB/bfmVZ8yYoew6derE/jYVfNpfsWLFojbmKMTYqQIFCihb5sHEuCvMHfjss88mN2AXlpszq/Dl3E0l7vHCCy9UttSWfDld0zUGX2xpyL5C4q6wlBSWF8rsfp2zx4xxuPj+SU0If2uNCzVEzKGMY8qePXvU/uOPP8zjoHaE2pJ1nDx58kRtfK8xLjWkDJzvuZDvPeYLnThxorKtUlL4rZExkc7ptQfW2oGMsNaCFC9eXNnDhw9X9lVXXRW732uvvVbZIWUJLfB+4Bgw9tvSn/mfIyGEEAJwciSEEEKAoFCO8ePHKxurKj/wwAOx22IaJqwOL5fDY8VzXEpu0a9fP2VjtfRChQpFbUyHdNZZZynbcsX98MMP5ji2bdsWa/fq1St2vz7Gjh2b9G8xzVT79u2Vja4qWbbJFwITUiYmpEQVLsHHZ06G1+CS7ypVqihbutpCXczStd21a1fzt+iK69+/f9Cx4njooYfMfpkuLzS9mgwnuu6661Rfhw4dlI1hWDItH96f+++/X9myLNz8+fPNMaXi+kY3qtwW5SCkYMGCURvDILDUWQjHHaf/99i/f7+yZUpJZN++fUkfB92oSCpuVXSlSn755RdlW25UPG7RokWVLd2qoc+B3Bc+uxj6ZqXbRPifIyGEEAJwciSEEEIATo6EEEIIYGqOvuXhqFW8/vrrUbtLly6qD5fQvvfee8qWKcgwrVQIWNYHQZ1RIkvkOGf7uqU+lxFW6Rvcb48ePZQtl7hLzca5xHRrFqgx4pLv44/Xtz8k1Z7Uu3xpwBCpYX355ZeqD7VpDKOoWLFi1MZrjCE+MtUc/hb1cdQJZeo5DKnA+4dhBHJfeNylS5cqW54PgqEPuLwftWsJlkFDLbdUqVKx2yIYZiBTgeHyfeub4dOSMC1fiK5ds2bN2L4dO3aY20rNCp+/VMKh/vrrL2UPHjxY2fL8cL1Ds2bNlC3DlmTJMOcSUy7K1IcIpk3EUJVNmzYpW36bcA3D7t27lY3v34IFC2K3rV+/vrJz5coVtc8++2zVh88NvjPLli2L2lIPdy5RL5dhO84lnoOE/zkSQgghACdHQgghBODkSAghhABB6eNSiUO65pprlP3xxx/H/haPU6JECWXL+BqfLmqdgy8+bcmSJcqWPnWMUdqwYYM5DkmIRheaFkyCegKer0xp55xzl156adSeNWuWue+TTjopav/222+qz/dc9O7dO2pjCkKM7/KlHJNg2rp69epFbdR7zj//fGVbpWtmzpypbNTzLHxpEy1817F58+ZRG3Um37byWmH6P4ztK1y4cOx+UGfCNGBSn8T9PvbYY+a2Up9FjRhjoVP5Nlna5p49e5SNpb9SSR83dOjQqN26dWvVh9dCplvDclb4DoXgS/0YAq7DkHHwqPXh+gaZps5H/vz5lb19+/aoncp8gPA/R0IIIQTg5EgIIYQAQW5VdNNhFXOZvksu43Uu0TWKVcEt1yIu3ZXuFp87BZdxW6mkcIwYNiGPhUuE0U2AYRJx+3EuccyymvWff/6p+rD6R4hbZ8qUKcqWbkfcVzpd6ohctr13795M77dly5bKrlu3rrJxibtF9erVlS1DTEKWf/vImzevsmWldcR3D+Ryf6wGn5UsX748at99992qb86cObHbhbq8ZBgTbtuoUSPvOP8fGG6CqR1llRysWI/fD0yDdvPNN8ceF0OnMIwM08tJrPcAXei33HKLsjH0SIbitGrVKna/qTJp0iRly1SCIXLC999/r2wM+8MwQQt8bk4++WRl4/dHwv8cCSGEEICTIyGEEAJwciSEEEIAM30chjJgiqYVK1You3z58lHbp5dgKRSrZJUsM4WEamOzZ8+O2qjBYVVz1BxlWRz0i2OpFCQkFZavVFGyYCo9S2PEca1bty62D8El3Fg2TKZ3ck6HfuB+MfTBSicnU2o559yIESOUbV1zLF1jldupUaOGsuUz5Fzicn/ruLt27Yo9DoLpxzCcQeqMl19+ueqbPn167Jicc+7iiy+O2vK9dS4xLAmvldRjLY0RweX6vnSFMqzH0vacs79F+G5iKI4sPxeqrVvjkiEGziXqy1KTRK0TkWnfFi1aZP62RYsWsX2h5xfy3WrQoIGyrXPC9QLy3cVUetaYkhmXBMPOLPifIyGEEAJwciSEEEIATo6EEEIIYGqOmPINfebo6/3iiy+i9sKFC83fylRlztnpykqXLm0N0zwOxhZZ+qUVR+ZcWCxZutJZYckmLFdjgfFcCKaheuqpp6J2yZIlY8fknD4fWW7MucTYN4zLkmnP8LpgrClqE5s3b47a3377rerr2bNn7BgHDRqk+lBjxDI5siQXlsFBpk2bFnvce++9V/VZsW0IXhtMbyhBjdG3L8ncuXOVjdcKNUd5v0Oec5/GmMo7g7qp3BfGKmL6Mflb+XxlBMZ6W2BqPYx7lPz888/KlqnXnNPfS6tUWUbI+9mpUyfzt7g+oHHjxlFbprtzLjHlHX4vx40bF7VlWTDnEtcHjB07NmqjjoupOqdOnZrh2J1LfMZSicfmf46EEEIIwMmREEIIATg5EkIIIYCZWxXz0PliRHLkyBG1ZT6/jLjkkkuULXPv+fz+FqVKlVL22rVrlS190KmUg0JQy8ScfbIfx4R5ZmVpH7zmGPuGuVclWF4Hx5QtW7bYfafz2mTPnl3Zf/zxR9TGHLSHDh1Ker84fsyBilpTuvDFFFqgfnLgwIHY36ailxwpUFPF51WC+jKWJ3v//fdjt73ggguUjfqzvHZ4Ha0xWe9ERlj9eFyM35M6o3wn0o3MUYt5V6Uu6FzimK3vZeXKlZX9zTffxI6hTJkyykaNVea8xvdW5mJ2LixWETnxxBOVvX///tjf8j9HQgghBODkSAghhABBJau8OwtwWWI5oTfffDP2t1aZEXTj4JJhdHtIdy+md/JVnbf+9Ue3AaZfk24TLJuFx5VuZazUja7D1atXuzh89w9dSJaL1gKPkzNnTmUfPHgwLcdJBVxmLsvpOJeYIk6eU9myZVWfr/yOdN2gvIDPY0jJsZAq5lmJfOfwfCwpBseL7jIMdUD5waJIkSLKlu5r337ke4Bj9LlVrXuAZdAwrEymRvSVUpIuaEzv5xujxPfMvPXWW8qW5bBQEsD3OhXOP//8qO1Lj4dp6VatWhW1Tz31VNW3ceNGZYfIGvzPkRBCCAE4ORJCCCEAJ0dCCCEEMDXHqlWrKnvBggVJ7xiX7+MSfdQc69evH7VxWXafPn2ULXW33bt3Jz0m53RpLDxOuXLllI2awciRI6M2Lgm2fNfOOXfSSSdFbSwpI/uc08ur0WceshQZf4saD5ZPSpcWiLov6ilSs8NwEyz/lC5Qa0Bd1Ar7CNXe5bOPmjieL+pQqRw3q0Btevjw4VEbn2VrzL4wqxBk2Jhzidpu27Zto/bgwYNVXyrhQ0iIZtyoUSNly5J4X3/9tXkcS+dFLG3QpznimGVqQVk2y7nEEn/WPcFvAKanPO2006L25MmTzTFaFCxYUNn4zGG4iXU9+J8jIYQQAnByJIQQQgBOjoQQQgiQUpwj+pilLxzj8bDs1PXXX69sqT9geiBMFXXGGWdEbVn+yDl/2joJbosxPojUK7Ek13nnnafs5cuXK1teZtT2rr32WmXLGKeZM2eqPtRyrVijrNSsrNiwU045RdkYT2rRtGlTZYeUCQsBy1t16dJF2fKc8DpapXmc0+8F6kP4zlipsI4WzRGRqRDx+cTSX5JQvSsEK04QNUZ8/1KJFw3RHBH5nuB7XKxYMWXLmEhMvYnP1IwZM8zjWlhlwy688ELVt2LFCmWjdutbh5FZfLGMkpo1aypbllV0jpojIYQQEgQnR0IIIQTg5EgIIYQApuZ41VVXKfuzzz5TNvryQ+JpEOnPxjyX/fv3V7aMs7rzzjuDjiO1Ml9cH2pnO3fujNp16tRRfRgzKX/rnJ13FmPurNhFqXtmdNy4Y2ZESK5EjF3ctGlT1PbFfGZVDtCQ3KOhsW1PPvlk1H766adVX61atZT9+eef+wcbQyqaVbrA42BcYypxgJLQ50CuW8iq+NdUsc4Jn5NZs2YpW8ZVYy5V+X45p98/zK2KPPPMM8p+4oknojZ+t0L0SUuPzAgZc7h161bztw888EDUfvHFF1Uf5tzdtm2bsgcNGhS1UVMcO3asskNyG/M/R0IIIQTg5EgIIYQAQaEchQsXVrasWJ+VLF26VNkVK1aM2ph+q3Xr1sr+4IMPlC1dmJ07d1Z9WB4Kl9lL186nn36q+jA0oEePHsret2+fiyOV0lEhbjlMrYQhFlZaKllSxjm91Nxy7TqX6CJKxZUY4pqT+/JVjreOgyXG0GWOKeLSVUIoK92q0s3sc5vKskXOOTdmzJikjyPTRGJZuhA3XTpTvlmElgWz+jHkAMOw8ubNG9uHZdFkuAaGreB3yxpjv379VN+DDz6obCvl3YQJE2L3m9G28puIoVJW6E3Hjh1VH8pqGLpyzz33RG1MF4ffeDyu5a7nf46EEEIIwMmREEIIATg5EkIIIUBK6eNKlCih7D/++CNqV6hQQfXNnz9f2VbaLJ+GI/tlWiXnnHv55ZeV3bdv39jj+LB86thXuXJlZfs0LYlMh+ecDrFATRX1SFzWLMH7hynuFi9enPQYEbm8GsfgCw2QS/RxW0w/hmn4rOOkgnWvUQ/C0BXsl1ouPsv4WyvF1pFKH+crB5VZnRRTSK5atSrpMd1www3KxnUIK1euTHpf6STkWsi1Es7ptGfWe4zgtcBvK5YCk+EbvtANTOsp12zgud5+++3Kxm8e3iMJPmMyjCyV5x7HIEtuOedcu3btlM1QDkIIISQATo6EEEIIwMmREEIIAVLSHIsXL65sqbVUqVJF9aGuNmLECGVLnQ3TmGGcmYy7GjhwoOoLiZ3C3952223Kfv3112PH6DsOap8dOnSIHYeFLwYylTi5008/Xdnr1q2LPQ7GmcmyRZgaKqRsWCjyfNevX6/6SpYsGftbH1Z825w5c1QflgzCUj4///xz1EaNcfPmzUmPMSs1x1y5ckVtvF/Vq1dXNpalCnmnDpduerjiIJGQ+1e3bl1ly3SctWvXVn2oz8r1AaijIfhdlnHGGOd4//33KxvPZ+TIkVEb9Tordtu5zN/7+vXrK3vy5Mnm70866aSojSlPp0+frmyMa6TmSAghhATAyZEQQggBTLcqVm3wucusihdY4SJ37tzKlm4Qq7IzElpdXFaGRhcXumKspeY+91EqLr1OnTpF7ZdeeskcY4hbJyTNWSrnc7QgXW0yzCgjrPMNdQ+FbHuk3Kpy39ayeucOX1WVVN4ZX/hJVo3J6sdvHL5vAwYMiNqtWrVKdohm6jXnnLvooouUPW/evKgt08E5F54SzmLKlCnKrlevXux+Q5DfbOec++GHH5Qt3b1YkcRX0YNuVUIIISQATo6EEEIIwMmREEIIAY63OtFv7wsrkD52LOuDNla7lzoHphBbtmyZNUxFiGaAYSCDBw9Wtixvhf0YRhACplU6XMvfQ0opod6M916m/8PrhCnRjpReKfVZ3zVFzQrDGSwuvvhiZaOuk1myUveV+0KNMWQc6Ryjta82bdqY26YrdCOd1xi1QKR9+/ZJ70um6sRvDz6733//vbLvu+++qI2hRUiZMmVi+/r06aNsLAclNUbnwvR0+dtdu3apPixZhaFTvXv3jj0OPtuoQVrwP0dCCCEE4ORICCGEAJwcCSGEECClOEcrZVPhwoVV36+//mruW26LWiYiSwahvoU+dYxvC4nvssBzx1RsmC5P6gsNGzZUfRi307Zt26iN+qRMleScHYuJfn0cM956ed3xOKVKlVK2jBfCslqyJJVzidqLjNPavXu36guJxUwneK3kM3b++eervq+++srcl7zO+Czj+Vla2ZEqWRWC7xmz8MWeHguE6GqNGzdWtiyzhVrfxIkTY/eL39YiRYooe8mSJbHbhiLTRMr0oM4lnjuWMMTSWda2Erxuw4cPV/Zjjz2mbPk9we8wfj+mTZuW9Dj4nyMhhBACcHIkhBBCAE6OhBBCCJBSySpE+n5RZ8qbN6+yMZZFUqxYMWVv2LAh9jiog2ZluaQQsOTM6tWrM7Uf1CJQY7Q0OVmWyLlE/Qs1Vqkz+srRSFA/Ri3pcOmG6URq1778jFiKSJbYQV0b43uPVG5Vkh5SuX+nnnpq1MZ80ljCSsYZy5Jozvm/LfK9Pu2001TfTz/9pGz8fspvMX6HEfzGy3NYuHCh6luzZk3sfvC6YYzrkCFDlC2vnbymyUDNkRBCCAmAkyMhhBACpNWtKsF0YxgagK42uTzZCk/wgccJcQ9iCAK6B6VLDF2WMp2ac4khJTIUAl0ZFlieJl++fMq2lkv77h+W1JHni+eOIQiyH4+DY0b3rXTdhKYfk+MIKRuGLh+sCG6FDxUsWFDZW7duNY8rn31fWrNU3HKyP7R027FYgiwE6znJqjR8CMpD6DqVoQ/4jC1fvlzZ8p3BNG2fffaZsq2QNCwdiGEhGI4hXakrVqyI3e/RQtGiRZW9adMmZeN3zHrv+Z8jIYQQAnByJIQQQgBOjoQQQghgao6o3+EydFzCH5J+DZE6DWphqGFJP3hIOi5Epghzzrn8+fPHHsc5fb6+9Hh4LeT54XUL0UWREM3KSveH+MqThWA9J6iBWKXMfByp1HMWGMqBS+UZynFsY90//EZgaTeZOhFL+lng9xH1c0Suj8B3EVPCYfq1VNZ/yHfbd34yZA1DVZDy5csrW5bw8pUJw3UlVkgh/3MkhBBCAE6OhBBCCMDJkRBCCAFMzZEQQgj5J8L/HAkhhBCAkyMhhBACcHIkhBBCAE6OhBBCCMDJkRBCCAE4ORJCCCHA8VZnaPqqDz/8MGr37t1bHwhSl82YMUPZjRo1itpYguX1119X9qxZs6J2//79Vd/dd9+t7KefflrZTZs2jdqzZ892FhjlMmDAgKjdoUMH87dWiaCePXuqvq5duypbllmpX7++6sPrOH/+/AzHntEY0snVV18dtf/73/+av8Vrc9NNN0Xtd955R/W1bNlS2Q0aNFD2zTffnPRxmjRpErUxTd2wYcOUXbVqVWVb1xWfmxo1aii7YsWKUXvZsmWqD6uYt27dOvY4eP+wPJk8X6zwjtx3333Klu9BrVq1VB++Ux07dlS2vN/yOXDOucsuu0zZMq0iXos6deoou0+fPsquUqWKi8P3vlm/RRYsWBC1L7/8ctUnU7w559zw4cOVfccdd5j7luAY161bF7VLliyp+kLOD58LWR4P94UpMnfs2GGMWBMyJuecq1ChQtSWc4Nzzp155pmx2zVr1kzZPXr0SHpbJOS7jPA/R0IIIQTg5EgIIYQAnBwJIYQQwNQcQ/21lg+6XLlyyi5QoICyJ0yYELstlhWR2gTqI0OHDjXHJMeMfZae5Vyizmgdp0iRIma/xcSJE6P2t99+m/R2oaA+hFqvhVXCCnVf69wrVaqk7IULFya9baFCheIH6JwbP3682S9BjTGklBTqfddff33URp2tb9++yrY0RwS1pLx58ya97TnnnKNsWRYIzxVLIKHmKLfFMmH4DFnXccqUKcrGckpy22rVqqk+qZlmxKRJk8x+idSbsWSa770N0RwRqTOmksUTn4s33ngj9rdvvvmmslHTDwFLS2G5q3z58kXtTz/91NzXoEGDova9996r+vDeoy3XcFxxxRWq78CBA8rGb5MF/3MkhBBCAE6OhBBCCMDJkRBCCAHMklXot//888+V/fzzzyu7YMGCURtj3zCOzNIrR48erfpuvfXW2N/6GDNmjLKbN2+e9H7y5MmjbOljl+eaDPJ8MeYONVUJ6jAHDx6M3a+PrIp7RO3r5ZdfVvZtt92m7B9++CFqoxaN57N48WJly+tevHhxc1yWvozs3LlT2XiPLCzt9vbbb1d9MgbSOecefvjh2P36xizPD/WfM844Q9nPPPOMsp944onY/V5zzTXK/vjjj81xxI3JubD4w0suuUTZc+bMidqo7WG8Yb169ZQtx4yxwdY4ZAy1c4lxxvv27Yvd1gdeC6m3o9aOWnznzp2jNr5PiDUm/A7LGM+M+OCDD6L2u+++q/rwO43IbxeunTj77LNjt8P1KNu2bTOPI3XEyZMnq77169eb2zLOkRBCCAmAkyMhhBACmP4GdK9MnTpV2bhMXbqM8N/3efPmKRtdDNK1KNOLOedcixYtrGGabN++PdPbYuqoxx9/PPa3mBYMlxDL80VXTbt27ZQtQwFwP74l7BJ0O2IKMZkOz7kwF9Evv/wStUuUKKH60JWItjwu3uvy5csr+/vvv48dA7p5brzxRmWHuJEtNyqGX3Tq1EnZVgjMyJEjzeNablWkbdu2ypbnh/cuxL1ZtmxZZaOL2XoubrjhBvM4ctsvvvgi6TEh6EZFMKzH50qVyG+TdCM6l/hu4rNg4Ts/dKVafVaKRt97K8eBUhFu+8ILLyi7WLFiUdvnRh0xYoSyZSpIdKNiCJAMDbvwwgtV39atW80xhrxDIfA/R0IIIQTg5EgIIYQAnBwJIYQQwAzlQJ85apAfffRR7O9TKRWCv82ePbuy//jjj9ht0be9fPnyTB83q8CUYePGjVP2c889F7Xbt29v7itEJ8QUTnXr1o39LYbPoF60Zs2a2G27d++u7G7duil76dKlURvTmuE9+Oabb5R9wQUXRG28NoMHD1a2leIOCXkuML2VTH3lnE6jtWrVqqSPg6BeiaXbMLQqBPnM+XRsPP/SpUtH7dWrVyd9zNCSR1YoDurYeA7XXntt1EaNH5f7y3JKGKKFYToYSmWBY54+fbqysTyWhXy2UXu+6667lI3l2KRu7yv3NGrUKGUvWbIkauPaD9RjZeiNc/r+4fcE09jJa5UtWzbVh/dElvTDbTdv3qz6MI1nyPvH/xwJIYQQgJMjIYQQAnByJIQQQoDkg4FcYhopKzbMpyeE6HtYEuj999+P2uh/R783po8LAWMXpeYzd+5cc1vLty3jGJ1LjNe76qqrovbMmTNVX0gqL8TSGJ1z7pVXXona99xzj/lbSw8aO3Zs7G8z+r1F5cqVY/dVp04d1Yfa344dO6I2Pqs4hhBNHI/TsGFDZcuSY1deeWWmj4O6GpZ4euSRR6J2r169VF/Xrl2V/eyzzypbajG++4HxzKgTW7zzzjtJHweRv8eYXdRjFy1apGx5XfE6Ylkjef/w3fz999+Vjdp7zZo1Mxq6c8652bNnKxvT40l8MbtSn8R3Qn4PnUtcd/H2229Hbd+7uGHDBmXL5wo1fvzWYky53LdcK5DRcSW4VgB1RCQkTWTI+8f/HAkhhBCAkyMhhBACcHIkhBBCgCDNUWphziXGzUl88SQYH/Xoo49GbfSZP/XUU8o+77zzYo/j8znLeJstW7aYv8UyK1dffXXUlrFRziXG07z33nvKRg1BMmHCBGXLPJJSLwgFrwWWfkG9xKczSmSuR4xDRc3R8vP7tL9zzz1X2TNmzIjamJcVY6fy5cuX4dgz4s4771S2fAbxGcN7LTVG/D2eT8+ePZMeE26L+UVlGSff+9ajRw9ly3cZS4x16NBB2Xv37lW2LA+FOihy4oknRm1Zqsy5xJy0svSQc/r8ZS7fjI6Lz7KMFcZY2Vq1aim7du3aUfvVV19VfVjS6dJLL1W2dd1xvQDmoZXfCPw+YP5eKz5x6NChysbrKClatKiy8bjyO4zg2g8Zz+tc4joMeW3wuiHynUKNEb8BqIvK6xoSx+iD/zkSQgghACdHQgghBDDTx+G/65j2LGFnAVW/L7roImXLiu/4r/5vv/2mbCwrI3njjTeU3apVq6THlD9/fmVb5a5SSTWH7j/p1nFOu1s6duyo+tCdi2EEEunSci4x9RW6jGSpGLw26Cpt3rx51G7WrJnqw3R4qVSHt36LrjQMsZDumLx586o+vOboGpUhQpiWbtq0abFjci5x2boEnzHLDYTlhfbs2aNseb7ossPUjphi7LXXXova6IbDMUk5wbnE9GsWa9eujdpPP/206sN0eNa99z0XX3/9tbKrVKkStZ955hnVh98P6XaV4THOJUoN6Eq07h+GclhhHxiWJOUDPA6eO77H8tzx9yHlrRB0t6M7vkuXLsqW3yqZMjKjcVjHLVOmjLIxxA7DpUJgKAchhBASACdHQgghBODkSAghhACm5oj+9Rw5cih75cqVsTtOpTxNwiADQgFeeOEFZaPOUbVq1aiNy7ZxuXQquiKej/SLo2b1/PPPK1supx49erTqw7Ix1nXDJeuzZs1S9q5du5QtdTm8t+XKlVO2TMGFJZyaNGmibLyOUnPF85MhIs6lr8RYqNYi9XXU3n3PttTSUOsLGRfeHytdIxJS5g2R5Z6cS9QvJTh+qVs7p/VMX6gQhubIcnP4TOGzjGEhVmgAsn///qidM2dO87dIKs+n9R3DUBUZPtOyZUvVhyE+Mm2ic4k6t0X16tWVLdd/dO7cWfVhSj8Mt5Gp9/B5RORc4yuDhvdI3j9k6tSpysbnCN8xCf9zJIQQQgBOjoQQQgjAyZEQQggBzPRxqBFgaiFZ4sg550qXLh21MbbIp9Ns3bo1ahcqVMgalirfgjz00EPmca0xII0bN1a2TLmFOtuSJUvMfctSU6g54nU966yzojZqjBhTaIF6K8YaYeyfBDVGJHfu3FEbY+ww7d4tt9wSa//111+qDzVHS2/Ga16xYkVlV6tWLWpjSSOZgjAjpBYaqp9bOmNIeitMe2YREuuG9OvXT9kPPvhg0sfF+FCMN0TbQpa3ck6Xj8KSXAcOHDD3FaJHh+iMIffv1FNPVfbGjRuVLVMJ+p4xqTOiNoulsLCcl0WbNm2UjTG9chwjRoyIHVNGSO3dpzfL74kPS2NEMAYy5P7xP0dCCCEE4ORICCGEAGYoB7pbMFM8/nv/3XffRW10eSHWUvNUQiiKFSumbMzgLrPDyxRhzjlXo0YNZWPaIpmOTKa7cy61MWOaN8tllErWeXTzbNq0Kfa3oakDJZjmDF0mcgk4Lv/2ISttYHq/H3/8UdkyNMfntgpJXXb88VqNwMrl0jWMqdcQ636iiwvdf5ZbC6WHAQMGKFtWHZHuS+fs9IzO6TADdIXicyPBFGkYfpEKGMIl3WmVKlVSffjtkc9Urly5VN+qVauUjenlMAxL4vsmyGt13XXXqT6s/BJS7d4C7y3e+xDw2d29e7eypWzj+27JakljxoxRfXhv8VtkHQevFYY04bss4X+OhBBCCMDJkRBCCAE4ORJCCCGAqTliJevLLrss0weaM2eOslHfk4Qunbew9rVz507Vh6ENeFwZKoBhEQjqsbIKOoY6YKo2WU4JdUHUOrFKtqRBgwbKxjCJunXrKvuTTz6J3Rci01lhCSMs2bRw4cLY/WDYzr59+5S9fv16ZUt9CEklbKd///7Kvv/++2O3RZ3i7bffVjamqLKwxoznimnBJL7zw9AjLO8ladSokbJRp7L02HXr1im7VKlSsb/16b7yubHKgPk44YQTlL1t2zZly/cEtVnUuzCcwSLku1W/fn1ly+fPOT3GVMpOnXPOOcrG71jImDEMC0tayXSHzz77rLmvEE0Vv9NWCji8VlJrd06nKET4nyMhhBACcHIkhBBCAE6OhBBCCGCmj8M0WOi/xfRq48ePj9roN8ZSKBbp1BjRdy8JKQHknF9nlGA8jaW7Va5cWdl79+6N2ngtLI0RQX0BNdbp06cnvS9Exrqlcr+2bNli9lsaoy9GS44Ln4OXXnpJ2ddcc42yUUeUHDp0SNmjRo1Sdrpi0mTccEb7kueAzz3GSLZr1y72OGvWrFH2aaedZh7XQmqMOC5f2SLrOAMHDlR2+/btzX3JZxtjPk8++eTY7fD9Qo3Rp5NmllatWikb00bKdJyhY5D9GLuN+3r88ceV3aNHj9j9Hnec/t8K16RYcawFCxY0x2FhaYxIKu8f/3MkhBBCAE6OhBBCCMDJkRBCCAFMzfGnn35S9q+//qpsK/4pndx8883KHjt2bNLbvvzyy+kejnNOl5txLrE8FF4b6fdfu3at6kP9RF5HWQYsFNRLUN+bP3++sqtWrRq7r2HDhin7zjvvjNqpxF3htqi9yLI3zjnXpUuXqP3kk0+ax5X4ytyULVtW2fPmzYsdI56P1Noz6peExJL27t3b7Je5jzEOcMiQIcq2zgE1xpB4ROybOnWquW1m8WmM+KzffffdUdt3PtYYsVRWCPid6tatm7Jl7PO7776r+mTJNOfsOEeZq9gH5opFunfvrmy5bqF58+aqD2MX5buJ4DXu27evsuWzjDmgJ02aZIxY56jFvKupxMzzP0dCCCEE4ORICCGEAGb6uKxyk4aSLVs2ZcsSQaksrcb94hL9EHdSSJXsdC4Ht7bNkSOHsrG0Em4bMg5ZGqxEiRKqT7okMyKV85XpnzDUAcsNyft58OBB1YdltLD/999/j9q++5UnTx5lY+kei1RS3llkVcjB3wHrexJKVt2/w0VoSj/rtyHHCQk1ykqs8+N/joQQQgjAyZEQQggBODkSQgghwDGhOR6N+gmWPlm2bJmyQ8o2IVZJIORo1DyKFCmibCy7JceFqb1wKTZqEzIllSyb5Zxzs2fPVrZMw4f6K6Y5w7AlqUnu2bNH9eE1tzQsXGaP4VBS20SOlvfvaASvOV4rqTf7vh9yXz79EVOmWb/H4+K2WPIpXVjPDZbvKlmypLIxbaIMo+jatavqC/kO+55lGaqC4UC4FiTkuvmuOTVHQgghJABOjoQQQgjAyZEQQggBDpvmmEpMzPHH6yx30geNPnSMV8sqfL7sokWLKht1t3RxNGiOWHILdbV169YpO0RTtfQiTM+F6a3kc4O6Bd6fm266SdlZlXYwFc0qnVjX5mjEl/IN378TTzwxauM1xnJyspQW9vnIqvcPSzpJ/Vyem3OJMdX9+/eP3W9oOrWzzjoramP87saNG81t06lJZhZqjoQQQkga4eRICCGEAJwcCSGEEOCIxTnmy5dP2dKf7Ys1kkN+4oknVB+WXPm7Y/nMUbfYsWOHsrMqzqp8+fLKXrFihbKtHLU+naJSpUpR2xc7aj2/FSpUUDbmabXw6RhSE0INHOMtDxw4EHucdL5/hQsXVrbUhatXr676vvzyS2UXKFBA2du3b4/aWRlzLM8f4xrxHmC8aMWKFaP20qVLs2B0/5dUNEfZL3VP55w788wzlS3jqEN1Q+t9y0oy+2wcLWPkf46EEEIIwMmREEIIAVJyq6aS1u3kk09Wtlyq7GPz5s1RG1OV4Riwgvgrr7wS+9tjEesccMk3uvhy5syp7P3798fuK5VQnFQIcSFZv0UXM7J169ZMjC4cdJ8dqfRx8tmwXLs+2rRpo+zXXntN2ely3aezzFQ6Md1y4PoNeS+qVaum7Nq1a0ftXr16mftN5bkJOZ+QfYWUxvJ9t9IJ3aqEEEJIAJwcCSGEEICTIyGEEAIcEyWrLEJ82Rn1S+655x5lS33yaMXymaNOk1WhGz6s0If169ervhIlSig7XZojgiXHNmzYoOydO3fGbutDaiaY+hC19cOV/u9wlX3DNQByfYCPsmXLKvvHH39My5iyksN1/6pWrRq158+fr/oKFSqk7C1btij7+uuvj9rjx49XfSFhIKl8T9KZSg7fKTmO0G8cNUdCCCEkAE6OhBBCCMDJkRBCCAH+dpojYmktx8L5+bDOP3fu3MrGmDrcVsaOpVOf9KVbs8aULq3Md6/z5s2r7F27dmXqOHgs33hDNKvDpRv6kDHKqKF27txZ2RMnTozaK1euDDrO4XpXQ+4XcjSUjAsB48v37Nmj7Ntuu03Zo0ePzvSx0vWulipVStlYAi+V94CaIyGEEBIAJ0dCCCEEOCbdqtJN53P/pTO10uEiq9xymR2Dc4nLp0MrpmeWU045RdlYWUSCYx40aFDUvvfee1Vft27dlJ1V1VxOOOEEZWMqrFTun7wnhw4dysTojm7SlVIsT548ysaK9jKNopVCMSOONbdqKCGu7ay6FphyEZ91ulUJIYSQwwQnR0IIIQTg5EgIIYQAx6TmKME0YDVq1FA2VjWXS5nnzp2bdQM7TISkj8OQCtRxQsqGSR0HNZwjFXKQzuNa4Qo+pBaI1xz1Eqv0Ujrfv5BwGh/yufKVjpLngOfjG4MMA2nYsGHIEBUYvoDly1avXp30vkLO4Vj4fp566qnKxjSKIecwZMgQZU+bNi1qjxs3LhOjy3qoORJCCCEBcHIkhBBCAE6OhBBCCHDMa44Yf9eiRQtlDxs2LHbbJk2aKHvChAnKPlIlnkJIJbYoXToUapuoQ+E9kmPG8R8t17xChQpR+7vvvlN9eN0Qed3xWuC1suITj8WSVVZcsS/mE2natGnURs0KY9/wOlvnd9JJJ8X27du3zxwT8nePc/y7Q82REEIICYCTIyGEEAJwciSEEEKAY15z/Kdj+sw92hgi9TDUwlA3lP2hWlK6SEVHw2uDOpSMbcyfP7/q2759u7KLFi2q7E2bNkVtnx57uHLj4nHkPQu9Xzly5IjaWOoLY0JDc5UeaULzh4a8f5Ye63t2Q/JJk/+P7z2g5kgIIYQEwMmREEIIAf5xbtUrrrgiak+dOlX1nX766coOSSt1pDhcS8nRdSpLVvncPKmEjKTiOg1xW+XOnVvZN954Y9TGcCAso7Vz586kx4QcjaEAeFy0c+XKFbXLlSun+hYtWqTsv2MpLUnI/TtSaRX/SYReY7pVCSGEkAA4ORJCCCEAJ0dCCCEE+MdpjpK/gwaQTs0qZ86cUdu3BD9kabk1jnReczyOHCPqhNu2bTP3JcMVfv/9d/M41jlgWbADBw4kvW06NSsrrCC0lFRmSef7FrIvXzhNKhwuzZihHPGErC1AqDkSQgghAXByJIQQQgBOjoQQQgjwj9Yc/w6EaB6+Mj+WloHbyjjHUNKln6RT+7OwUudlREhqtqMxzpEkz7F2/0LT4x1rMM6REEIIyUI4ORJCCCEAJ0dCCCEEMDVHQggh5J8I/3MkhBBCAE6OhBBCCMDJkRBCCAE4ORJCCCEAJ0dCCCEE4ORICCGEAP8HEYE1yY/LQh0AAAAASUVORK5CYII=\" id=\"image9e04e4057a\" transform=\"scale(1 -1) translate(0 -166.32)\" x=\"7.2\" y=\"-7.2\" width=\"327.6\" height=\"166.32\"/>\n",
              "   </g>\n",
              "  </g>\n",
              " </g>\n",
              " <defs>\n",
              "  <clipPath id=\"pd7f77d7118\">\n",
              "   <rect x=\"7.2\" y=\"7.2\" width=\"327.274839\" height=\"166.32\"/>\n",
              "  </clipPath>\n",
              " </defs>\n",
              "</svg>\n"
            ],
            "text/plain": [
              "<Figure size 600x300 with 1 Axes>"
            ]
          },
          "metadata": {},
          "output_type": "display_data"
        }
      ],
      "source": [
        "pl.seed_everything(2)\n",
        "samples = model.sample(sample_shape=(8, 28*28))\n",
        "show_imgs(samples.cpu())"
      ]
    },
    {
      "cell_type": "code",
      "execution_count": 11,
      "metadata": {
        "colab": {
          "base_uri": "https://localhost:8080/",
          "height": 1000
        },
        "id": "izH_hLrVnsOa",
        "outputId": "b76f8c99-f062-4444-c962-7eae9dc4665b"
      },
      "outputs": [
        {
          "name": "stderr",
          "output_type": "stream",
          "text": [
            "Clipping input data to the valid range for imshow with RGB data ([0..1] for floats or [0..255] for integers). Got range [2.6205007e-06..128.0].\n"
          ]
        },
        {
          "data": {
            "application/pdf": "[encoded data removed]",
            "image/svg+xml": [
              "<?xml version=\"1.0\" encoding=\"utf-8\" standalone=\"no\"?>\n",
              "<!DOCTYPE svg PUBLIC \"-//W3C//DTD SVG 1.1//EN\"\n",
              "  \"http://www.w3.org/Graphics/SVG/1.1/DTD/svg11.dtd\">\n",
              "<svg xmlns:xlink=\"http://www.w3.org/1999/xlink\" width=\"175.5225pt\" height=\"97.56pt\" viewBox=\"0 0 175.5225 97.56\" xmlns=\"http://www.w3.org/2000/svg\" version=\"1.1\">\n",
              " <metadata>\n",
              "  <rdf:RDF xmlns:dc=\"http://purl.org/dc/elements/1.1/\" xmlns:cc=\"http://creativecommons.org/ns#\" xmlns:rdf=\"http://www.w3.org/1999/02/22-rdf-syntax-ns#\">\n",
              "   <cc:Work>\n",
              "    <dc:type rdf:resource=\"http://purl.org/dc/dcmitype/StillImage\"/>\n",
              "    <dc:date>2024-07-05T14:48:19.407971</dc:date>\n",
              "    <dc:format>image/svg+xml</dc:format>\n",
              "    <dc:creator>\n",
              "     <cc:Agent>\n",
              "      <dc:title>Matplotlib v3.9.0, https://matplotlib.org/</dc:title>\n",
              "     </cc:Agent>\n",
              "    </dc:creator>\n",
              "   </cc:Work>\n",
              "  </rdf:RDF>\n",
              " </metadata>\n",
              " <defs>\n",
              "  <style type=\"text/css\">*{stroke-linejoin: round; stroke-linecap: butt}</style>\n",
              " </defs>\n",
              " <g id=\"figure_1\">\n",
              "  <g id=\"patch_1\">\n",
              "   <path d=\"M 0 97.56 \n",
              "L 175.5225 97.56 \n",
              "L 175.5225 0 \n",
              "L 0 0 \n",
              "z\n",
              "\" style=\"fill: #ffffff\"/>\n",
              "  </g>\n",
              "  <g id=\"axes_1\">\n",
              "   <g clip-path=\"url(#p943679c6c2)\">\n",
              "    <image xlink:href=\"data:image/png;base64,\n",
              "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\" id=\"image5782aeb336\" transform=\"scale(1 -1) translate(0 -83.52)\" x=\"7.2\" y=\"-6.84\" width=\"161.28\" height=\"83.52\"/>\n",
              "   </g>\n",
              "  </g>\n",
              " </g>\n",
              " <defs>\n",
              "  <clipPath id=\"p943679c6c2\">\n",
              "   <rect x=\"7.2\" y=\"7.2\" width=\"161.1225\" height=\"83.16\"/>\n",
              "  </clipPath>\n",
              " </defs>\n",
              "</svg>\n"
            ],
            "text/plain": [
              "<Figure size 300x150 with 1 Axes>"
            ]
          },
          "metadata": {},
          "output_type": "display_data"
        },
        {
          "ename": "AttributeError",
          "evalue": "'NormalizingFlowModel' object has no attribute 'encoder'",
          "output_type": "error",
          "traceback": [
            "\u001b[1;31m---------------------------------------------------------------------------\u001b[0m",
            "\u001b[1;31mAttributeError\u001b[0m                            Traceback (most recent call last)",
            "Cell \u001b[1;32mIn[11], line 10\u001b[0m\n\u001b[0;32m      8\u001b[0m         reconstructed \u001b[38;5;241m=\u001b[39m model\u001b[38;5;241m.\u001b[39mdecoder(z)\n\u001b[0;32m      9\u001b[0m         show_imgs(reconstructed\u001b[38;5;241m.\u001b[39mcpu()\u001b[38;5;241m.\u001b[39mdetach())\n\u001b[1;32m---> 10\u001b[0m \u001b[43mq2\u001b[49m\u001b[43m(\u001b[49m\u001b[38;5;241;43m1\u001b[39;49m\u001b[43m,\u001b[49m\u001b[43m \u001b[49m\u001b[38;5;241;43m2\u001b[39;49m\u001b[43m)\u001b[49m\n\u001b[0;32m     11\u001b[0m q2(\u001b[38;5;241m2\u001b[39m, \u001b[38;5;241m3\u001b[39m)\n\u001b[0;32m     12\u001b[0m q2(\u001b[38;5;241m5\u001b[39m, \u001b[38;5;241m6\u001b[39m)\n",
            "Cell \u001b[1;32mIn[11], line 4\u001b[0m, in \u001b[0;36mq2\u001b[1;34m(i, j)\u001b[0m\n\u001b[0;32m      2\u001b[0m im1, im2 \u001b[38;5;241m=\u001b[39m train_set[i][\u001b[38;5;241m0\u001b[39m], train_set[j][\u001b[38;5;241m0\u001b[39m]\n\u001b[0;32m      3\u001b[0m show_imgs([im1, im2])\n\u001b[1;32m----> 4\u001b[0m (mu1, log_variance1), (mu2, log_variance2) \u001b[38;5;241m=\u001b[39m \u001b[43mmodel\u001b[49m\u001b[38;5;241;43m.\u001b[39;49m\u001b[43mencoder\u001b[49m(im1\u001b[38;5;241m.\u001b[39munsqueeze(\u001b[38;5;241m1\u001b[39m)), model\u001b[38;5;241m.\u001b[39mencoder(im2\u001b[38;5;241m.\u001b[39munsqueeze(\u001b[38;5;241m1\u001b[39m))\n\u001b[0;32m      5\u001b[0m \u001b[38;5;28;01mfor\u001b[39;00m i \u001b[38;5;129;01min\u001b[39;00m \u001b[38;5;28mrange\u001b[39m(\u001b[38;5;241m0\u001b[39m, \u001b[38;5;241m10\u001b[39m):\n\u001b[0;32m      6\u001b[0m     mu, log_variance \u001b[38;5;241m=\u001b[39m mu1 \u001b[38;5;241m*\u001b[39m (\u001b[38;5;241m1\u001b[39m \u001b[38;5;241m-\u001b[39m i\u001b[38;5;241m/\u001b[39m\u001b[38;5;241m10\u001b[39m) \u001b[38;5;241m+\u001b[39m mu2 \u001b[38;5;241m*\u001b[39m i\u001b[38;5;241m/\u001b[39m\u001b[38;5;241m10\u001b[39m, log_variance1 \u001b[38;5;241m*\u001b[39m (\u001b[38;5;241m1\u001b[39m \u001b[38;5;241m-\u001b[39m i\u001b[38;5;241m/\u001b[39m\u001b[38;5;241m10\u001b[39m) \u001b[38;5;241m+\u001b[39m log_variance2 \u001b[38;5;241m*\u001b[39m i\u001b[38;5;241m/\u001b[39m\u001b[38;5;241m10\u001b[39m\n",
            "File \u001b[1;32mc:\\Users\\Danny\\AppData\\Local\\Programs\\Python\\Python311\\Lib\\site-packages\\torch\\nn\\modules\\module.py:1709\u001b[0m, in \u001b[0;36mModule.__getattr__\u001b[1;34m(self, name)\u001b[0m\n\u001b[0;32m   1707\u001b[0m     \u001b[38;5;28;01mif\u001b[39;00m name \u001b[38;5;129;01min\u001b[39;00m modules:\n\u001b[0;32m   1708\u001b[0m         \u001b[38;5;28;01mreturn\u001b[39;00m modules[name]\n\u001b[1;32m-> 1709\u001b[0m \u001b[38;5;28;01mraise\u001b[39;00m \u001b[38;5;167;01mAttributeError\u001b[39;00m(\u001b[38;5;124mf\u001b[39m\u001b[38;5;124m\"\u001b[39m\u001b[38;5;124m'\u001b[39m\u001b[38;5;132;01m{\u001b[39;00m\u001b[38;5;28mtype\u001b[39m(\u001b[38;5;28mself\u001b[39m)\u001b[38;5;241m.\u001b[39m\u001b[38;5;18m__name__\u001b[39m\u001b[38;5;132;01m}\u001b[39;00m\u001b[38;5;124m'\u001b[39m\u001b[38;5;124m object has no attribute \u001b[39m\u001b[38;5;124m'\u001b[39m\u001b[38;5;132;01m{\u001b[39;00mname\u001b[38;5;132;01m}\u001b[39;00m\u001b[38;5;124m'\u001b[39m\u001b[38;5;124m\"\u001b[39m)\n",
            "\u001b[1;31mAttributeError\u001b[0m: 'NormalizingFlowModel' object has no attribute 'encoder'"
          ]
        }
      ],
      "source": [
        "def q2(i, j):\n",
        "    im1, im2 = train_set[i][0], train_set[j][0]\n",
        "    show_imgs([im1, im2])\n",
        "    (mu1, log_variance1), (mu2, log_variance2) = model.encoder(im1.unsqueeze(1)), model.encoder(im2.unsqueeze(1))\n",
        "    for i in range(0, 10):\n",
        "        mu, log_variance = mu1 * (1 - i/10) + mu2 * i/10, log_variance1 * (1 - i/10) + log_variance2 * i/10\n",
        "        z = model.latent_sample(mu.unsqueeze(0), log_variance.unsqueeze(0))\n",
        "        reconstructed = model.decoder(z)\n",
        "        show_imgs(reconstructed.cpu().detach())\n",
        "q2(1, 2)\n",
        "q2(2, 3)\n",
        "q2(5, 6)"
      ]
    }
  ],
  "metadata": {
    "accelerator": "GPU",
    "colab": {
      "gpuType": "T4",
      "provenance": []
    },
    "kernelspec": {
      "display_name": "Python 3",
      "name": "python3"
    },
    "language_info": {
      "codemirror_mode": {
        "name": "ipython",
        "version": 3
      },
      "file_extension": ".py",
      "mimetype": "text/x-python",
      "name": "python",
      "nbconvert_exporter": "python",
      "pygments_lexer": "ipython3",
      "version": "3.11.5"
    },
    "widgets": {
      "application/vnd.jupyter.widget-state+json": {
        "01664b9aedb8488a9f4031aa3492e4c0": {
          "model_module": "@jupyter-widgets/base",
          "model_module_version": "1.2.0",
          "model_name": "LayoutModel",
          "state": {
            "_model_module": "@jupyter-widgets/base",
            "_model_module_version": "1.2.0",
            "_model_name": "LayoutModel",
            "_view_count": null,
            "_view_module": "@jupyter-widgets/base",
            "_view_module_version": "1.2.0",
            "_view_name": "LayoutView",
            "align_content": null,
            "align_items": null,
            "align_self": null,
            "border": null,
            "bottom": null,
            "display": null,
            "flex": "2",
            "flex_flow": null,
            "grid_area": null,
            "grid_auto_columns": null,
            "grid_auto_flow": null,
            "grid_auto_rows": null,
            "grid_column": null,
            "grid_gap": null,
            "grid_row": null,
            "grid_template_areas": null,
            "grid_template_columns": null,
            "grid_template_rows": null,
            "height": null,
            "justify_content": null,
            "justify_items": null,
            "left": null,
            "margin": null,
            "max_height": null,
            "max_width": null,
            "min_height": null,
            "min_width": null,
            "object_fit": null,
            "object_position": null,
            "order": null,
            "overflow": null,
            "overflow_x": null,
            "overflow_y": null,
            "padding": null,
            "right": null,
            "top": null,
            "visibility": null,
            "width": null
          }
        },
        "0791d07a942e474daa97b181846b55a1": {
          "model_module": "@jupyter-widgets/controls",
          "model_module_version": "1.5.0",
          "model_name": "HTMLModel",
          "state": {
            "_dom_classes": [],
            "_model_module": "@jupyter-widgets/controls",
            "_model_module_version": "1.5.0",
            "_model_name": "HTMLModel",
            "_view_count": null,
            "_view_module": "@jupyter-widgets/controls",
            "_view_module_version": "1.5.0",
            "_view_name": "HTMLView",
            "description": "",
            "description_tooltip": null,
            "layout": "IPY_MODEL_46c93a5cf1c8421aa0fc1e217c2e229d",
            "placeholder": "​",
            "style": "IPY_MODEL_645df64423fc4de3b22532404d4b6d44",
            "value": " 79/79 [00:02&lt;00:00, 29.31it/s]"
          }
        },
        "0e31f520164a4bf7babb984d23f6d70b": {
          "model_module": "@jupyter-widgets/controls",
          "model_module_version": "1.5.0",
          "model_name": "HTMLModel",
          "state": {
            "_dom_classes": [],
            "_model_module": "@jupyter-widgets/controls",
            "_model_module_version": "1.5.0",
            "_model_name": "HTMLModel",
            "_view_count": null,
            "_view_module": "@jupyter-widgets/controls",
            "_view_module_version": "1.5.0",
            "_view_name": "HTMLView",
            "description": "",
            "description_tooltip": null,
            "layout": "IPY_MODEL_b1f903d69e6849f693a475df3316979f",
            "placeholder": "​",
            "style": "IPY_MODEL_2a6bd5516ebb40c1956559052323d50d",
            "value": " 79/79 [00:03&lt;00:00, 20.62it/s]"
          }
        },
        "29184af70bd542a68c9f07d6c540aa09": {
          "model_module": "@jupyter-widgets/controls",
          "model_module_version": "1.5.0",
          "model_name": "DescriptionStyleModel",
          "state": {
            "_model_module": "@jupyter-widgets/controls",
            "_model_module_version": "1.5.0",
            "_model_name": "DescriptionStyleModel",
            "_view_count": null,
            "_view_module": "@jupyter-widgets/base",
            "_view_module_version": "1.2.0",
            "_view_name": "StyleView",
            "description_width": ""
          }
        },
        "2a6bd5516ebb40c1956559052323d50d": {
          "model_module": "@jupyter-widgets/controls",
          "model_module_version": "1.5.0",
          "model_name": "DescriptionStyleModel",
          "state": {
            "_model_module": "@jupyter-widgets/controls",
            "_model_module_version": "1.5.0",
            "_model_name": "DescriptionStyleModel",
            "_view_count": null,
            "_view_module": "@jupyter-widgets/base",
            "_view_module_version": "1.2.0",
            "_view_name": "StyleView",
            "description_width": ""
          }
        },
        "2e6e6d0f2d5a4b1c87abd1920b1bdc4b": {
          "model_module": "@jupyter-widgets/base",
          "model_module_version": "1.2.0",
          "model_name": "LayoutModel",
          "state": {
            "_model_module": "@jupyter-widgets/base",
            "_model_module_version": "1.2.0",
            "_model_name": "LayoutModel",
            "_view_count": null,
            "_view_module": "@jupyter-widgets/base",
            "_view_module_version": "1.2.0",
            "_view_name": "LayoutView",
            "align_content": null,
            "align_items": null,
            "align_self": null,
            "border": null,
            "bottom": null,
            "display": null,
            "flex": null,
            "flex_flow": null,
            "grid_area": null,
            "grid_auto_columns": null,
            "grid_auto_flow": null,
            "grid_auto_rows": null,
            "grid_column": null,
            "grid_gap": null,
            "grid_row": null,
            "grid_template_areas": null,
            "grid_template_columns": null,
            "grid_template_rows": null,
            "height": null,
            "justify_content": null,
            "justify_items": null,
            "left": null,
            "margin": null,
            "max_height": null,
            "max_width": null,
            "min_height": null,
            "min_width": null,
            "object_fit": null,
            "object_position": null,
            "order": null,
            "overflow": null,
            "overflow_x": null,
            "overflow_y": null,
            "padding": null,
            "right": null,
            "top": null,
            "visibility": null,
            "width": null
          }
        },
        "411b1f11155f437fb31a52d8bd954d53": {
          "model_module": "@jupyter-widgets/controls",
          "model_module_version": "1.5.0",
          "model_name": "FloatProgressModel",
          "state": {
            "_dom_classes": [],
            "_model_module": "@jupyter-widgets/controls",
            "_model_module_version": "1.5.0",
            "_model_name": "FloatProgressModel",
            "_view_count": null,
            "_view_module": "@jupyter-widgets/controls",
            "_view_module_version": "1.5.0",
            "_view_name": "ProgressView",
            "bar_style": "success",
            "description": "",
            "description_tooltip": null,
            "layout": "IPY_MODEL_5835871934b444e1bd84bc30e276cb0b",
            "max": 79,
            "min": 0,
            "orientation": "horizontal",
            "style": "IPY_MODEL_c02ae0c813964142bb9f66c2a361c9ac",
            "value": 79
          }
        },
        "43b4ba6b4bf64af485b9e1252a8b6287": {
          "model_module": "@jupyter-widgets/controls",
          "model_module_version": "1.5.0",
          "model_name": "HTMLModel",
          "state": {
            "_dom_classes": [],
            "_model_module": "@jupyter-widgets/controls",
            "_model_module_version": "1.5.0",
            "_model_name": "HTMLModel",
            "_view_count": null,
            "_view_module": "@jupyter-widgets/controls",
            "_view_module_version": "1.5.0",
            "_view_name": "HTMLView",
            "description": "",
            "description_tooltip": null,
            "layout": "IPY_MODEL_2e6e6d0f2d5a4b1c87abd1920b1bdc4b",
            "placeholder": "​",
            "style": "IPY_MODEL_29184af70bd542a68c9f07d6c540aa09",
            "value": "Testing DataLoader 0: 100%"
          }
        },
        "446e703b0c4140b091570386f4dd874a": {
          "model_module": "@jupyter-widgets/controls",
          "model_module_version": "1.5.0",
          "model_name": "DescriptionStyleModel",
          "state": {
            "_model_module": "@jupyter-widgets/controls",
            "_model_module_version": "1.5.0",
            "_model_name": "DescriptionStyleModel",
            "_view_count": null,
            "_view_module": "@jupyter-widgets/base",
            "_view_module_version": "1.2.0",
            "_view_name": "StyleView",
            "description_width": ""
          }
        },
        "46c93a5cf1c8421aa0fc1e217c2e229d": {
          "model_module": "@jupyter-widgets/base",
          "model_module_version": "1.2.0",
          "model_name": "LayoutModel",
          "state": {
            "_model_module": "@jupyter-widgets/base",
            "_model_module_version": "1.2.0",
            "_model_name": "LayoutModel",
            "_view_count": null,
            "_view_module": "@jupyter-widgets/base",
            "_view_module_version": "1.2.0",
            "_view_name": "LayoutView",
            "align_content": null,
            "align_items": null,
            "align_self": null,
            "border": null,
            "bottom": null,
            "display": null,
            "flex": null,
            "flex_flow": null,
            "grid_area": null,
            "grid_auto_columns": null,
            "grid_auto_flow": null,
            "grid_auto_rows": null,
            "grid_column": null,
            "grid_gap": null,
            "grid_row": null,
            "grid_template_areas": null,
            "grid_template_columns": null,
            "grid_template_rows": null,
            "height": null,
            "justify_content": null,
            "justify_items": null,
            "left": null,
            "margin": null,
            "max_height": null,
            "max_width": null,
            "min_height": null,
            "min_width": null,
            "object_fit": null,
            "object_position": null,
            "order": null,
            "overflow": null,
            "overflow_x": null,
            "overflow_y": null,
            "padding": null,
            "right": null,
            "top": null,
            "visibility": null,
            "width": null
          }
        },
        "5835871934b444e1bd84bc30e276cb0b": {
          "model_module": "@jupyter-widgets/base",
          "model_module_version": "1.2.0",
          "model_name": "LayoutModel",
          "state": {
            "_model_module": "@jupyter-widgets/base",
            "_model_module_version": "1.2.0",
            "_model_name": "LayoutModel",
            "_view_count": null,
            "_view_module": "@jupyter-widgets/base",
            "_view_module_version": "1.2.0",
            "_view_name": "LayoutView",
            "align_content": null,
            "align_items": null,
            "align_self": null,
            "border": null,
            "bottom": null,
            "display": null,
            "flex": "2",
            "flex_flow": null,
            "grid_area": null,
            "grid_auto_columns": null,
            "grid_auto_flow": null,
            "grid_auto_rows": null,
            "grid_column": null,
            "grid_gap": null,
            "grid_row": null,
            "grid_template_areas": null,
            "grid_template_columns": null,
            "grid_template_rows": null,
            "height": null,
            "justify_content": null,
            "justify_items": null,
            "left": null,
            "margin": null,
            "max_height": null,
            "max_width": null,
            "min_height": null,
            "min_width": null,
            "object_fit": null,
            "object_position": null,
            "order": null,
            "overflow": null,
            "overflow_x": null,
            "overflow_y": null,
            "padding": null,
            "right": null,
            "top": null,
            "visibility": null,
            "width": null
          }
        },
        "645df64423fc4de3b22532404d4b6d44": {
          "model_module": "@jupyter-widgets/controls",
          "model_module_version": "1.5.0",
          "model_name": "DescriptionStyleModel",
          "state": {
            "_model_module": "@jupyter-widgets/controls",
            "_model_module_version": "1.5.0",
            "_model_name": "DescriptionStyleModel",
            "_view_count": null,
            "_view_module": "@jupyter-widgets/base",
            "_view_module_version": "1.2.0",
            "_view_name": "StyleView",
            "description_width": ""
          }
        },
        "66321ec3082c4f2e82004f36841027a6": {
          "model_module": "@jupyter-widgets/controls",
          "model_module_version": "1.5.0",
          "model_name": "HBoxModel",
          "state": {
            "_dom_classes": [],
            "_model_module": "@jupyter-widgets/controls",
            "_model_module_version": "1.5.0",
            "_model_name": "HBoxModel",
            "_view_count": null,
            "_view_module": "@jupyter-widgets/controls",
            "_view_module_version": "1.5.0",
            "_view_name": "HBoxView",
            "box_style": "",
            "children": [
              "IPY_MODEL_43b4ba6b4bf64af485b9e1252a8b6287",
              "IPY_MODEL_b1cfd5928a144458adc0ce7415ef6010",
              "IPY_MODEL_0e31f520164a4bf7babb984d23f6d70b"
            ],
            "layout": "IPY_MODEL_ee0044f500d742a7bac85586d44b9929"
          }
        },
        "827c6a13c52149259e3728e4d4e644b2": {
          "model_module": "@jupyter-widgets/base",
          "model_module_version": "1.2.0",
          "model_name": "LayoutModel",
          "state": {
            "_model_module": "@jupyter-widgets/base",
            "_model_module_version": "1.2.0",
            "_model_name": "LayoutModel",
            "_view_count": null,
            "_view_module": "@jupyter-widgets/base",
            "_view_module_version": "1.2.0",
            "_view_name": "LayoutView",
            "align_content": null,
            "align_items": null,
            "align_self": null,
            "border": null,
            "bottom": null,
            "display": "inline-flex",
            "flex": null,
            "flex_flow": "row wrap",
            "grid_area": null,
            "grid_auto_columns": null,
            "grid_auto_flow": null,
            "grid_auto_rows": null,
            "grid_column": null,
            "grid_gap": null,
            "grid_row": null,
            "grid_template_areas": null,
            "grid_template_columns": null,
            "grid_template_rows": null,
            "height": null,
            "justify_content": null,
            "justify_items": null,
            "left": null,
            "margin": null,
            "max_height": null,
            "max_width": null,
            "min_height": null,
            "min_width": null,
            "object_fit": null,
            "object_position": null,
            "order": null,
            "overflow": null,
            "overflow_x": null,
            "overflow_y": null,
            "padding": null,
            "right": null,
            "top": null,
            "visibility": null,
            "width": "100%"
          }
        },
        "955a0c6dbfbe4a7089f0ffd6c22cc72f": {
          "model_module": "@jupyter-widgets/controls",
          "model_module_version": "1.5.0",
          "model_name": "HBoxModel",
          "state": {
            "_dom_classes": [],
            "_model_module": "@jupyter-widgets/controls",
            "_model_module_version": "1.5.0",
            "_model_name": "HBoxModel",
            "_view_count": null,
            "_view_module": "@jupyter-widgets/controls",
            "_view_module_version": "1.5.0",
            "_view_name": "HBoxView",
            "box_style": "",
            "children": [
              "IPY_MODEL_e646fb573b2047d9a54ffa7e420561e8",
              "IPY_MODEL_411b1f11155f437fb31a52d8bd954d53",
              "IPY_MODEL_0791d07a942e474daa97b181846b55a1"
            ],
            "layout": "IPY_MODEL_827c6a13c52149259e3728e4d4e644b2"
          }
        },
        "a97f2d91d86d4a0aa13f14ab2115ae21": {
          "model_module": "@jupyter-widgets/controls",
          "model_module_version": "1.5.0",
          "model_name": "ProgressStyleModel",
          "state": {
            "_model_module": "@jupyter-widgets/controls",
            "_model_module_version": "1.5.0",
            "_model_name": "ProgressStyleModel",
            "_view_count": null,
            "_view_module": "@jupyter-widgets/base",
            "_view_module_version": "1.2.0",
            "_view_name": "StyleView",
            "bar_color": null,
            "description_width": ""
          }
        },
        "b1cfd5928a144458adc0ce7415ef6010": {
          "model_module": "@jupyter-widgets/controls",
          "model_module_version": "1.5.0",
          "model_name": "FloatProgressModel",
          "state": {
            "_dom_classes": [],
            "_model_module": "@jupyter-widgets/controls",
            "_model_module_version": "1.5.0",
            "_model_name": "FloatProgressModel",
            "_view_count": null,
            "_view_module": "@jupyter-widgets/controls",
            "_view_module_version": "1.5.0",
            "_view_name": "ProgressView",
            "bar_style": "success",
            "description": "",
            "description_tooltip": null,
            "layout": "IPY_MODEL_01664b9aedb8488a9f4031aa3492e4c0",
            "max": 79,
            "min": 0,
            "orientation": "horizontal",
            "style": "IPY_MODEL_a97f2d91d86d4a0aa13f14ab2115ae21",
            "value": 79
          }
        },
        "b1f903d69e6849f693a475df3316979f": {
          "model_module": "@jupyter-widgets/base",
          "model_module_version": "1.2.0",
          "model_name": "LayoutModel",
          "state": {
            "_model_module": "@jupyter-widgets/base",
            "_model_module_version": "1.2.0",
            "_model_name": "LayoutModel",
            "_view_count": null,
            "_view_module": "@jupyter-widgets/base",
            "_view_module_version": "1.2.0",
            "_view_name": "LayoutView",
            "align_content": null,
            "align_items": null,
            "align_self": null,
            "border": null,
            "bottom": null,
            "display": null,
            "flex": null,
            "flex_flow": null,
            "grid_area": null,
            "grid_auto_columns": null,
            "grid_auto_flow": null,
            "grid_auto_rows": null,
            "grid_column": null,
            "grid_gap": null,
            "grid_row": null,
            "grid_template_areas": null,
            "grid_template_columns": null,
            "grid_template_rows": null,
            "height": null,
            "justify_content": null,
            "justify_items": null,
            "left": null,
            "margin": null,
            "max_height": null,
            "max_width": null,
            "min_height": null,
            "min_width": null,
            "object_fit": null,
            "object_position": null,
            "order": null,
            "overflow": null,
            "overflow_x": null,
            "overflow_y": null,
            "padding": null,
            "right": null,
            "top": null,
            "visibility": null,
            "width": null
          }
        },
        "c02ae0c813964142bb9f66c2a361c9ac": {
          "model_module": "@jupyter-widgets/controls",
          "model_module_version": "1.5.0",
          "model_name": "ProgressStyleModel",
          "state": {
            "_model_module": "@jupyter-widgets/controls",
            "_model_module_version": "1.5.0",
            "_model_name": "ProgressStyleModel",
            "_view_count": null,
            "_view_module": "@jupyter-widgets/base",
            "_view_module_version": "1.2.0",
            "_view_name": "StyleView",
            "bar_color": null,
            "description_width": ""
          }
        },
        "e646fb573b2047d9a54ffa7e420561e8": {
          "model_module": "@jupyter-widgets/controls",
          "model_module_version": "1.5.0",
          "model_name": "HTMLModel",
          "state": {
            "_dom_classes": [],
            "_model_module": "@jupyter-widgets/controls",
            "_model_module_version": "1.5.0",
            "_model_name": "HTMLModel",
            "_view_count": null,
            "_view_module": "@jupyter-widgets/controls",
            "_view_module_version": "1.5.0",
            "_view_name": "HTMLView",
            "description": "",
            "description_tooltip": null,
            "layout": "IPY_MODEL_e74e08c9fb654724acc8373e356edf01",
            "placeholder": "​",
            "style": "IPY_MODEL_446e703b0c4140b091570386f4dd874a",
            "value": "Testing DataLoader 0: 100%"
          }
        },
        "e74e08c9fb654724acc8373e356edf01": {
          "model_module": "@jupyter-widgets/base",
          "model_module_version": "1.2.0",
          "model_name": "LayoutModel",
          "state": {
            "_model_module": "@jupyter-widgets/base",
            "_model_module_version": "1.2.0",
            "_model_name": "LayoutModel",
            "_view_count": null,
            "_view_module": "@jupyter-widgets/base",
            "_view_module_version": "1.2.0",
            "_view_name": "LayoutView",
            "align_content": null,
            "align_items": null,
            "align_self": null,
            "border": null,
            "bottom": null,
            "display": null,
            "flex": null,
            "flex_flow": null,
            "grid_area": null,
            "grid_auto_columns": null,
            "grid_auto_flow": null,
            "grid_auto_rows": null,
            "grid_column": null,
            "grid_gap": null,
            "grid_row": null,
            "grid_template_areas": null,
            "grid_template_columns": null,
            "grid_template_rows": null,
            "height": null,
            "justify_content": null,
            "justify_items": null,
            "left": null,
            "margin": null,
            "max_height": null,
            "max_width": null,
            "min_height": null,
            "min_width": null,
            "object_fit": null,
            "object_position": null,
            "order": null,
            "overflow": null,
            "overflow_x": null,
            "overflow_y": null,
            "padding": null,
            "right": null,
            "top": null,
            "visibility": null,
            "width": null
          }
        },
        "ee0044f500d742a7bac85586d44b9929": {
          "model_module": "@jupyter-widgets/base",
          "model_module_version": "1.2.0",
          "model_name": "LayoutModel",
          "state": {
            "_model_module": "@jupyter-widgets/base",
            "_model_module_version": "1.2.0",
            "_model_name": "LayoutModel",
            "_view_count": null,
            "_view_module": "@jupyter-widgets/base",
            "_view_module_version": "1.2.0",
            "_view_name": "LayoutView",
            "align_content": null,
            "align_items": null,
            "align_self": null,
            "border": null,
            "bottom": null,
            "display": "inline-flex",
            "flex": null,
            "flex_flow": "row wrap",
            "grid_area": null,
            "grid_auto_columns": null,
            "grid_auto_flow": null,
            "grid_auto_rows": null,
            "grid_column": null,
            "grid_gap": null,
            "grid_row": null,
            "grid_template_areas": null,
            "grid_template_columns": null,
            "grid_template_rows": null,
            "height": null,
            "justify_content": null,
            "justify_items": null,
            "left": null,
            "margin": null,
            "max_height": null,
            "max_width": null,
            "min_height": null,
            "min_width": null,
            "object_fit": null,
            "object_position": null,
            "order": null,
            "overflow": null,
            "overflow_x": null,
            "overflow_y": null,
            "padding": null,
            "right": null,
            "top": null,
            "visibility": null,
            "width": "100%"
          }
        }
      }
    }
  },
  "nbformat": 4,
  "nbformat_minor": 0
}
