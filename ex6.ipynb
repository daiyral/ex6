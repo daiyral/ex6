{
  "cells": [
    {
      "cell_type": "markdown",
      "metadata": {
        "id": "E_wGwPYLbghK"
      },
      "source": [
        "## Normalizing Flows - Exercise 6.\n",
        "### Daniel Aibinder 318239639, Yonathan Dovgolevsky 327709648"
      ]
    },
    {
      "cell_type": "code",
      "execution_count": 1,
      "metadata": {
        "colab": {
          "base_uri": "https://localhost:8080/",
          "height": 105
        },
        "id": "jUdClyTnbghM",
        "outputId": "0b691a00-8229-4fba-ada7-da73c9c4dfbe"
      },
      "outputs": [
        {
          "name": "stderr",
          "output_type": "stream",
          "text": [
            "C:\\Users\\Danny\\AppData\\Local\\Temp\\ipykernel_15808\\3028478413.py:11: DeprecationWarning: `set_matplotlib_formats` is deprecated since IPython 7.23, directly use `matplotlib_inline.backend_inline.set_matplotlib_formats()`\n",
            "  set_matplotlib_formats('svg', 'pdf') # For export\n",
            "Global seed set to 42\n"
          ]
        },
        {
          "name": "stdout",
          "output_type": "stream",
          "text": [
            "Using device cuda:0\n"
          ]
        },
        {
          "data": {
            "text/plain": [
              "<Figure size 640x480 with 0 Axes>"
            ]
          },
          "metadata": {},
          "output_type": "display_data"
        }
      ],
      "source": [
        "## Standard libraries\n",
        "import os\n",
        "import math\n",
        "import numpy as np\n",
        "\n",
        "## Imports for plotting\n",
        "import matplotlib.pyplot as plt\n",
        "plt.set_cmap('cividis')\n",
        "%matplotlib inline\n",
        "from IPython.display import set_matplotlib_formats\n",
        "set_matplotlib_formats('svg', 'pdf') # For export\n",
        "from matplotlib.colors import to_rgb\n",
        "import seaborn as sns\n",
        "\n",
        "## Progress bar\n",
        "from tqdm.notebook import tqdm\n",
        "\n",
        "## PyTorch\n",
        "import torch\n",
        "import torch.nn as nn\n",
        "import torch.nn.functional as F\n",
        "import torch.utils.data as data\n",
        "import torch.optim as optim\n",
        "# Torchvision\n",
        "import torchvision\n",
        "from torchvision.datasets import MNIST\n",
        "from torchvision import transforms\n",
        "# PyTorch Lightning\n",
        "try:\n",
        "    import pytorch_lightning as pl\n",
        "except ModuleNotFoundError: # Google Colab does not have PyTorch Lightning installed by default. Hence, we do it here if necessary\n",
        "    !pip install --quiet pytorch-lightning>=1.4\n",
        "    import pytorch_lightning as pl\n",
        "from pytorch_lightning.callbacks import LearningRateMonitor, ModelCheckpoint\n",
        "from pytorch_lightning.loggers import TensorBoardLogger\n",
        "\n",
        "\n",
        "# Path to the folder where the datasets are/should be downloaded (e.g. MNIST)\n",
        "DATASET_PATH = \"./data\"\n",
        "# Path to the folder where the pretrained models are saved\n",
        "CHECKPOINT_PATH = \"./saved_models/tutorial12\"\n",
        "\n",
        "# Setting the seed\n",
        "pl.seed_everything(42)\n",
        "\n",
        "# Ensure that all operations are deterministic on GPU (if used) for reproducibility\n",
        "torch.backends.cudnn.deterministic = True\n",
        "torch.backends.cudnn.benchmark = False\n",
        "\n",
        "# Fetching the device that will be used throughout this notebook\n",
        "device = torch.device(\"cpu\") if not torch.cuda.is_available() else torch.device(\"cuda:0\")\n",
        "print(\"Using device\", device)"
      ]
    },
    {
      "cell_type": "code",
      "execution_count": 2,
      "metadata": {
        "colab": {
          "base_uri": "https://localhost:8080/"
        },
        "id": "xiX3muzmbghO",
        "outputId": "eeee7f49-d8ff-4c03-c7d5-d49148e79d35"
      },
      "outputs": [
        {
          "name": "stderr",
          "output_type": "stream",
          "text": [
            "Global seed set to 42\n"
          ]
        }
      ],
      "source": [
        "def add_noise(sample):\n",
        "    sample = (sample * 255).to(torch.float) # Convert to float and scale to [0, 255]\n",
        "    noise = torch.rand_like(sample) # Uniform noise in [0, 1]\n",
        "    noisy_sample = sample + noise\n",
        "    noisy_sample = noisy_sample / 255.0 # Scale back to [0, 1]\n",
        "    noisy_sample = torch.clamp(noisy_sample, 0, 1) # Ensure that the values are still in [0, 1]\n",
        "    return noisy_sample\n",
        "\n",
        "def flatten_image(image):\n",
        "    return image.view(-1)\n",
        "\n",
        "# Transformations: Convert to tensor, add noise and normalize\n",
        "transform = transforms.Compose([\n",
        "    transforms.ToTensor(),\n",
        "    add_noise,\n",
        "    flatten_image\n",
        "])\n",
        "\n",
        "\n",
        "# Loading the training dataset. We need to split it into a training and validation part\n",
        "train_dataset = MNIST(root=DATASET_PATH, train=True, transform=transform, download=True)\n",
        "pl.seed_everything(42)\n",
        "train_set, val_set = torch.utils.data.random_split(train_dataset, [50000, 10000])\n",
        "\n",
        "# Loading the test set\n",
        "test_set = MNIST(root=DATASET_PATH, train=False, transform=transform, download=True)\n",
        "\n",
        "# We define a set of data loaders that we can use for various purposes later.\n",
        "train_loader = data.DataLoader(train_set, batch_size=128, shuffle=True, drop_last=True, pin_memory=True)\n",
        "val_loader = data.DataLoader(val_set, batch_size=128, shuffle=False, drop_last=False)\n",
        "test_loader = data.DataLoader(test_set, batch_size=128, shuffle=False, drop_last=False)"
      ]
    },
    {
      "cell_type": "code",
      "execution_count": 3,
      "metadata": {
        "colab": {
          "base_uri": "https://localhost:8080/",
          "height": 280
        },
        "id": "vN4jMKlCbghO",
        "outputId": "cff9fdce-4aa9-49c6-a2ba-f88f51104bd5"
      },
      "outputs": [
        {
          "name": "stderr",
          "output_type": "stream",
          "text": [
            "Clipping input data to the valid range for imshow with RGB data ([0..1] for floats or [0..255] for integers).\n"
          ]
        },
        {
          "data": {
            "application/pdf": "[encoded data removed]",
            "image/svg+xml": [
              "<?xml version=\"1.0\" encoding=\"utf-8\" standalone=\"no\"?>\n",
              "<!DOCTYPE svg PUBLIC \"-//W3C//DTD SVG 1.1//EN\"\n",
              "  \"http://www.w3.org/Graphics/SVG/1.1/DTD/svg11.dtd\">\n",
              "<svg xmlns:xlink=\"http://www.w3.org/1999/xlink\" width=\"341.674839pt\" height=\"180.72pt\" viewBox=\"0 0 341.674839 180.72\" xmlns=\"http://www.w3.org/2000/svg\" version=\"1.1\">\n",
              " <metadata>\n",
              "  <rdf:RDF xmlns:dc=\"http://purl.org/dc/elements/1.1/\" xmlns:cc=\"http://creativecommons.org/ns#\" xmlns:rdf=\"http://www.w3.org/1999/02/22-rdf-syntax-ns#\">\n",
              "   <cc:Work>\n",
              "    <dc:type rdf:resource=\"http://purl.org/dc/dcmitype/StillImage\"/>\n",
              "    <dc:date>2024-07-13T10:55:33.523433</dc:date>\n",
              "    <dc:format>image/svg+xml</dc:format>\n",
              "    <dc:creator>\n",
              "     <cc:Agent>\n",
              "      <dc:title>Matplotlib v3.8.4, https://matplotlib.org/</dc:title>\n",
              "     </cc:Agent>\n",
              "    </dc:creator>\n",
              "   </cc:Work>\n",
              "  </rdf:RDF>\n",
              " </metadata>\n",
              " <defs>\n",
              "  <style type=\"text/css\">*{stroke-linejoin: round; stroke-linecap: butt}</style>\n",
              " </defs>\n",
              " <g id=\"figure_1\">\n",
              "  <g id=\"patch_1\">\n",
              "   <path d=\"M 0 180.72 \n",
              "L 341.674839 180.72 \n",
              "L 341.674839 0 \n",
              "L 0 0 \n",
              "z\n",
              "\" style=\"fill: #ffffff\"/>\n",
              "  </g>\n",
              "  <g id=\"axes_1\">\n",
              "   <g clip-path=\"url(#pf4559cd1e8)\">\n",
              "    <image xlink:href=\"data:image/png;base64,\n",
              "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\" id=\"imageab01d41aab\" transform=\"scale(1 -1) translate(0 -166.32)\" x=\"7.2\" y=\"-7.2\" width=\"327.6\" height=\"166.32\"/>\n",
              "   </g>\n",
              "  </g>\n",
              " </g>\n",
              " <defs>\n",
              "  <clipPath id=\"pf4559cd1e8\">\n",
              "   <rect x=\"7.2\" y=\"7.2\" width=\"327.274839\" height=\"166.32\"/>\n",
              "  </clipPath>\n",
              " </defs>\n",
              "</svg>\n"
            ],
            "text/plain": [
              "<Figure size 600x300 with 1 Axes>"
            ]
          },
          "metadata": {},
          "output_type": "display_data"
        }
      ],
      "source": [
        "def show_imgs(imgs):\n",
        "    imgs = [img.view(1, 28, 28) for img in imgs] #unflatten images\n",
        "    num_imgs = imgs.shape[0] if isinstance(imgs, torch.Tensor) else len(imgs)\n",
        "    nrow = min(num_imgs, 4)\n",
        "    ncol = int(math.ceil(num_imgs/nrow))\n",
        "    imgs = torchvision.utils.make_grid(imgs, nrow=nrow, pad_value=128)\n",
        "    imgs = imgs.clamp(min=0, max=255)\n",
        "    np_imgs = imgs.cpu().numpy()\n",
        "    plt.figure(figsize=(1.5*nrow, 1.5*ncol))\n",
        "    plt.imshow(np.transpose(np_imgs, (1,2,0)), interpolation='nearest')\n",
        "    plt.axis('off')\n",
        "    plt.show()\n",
        "    plt.close()\n",
        "\n",
        "show_imgs([train_set[i][0] for i in range(8)])"
      ]
    },
    {
      "cell_type": "code",
      "execution_count": 4,
      "metadata": {},
      "outputs": [],
      "source": [
        "class MLP(nn.Module):\n",
        "    def __init__(self, input_dim):\n",
        "        super(MLP, self).__init__()\n",
        "        self.layers = nn.Sequential(\n",
        "            nn.Linear(input_dim, input_dim // 2),\n",
        "            #nn.BatchNorm1d(input_dim // 2),\n",
        "            nn.ReLU(),\n",
        "            nn.Linear(input_dim // 2, input_dim // 4 ),\n",
        "            #nn.BatchNorm1d(input_dim // 4),\n",
        "            nn.ReLU(),\n",
        "            nn.Linear(input_dim // 4 , input_dim // 4 ),\n",
        "            #nn.BatchNorm1d(input_dim // 4),\n",
        "            nn.ReLU(),\n",
        "            nn.Linear(input_dim // 4 , input_dim // 2 ),\n",
        "            #nn.BatchNorm1d(input_dim // 2),\n",
        "            nn.ReLU(),\n",
        "            nn.Linear(input_dim // 2 , input_dim)\n",
        "        )\n",
        "        # self.layers = nn.Sequential(\n",
        "        #     nn.Linear(input_dim, input_dim * 2 ),\n",
        "        #     nn.BatchNorm1d(input_dim * 2),\n",
        "        #     nn.ReLU(),\n",
        "        #     nn.Linear(input_dim * 2 , input_dim * 2 ),\n",
        "        #     nn.BatchNorm1d(input_dim * 2 ),\n",
        "        #     nn.ReLU(),\n",
        "        #     nn.Linear(input_dim * 2  , input_dim * 2 ),\n",
        "        #     nn.BatchNorm1d(input_dim * 2 ),\n",
        "        #     nn.ReLU(),\n",
        "        #     nn.Linear(input_dim * 2  , input_dim * 2 ),\n",
        "        #     nn.BatchNorm1d(input_dim * 2 ),\n",
        "        #     nn.ReLU(),\n",
        "        #     nn.Linear(input_dim * 2  , input_dim)\n",
        "        # )\n",
        "\n",
        "\n",
        "    def forward(self, x):\n",
        "        self.to(x.device)\n",
        "        return self.layers(x)\n",
        "\n",
        "class NormalizingFlowLayer2(nn.Module):\n",
        "    def __init__(self, input_dim):\n",
        "        super().__init__()\n",
        "        self.input_dim = input_dim\n",
        "        self.mlp = MLP(input_dim // 2)\n",
        "        self.scale = nn.Parameter(torch.randn(input_dim, device=device) * 0.01).to(device)    \n",
        "        \n",
        "    def forward(self, x, alternate, inverse = False):\n",
        "        x = x.to(device)\n",
        "        if not inverse:\n",
        "            x1, x2 = torch.chunk(x, 2, dim=-1)\n",
        "            if alternate:\n",
        "                x2 = x2 + self.mlp(x1)\n",
        "            else:\n",
        "                x1 = x1 + self.mlp(x2)\n",
        "            x = torch.cat([x1, x2], dim=1)\n",
        "            x = x * torch.exp(self.scale.to(device))\n",
        "            logdet = torch.sum(self.scale, dim=-1)\n",
        "        else:\n",
        "            x = x * torch.exp(-self.scale.to(device))\n",
        "            x1, x2 = torch.chunk(x, 2, dim=1)\n",
        "            if alternate:\n",
        "                x2 = x2 - self.mlp(x1)\n",
        "            else:\n",
        "                x1 = x1 - self.mlp(x2)\n",
        "            x = torch.cat([x1, x2], dim=1)\n",
        "            logdet = -torch.sum(self.scale, dim=-1)\n",
        "        return x, logdet\n",
        "    \n",
        "        \n",
        "class NormalizingFlowModel2(pl.LightningModule):\n",
        "    def __init__(self,input_dim, num_flows):\n",
        "        super().__init__()\n",
        "        self.input_dim = input_dim\n",
        "        self.num_flows = num_flows\n",
        "        self.transforms = nn.ModuleList([NormalizingFlowLayer2(input_dim) for _ in range(num_flows)])\n",
        "\n",
        "    def forward(self, x):\n",
        "        logdet = torch.zeros(x.shape[0], device=x.device)\n",
        "        alternate = False\n",
        "        for transform in self.transforms:\n",
        "            x, ld = transform(x, alternate)\n",
        "            logdet += ld\n",
        "            alternate = not alternate\n",
        "        return x, logdet\n",
        "    \n",
        "    def inverse(self, x):\n",
        "        logdet = torch.zeros(x.shape[0], device=x.device)\n",
        "        alternate = True\n",
        "        for transform in reversed(self.transforms):\n",
        "            x, ld = transform(x, alternate, inverse=True)\n",
        "            logdet += ld\n",
        "            alternate = not alternate\n",
        "        return x, logdet\n",
        "    \n",
        "    def calc_likelihood(self, x):\n",
        "        z, logdet = self.forward(x)\n",
        "        logPz = -0.5 * torch.sum(z**2, dim=-1) - 0.5 * self.input_dim * math.log(2 * math.pi)\n",
        "\n",
        "        # log_det = torch.mean(log_det)\n",
        "        # log2pi = torch.log(torch.tensor(2*np.pi))\n",
        "        # norm_factor = - 0.5  * 28*28 * log2pi\n",
        "        # logPz = torch.mean(-0.5 * torch.pow(z,2).sum(1)) + norm_factor # (-1/2) ||z-mu||^2\n",
        "        return logPz + logdet\n",
        "    \n",
        "    @torch.no_grad()\n",
        "    def sample(self, num_samples):\n",
        "        z = torch.randn(num_samples, self.input_dim, device=device)\n",
        "        x,_ = self.inverse(z)\n",
        "        return x\n",
        "\n",
        "    def configure_optimizers(self):\n",
        "        optimizer = optim.Adam(self.parameters(), lr=1e-3, weight_decay=1e-5)\n",
        "        scheduler = optim.lr_scheduler.StepLR(optimizer, 1, gamma=0.99)\n",
        "        return [optimizer], [scheduler]\n",
        "\n",
        "    def training_step(self, batch, batch_idx):\n",
        "        x, _ = batch\n",
        "        log_likelihood = self.calc_likelihood(x).mean()\n",
        "        loss = -log_likelihood\n",
        "        self.log('train_log_likelihood', log_likelihood)\n",
        "        return loss\n",
        "    \n",
        "    def validation_step(self, batch, batch_idx):\n",
        "        x, _ = batch\n",
        "        log_likelihood = self.calc_likelihood(x).mean()\n",
        "        loss = -log_likelihood\n",
        "        self.log('val_log_likelihood', log_likelihood)\n",
        "        return loss\n",
        "\n",
        "    def test_step(self, batch, batch_idx):\n",
        "        x, _ = batch\n",
        "        log_likelihood = self.calc_likelihood(x).mean()\n",
        "        loss = -log_likelihood\n",
        "        self.log('test_log_likelihood', log_likelihood)\n",
        "        return loss\n"
      ]
    },
    {
      "cell_type": "code",
      "execution_count": 5,
      "metadata": {
        "id": "3n_VPsTYbghP"
      },
      "outputs": [],
      "source": [
        "# class MLP(nn.Module):\n",
        "#     def __init__(self, input_dim):\n",
        "#         super(MLP, self).__init__()\n",
        "#         self.layers = nn.Sequential(\n",
        "#             nn.Linear(input_dim, input_dim * 4),\n",
        "#             nn.LeakyReLU(),\n",
        "#             nn.Linear(input_dim * 4, input_dim * 4),\n",
        "#             nn.LeakyReLU(),\n",
        "#             nn.Linear(input_dim * 4, input_dim * 4),\n",
        "#             nn.LeakyReLU(),\n",
        "#             nn.Linear(input_dim * 4, input_dim * 4),\n",
        "#             nn.LeakyReLU(),\n",
        "#             nn.Linear(input_dim * 4 , input_dim)\n",
        "#         )\n",
        "\n",
        "#     def forward(self, x):\n",
        "#         self.to(x.device)\n",
        "#         return self.layers(x)\n",
        "\n",
        "# class NormalizingFlowLayer(nn.Module):\n",
        "#     def __init__(self, input_dim):\n",
        "#         super(NormalizingFlowLayer, self).__init__()\n",
        "#         self.input_dim = input_dim\n",
        "#         self.scale = nn.Parameter(torch.zeros(input_dim))\n",
        "#         self.mlp = MLP(input_dim)\n",
        "    \n",
        "#     def forward(self, x1, x2):\n",
        "#         s = self.mlp(x1)\n",
        "#         s = torch.tanh(s/self.scale.exp()) * self.scale.exp()\n",
        "#         z1 = x1 * torch.exp(s)\n",
        "#         z = torch.cat([z1, x2], dim=1)\n",
        "#         log_det_jacobian = s.sum(dim=1)\n",
        "#         return z, log_det_jacobian\n",
        "    \n",
        "#     def inverse(self, z1, z2):\n",
        "#         self.to(z1.device)\n",
        "#         s = self.mlp(z1)\n",
        "#         s = torch.tanh(s/self.scale.exp()) * self.scale.exp()\n",
        "#         x1 = z1 * torch.exp(-s)\n",
        "#         x = torch.cat([x1, z2], dim=1)\n",
        "#         return x\n",
        "\n",
        "\n",
        "# class NormalizingFlowModel(pl.LightningModule):\n",
        "     \n",
        "#     def __init__(self, input_dim, num_flows):\n",
        "#         super().__init__()\n",
        "#         self.save_hyperparameters()\n",
        "#         self.input_dim = input_dim\n",
        "#         self.flows = nn.ModuleList([NormalizingFlowLayer(input_dim // 2) for _ in range(num_flows)])\n",
        "#         self.prior = torch.distributions.multivariate_normal.MultivariateNormal(torch.zeros(input_dim,device=device), torch.eye(input_dim, device=device))\n",
        "\n",
        "    \n",
        "#     def forward(self, x):\n",
        "#         log_det_jacobian = torch.zeros(x.size(0), device=x.device)\n",
        "#         alternate = False\n",
        "#         for flow in self.flows:\n",
        "#             x1, x2 = x.chunk(2, dim=1)\n",
        "#             if alternate:\n",
        "#                 x1, x2 = x2, x1\n",
        "#             x, ldj = flow(x1, x2)\n",
        "#             log_det_jacobian += ldj\n",
        "#             alternate = not alternate\n",
        "#         return x, log_det_jacobian\n",
        "    \n",
        "#     def inverse(self, z):\n",
        "#         alternate = False\n",
        "#         for flow in reversed(self.flows):\n",
        "#             z1, z2 = z.chunk(2, dim=1)\n",
        "#             if alternate:\n",
        "#                 z1, z2 = z2, z1\n",
        "#             z = flow.inverse(z1, z2)\n",
        "#             alternate = not alternate\n",
        "#         return z\n",
        "    \n",
        "#     def calc_likelihood(self, x):\n",
        "#         z, log_det_jacobian = self.forward(x)\n",
        "#         log_pz = self.prior.log_prob(z)\n",
        "#         #prior_ll = -0.5 * torch.sum(z**2 + np.log(2 * np.pi), dim=-1)\n",
        "#         return log_pz + log_det_jacobian\n",
        "\n",
        "#     @torch.no_grad()\n",
        "#     def sample(self, num_samples):\n",
        "#         z = self.prior.sample((num_samples,)).to(device)\n",
        "#         x = self.inverse(z)\n",
        "#         return x\n",
        "\n",
        "#     def configure_optimizers(self):\n",
        "#         optimizer = optim.Adam(self.parameters(), lr=1e-3)\n",
        "#         scheduler = optim.lr_scheduler.StepLR(optimizer, 1, gamma=0.99)\n",
        "#         return [optimizer], [scheduler]\n",
        "\n",
        "#     def training_step(self, batch, batch_idx):\n",
        "#         x, _ = batch\n",
        "#         log_likelihood = self.calc_likelihood(x).mean()\n",
        "#         loss = -log_likelihood\n",
        "#         self.log('train_log_likelihood', log_likelihood)\n",
        "#         return loss\n",
        "    \n",
        "#     def validation_step(self, batch, batch_idx):\n",
        "#         x, _ = batch\n",
        "#         log_likelihood = self.calc_likelihood(x).mean()\n",
        "#         loss = -log_likelihood\n",
        "#         self.log('val_log_likelihood', log_likelihood)\n",
        "#         return loss\n",
        "\n",
        "#     def test_step(self, batch, batch_idx):\n",
        "#         x, _ = batch\n",
        "#         log_likelihood = self.calc_likelihood(x).mean()\n",
        "#         loss = -log_likelihood\n",
        "#         self.log('test_log_likelihood', log_likelihood)\n",
        "#         return loss\n",
        "\n"
      ]
    },
    {
      "cell_type": "code",
      "execution_count": 6,
      "metadata": {
        "id": "g1zeMtu3bghQ"
      },
      "outputs": [],
      "source": [
        "def train_model(use_pretrained = False, pretrained_path = \"\", **kwargs):\n",
        "    logger = TensorBoardLogger(\"tb_logs\", name=\"Flows-ex6\")\n",
        "    # Create a PyTorch Lightning trainer with the generation callback\n",
        "    trainer = pl.Trainer(default_root_dir=os.path.join(CHECKPOINT_PATH, \"Flows-ex6\"),\n",
        "                         accelerator=\"gpu\" if str(device).startswith(\"cuda\") else \"cpu\",\n",
        "                         devices=1,\n",
        "                         logger = logger,\n",
        "                         max_epochs=150,\n",
        "                         callbacks=[ModelCheckpoint(save_weights_only=True, mode=\"max\", monitor=\"val_log_likelihood\"),\n",
        "                                    LearningRateMonitor(\"epoch\")])\n",
        "    result = None\n",
        "\n",
        "    # Check whether pretrained model exists. If yes, load it and skip training\n",
        "    if os.path.isfile(pretrained_path) and use_pretrained:\n",
        "        print(\"Found pretrained model, loading...\")\n",
        "        model = NormalizingFlowModel2.load_from_checkpoint(pretrained_path, **kwargs)\n",
        "        ckpt = torch.load(pretrained_path, map_location=device)\n",
        "        result = ckpt.get(\"result\", None)\n",
        "    else:\n",
        "        model = NormalizingFlowModel2(**kwargs)\n",
        "        trainer.fit(model, train_loader, val_loader)\n",
        "    model = model.to(device)\n",
        "\n",
        "    if result is None:\n",
        "        # Test best model on validation and test set\n",
        "        val_result = trainer.test(model, val_loader, verbose=False)\n",
        "        test_result = trainer.test(model, test_loader, verbose=False)\n",
        "        result = {\"test\": test_result, \"val\": val_result}\n",
        "    return model, result"
      ]
    },
    {
      "cell_type": "code",
      "execution_count": 7,
      "metadata": {
        "id": "Ogctk_HbbghQ"
      },
      "outputs": [],
      "source": [
        "#All graphs taken from tensorboard\n",
        "\n",
        "# %load_ext tensorboard\n",
        "# %tensorboard --logdir tb_logs"
      ]
    },
    {
      "cell_type": "code",
      "execution_count": 8,
      "metadata": {
        "colab": {
          "base_uri": "https://localhost:8080/",
          "height": 222,
          "referenced_widgets": [
            "955a0c6dbfbe4a7089f0ffd6c22cc72f",
            "e646fb573b2047d9a54ffa7e420561e8",
            "411b1f11155f437fb31a52d8bd954d53",
            "0791d07a942e474daa97b181846b55a1",
            "827c6a13c52149259e3728e4d4e644b2",
            "e74e08c9fb654724acc8373e356edf01",
            "446e703b0c4140b091570386f4dd874a",
            "5835871934b444e1bd84bc30e276cb0b",
            "c02ae0c813964142bb9f66c2a361c9ac",
            "46c93a5cf1c8421aa0fc1e217c2e229d",
            "645df64423fc4de3b22532404d4b6d44",
            "66321ec3082c4f2e82004f36841027a6",
            "43b4ba6b4bf64af485b9e1252a8b6287",
            "b1cfd5928a144458adc0ce7415ef6010",
            "0e31f520164a4bf7babb984d23f6d70b",
            "ee0044f500d742a7bac85586d44b9929",
            "2e6e6d0f2d5a4b1c87abd1920b1bdc4b",
            "29184af70bd542a68c9f07d6c540aa09",
            "01664b9aedb8488a9f4031aa3492e4c0",
            "a97f2d91d86d4a0aa13f14ab2115ae21",
            "b1f903d69e6849f693a475df3316979f",
            "2a6bd5516ebb40c1956559052323d50d"
          ]
        },
        "id": "Za6-69NWbghR",
        "outputId": "7cfd08dd-38d4-4ab0-abef-ef56170cc0b2"
      },
      "outputs": [
        {
          "name": "stderr",
          "output_type": "stream",
          "text": [
            "GPU available: True (cuda), used: True\n",
            "TPU available: False, using: 0 TPU cores\n",
            "IPU available: False, using: 0 IPUs\n",
            "HPU available: False, using: 0 HPUs\n",
            "You are using a CUDA device ('NVIDIA GeForce RTX 4080') that has Tensor Cores. To properly utilize them, you should set `torch.set_float32_matmul_precision('medium' | 'high')` which will trade-off precision for performance. For more details, read https://pytorch.org/docs/stable/generated/torch.set_float32_matmul_precision.html#torch.set_float32_matmul_precision\n",
            "LOCAL_RANK: 0 - CUDA_VISIBLE_DEVICES: [0]\n",
            "\n",
            "  | Name       | Type       | Params\n",
            "------------------------------------------\n",
            "0 | transforms | ModuleList | 813 K \n",
            "------------------------------------------\n",
            "813 K     Trainable params\n",
            "0         Non-trainable params\n",
            "813 K     Total params\n",
            "3.255     Total estimated model params size (MB)\n"
          ]
        },
        {
          "data": {
            "application/vnd.jupyter.widget-view+json": {
              "model_id": "0b74d625bc7743098dd1444ce9ad5aa3",
              "version_major": 2,
              "version_minor": 0
            },
            "text/plain": [
              "Sanity Checking: 0it [00:00, ?it/s]"
            ]
          },
          "metadata": {},
          "output_type": "display_data"
        },
        {
          "name": "stderr",
          "output_type": "stream",
          "text": [
            "c:\\Users\\Danny\\AppData\\Local\\Programs\\Python\\Python311\\Lib\\site-packages\\pytorch_lightning\\trainer\\connectors\\data_connector.py:442: PossibleUserWarning: The dataloader, val_dataloader, does not have many workers which may be a bottleneck. Consider increasing the value of the `num_workers` argument` (try 20 which is the number of cpus on this machine) in the `DataLoader` init to improve performance.\n",
            "  rank_zero_warn(\n",
            "c:\\Users\\Danny\\AppData\\Local\\Programs\\Python\\Python311\\Lib\\site-packages\\pytorch_lightning\\trainer\\connectors\\data_connector.py:442: PossibleUserWarning: The dataloader, train_dataloader, does not have many workers which may be a bottleneck. Consider increasing the value of the `num_workers` argument` (try 20 which is the number of cpus on this machine) in the `DataLoader` init to improve performance.\n",
            "  rank_zero_warn(\n"
          ]
        },
        {
          "data": {
            "application/vnd.jupyter.widget-view+json": {
              "model_id": "1ffb77aeb7b0459493788de47ef7493c",
              "version_major": 2,
              "version_minor": 0
            },
            "text/plain": [
              "Training: 0it [00:00, ?it/s]"
            ]
          },
          "metadata": {},
          "output_type": "display_data"
        },
        {
          "data": {
            "application/vnd.jupyter.widget-view+json": {
              "model_id": "c5a30572cd23417fb845ca1c68e7b58f",
              "version_major": 2,
              "version_minor": 0
            },
            "text/plain": [
              "Validation: 0it [00:00, ?it/s]"
            ]
          },
          "metadata": {},
          "output_type": "display_data"
        },
        {
          "data": {
            "application/vnd.jupyter.widget-view+json": {
              "model_id": "f4fb635d65674e759158fb8d4e023089",
              "version_major": 2,
              "version_minor": 0
            },
            "text/plain": [
              "Validation: 0it [00:00, ?it/s]"
            ]
          },
          "metadata": {},
          "output_type": "display_data"
        },
        {
          "data": {
            "application/vnd.jupyter.widget-view+json": {
              "model_id": "3b0ceab902274efea3949ad6b0042567",
              "version_major": 2,
              "version_minor": 0
            },
            "text/plain": [
              "Validation: 0it [00:00, ?it/s]"
            ]
          },
          "metadata": {},
          "output_type": "display_data"
        },
        {
          "data": {
            "application/vnd.jupyter.widget-view+json": {
              "model_id": "1e828e98880f4682a79e6276843b8dde",
              "version_major": 2,
              "version_minor": 0
            },
            "text/plain": [
              "Validation: 0it [00:00, ?it/s]"
            ]
          },
          "metadata": {},
          "output_type": "display_data"
        },
        {
          "data": {
            "application/vnd.jupyter.widget-view+json": {
              "model_id": "cb235dbcae6747b3ae9eb1ad133e485d",
              "version_major": 2,
              "version_minor": 0
            },
            "text/plain": [
              "Validation: 0it [00:00, ?it/s]"
            ]
          },
          "metadata": {},
          "output_type": "display_data"
        },
        {
          "data": {
            "application/vnd.jupyter.widget-view+json": {
              "model_id": "51f7176dd0c846d6b9d08cbdc76de011",
              "version_major": 2,
              "version_minor": 0
            },
            "text/plain": [
              "Validation: 0it [00:00, ?it/s]"
            ]
          },
          "metadata": {},
          "output_type": "display_data"
        },
        {
          "data": {
            "application/vnd.jupyter.widget-view+json": {
              "model_id": "9805576289804370a07d899b7976c249",
              "version_major": 2,
              "version_minor": 0
            },
            "text/plain": [
              "Validation: 0it [00:00, ?it/s]"
            ]
          },
          "metadata": {},
          "output_type": "display_data"
        },
        {
          "data": {
            "application/vnd.jupyter.widget-view+json": {
              "model_id": "0cc7d0b06d884f0aace4133b0c325a4e",
              "version_major": 2,
              "version_minor": 0
            },
            "text/plain": [
              "Validation: 0it [00:00, ?it/s]"
            ]
          },
          "metadata": {},
          "output_type": "display_data"
        },
        {
          "data": {
            "application/vnd.jupyter.widget-view+json": {
              "model_id": "686cc31fda184edabeb7b96685283508",
              "version_major": 2,
              "version_minor": 0
            },
            "text/plain": [
              "Validation: 0it [00:00, ?it/s]"
            ]
          },
          "metadata": {},
          "output_type": "display_data"
        },
        {
          "data": {
            "application/vnd.jupyter.widget-view+json": {
              "model_id": "5e3dba631b5a478b8c8d85ff3482cb9f",
              "version_major": 2,
              "version_minor": 0
            },
            "text/plain": [
              "Validation: 0it [00:00, ?it/s]"
            ]
          },
          "metadata": {},
          "output_type": "display_data"
        },
        {
          "data": {
            "application/vnd.jupyter.widget-view+json": {
              "model_id": "d0dd0bb547dc43a48a2a95d7954ee832",
              "version_major": 2,
              "version_minor": 0
            },
            "text/plain": [
              "Validation: 0it [00:00, ?it/s]"
            ]
          },
          "metadata": {},
          "output_type": "display_data"
        },
        {
          "data": {
            "application/vnd.jupyter.widget-view+json": {
              "model_id": "6741a95905eb4a6e9856b7c06a427f6e",
              "version_major": 2,
              "version_minor": 0
            },
            "text/plain": [
              "Validation: 0it [00:00, ?it/s]"
            ]
          },
          "metadata": {},
          "output_type": "display_data"
        },
        {
          "data": {
            "application/vnd.jupyter.widget-view+json": {
              "model_id": "bf850e4fab534716893a7a5fd5703756",
              "version_major": 2,
              "version_minor": 0
            },
            "text/plain": [
              "Validation: 0it [00:00, ?it/s]"
            ]
          },
          "metadata": {},
          "output_type": "display_data"
        },
        {
          "data": {
            "application/vnd.jupyter.widget-view+json": {
              "model_id": "7f6d24d503ee4b54abaeecd6f9b19e84",
              "version_major": 2,
              "version_minor": 0
            },
            "text/plain": [
              "Validation: 0it [00:00, ?it/s]"
            ]
          },
          "metadata": {},
          "output_type": "display_data"
        },
        {
          "data": {
            "application/vnd.jupyter.widget-view+json": {
              "model_id": "5911d015e9774219a96a6e36b4b85089",
              "version_major": 2,
              "version_minor": 0
            },
            "text/plain": [
              "Validation: 0it [00:00, ?it/s]"
            ]
          },
          "metadata": {},
          "output_type": "display_data"
        },
        {
          "data": {
            "application/vnd.jupyter.widget-view+json": {
              "model_id": "93ed1f504e8a4dfd9254322203eeb15c",
              "version_major": 2,
              "version_minor": 0
            },
            "text/plain": [
              "Validation: 0it [00:00, ?it/s]"
            ]
          },
          "metadata": {},
          "output_type": "display_data"
        },
        {
          "data": {
            "application/vnd.jupyter.widget-view+json": {
              "model_id": "1fa7bffda153431f8f63be5bc3998c59",
              "version_major": 2,
              "version_minor": 0
            },
            "text/plain": [
              "Validation: 0it [00:00, ?it/s]"
            ]
          },
          "metadata": {},
          "output_type": "display_data"
        },
        {
          "data": {
            "application/vnd.jupyter.widget-view+json": {
              "model_id": "b3ceb35da8da46948d317b62dce3083d",
              "version_major": 2,
              "version_minor": 0
            },
            "text/plain": [
              "Validation: 0it [00:00, ?it/s]"
            ]
          },
          "metadata": {},
          "output_type": "display_data"
        },
        {
          "data": {
            "application/vnd.jupyter.widget-view+json": {
              "model_id": "b31cc28d881e49588a8e3da1dcc083cd",
              "version_major": 2,
              "version_minor": 0
            },
            "text/plain": [
              "Validation: 0it [00:00, ?it/s]"
            ]
          },
          "metadata": {},
          "output_type": "display_data"
        },
        {
          "data": {
            "application/vnd.jupyter.widget-view+json": {
              "model_id": "7b8ae9ef65ed4d8fac02636977ab125f",
              "version_major": 2,
              "version_minor": 0
            },
            "text/plain": [
              "Validation: 0it [00:00, ?it/s]"
            ]
          },
          "metadata": {},
          "output_type": "display_data"
        },
        {
          "data": {
            "application/vnd.jupyter.widget-view+json": {
              "model_id": "aecaf0958b9f4b1e8d3968278bc0611b",
              "version_major": 2,
              "version_minor": 0
            },
            "text/plain": [
              "Validation: 0it [00:00, ?it/s]"
            ]
          },
          "metadata": {},
          "output_type": "display_data"
        },
        {
          "data": {
            "application/vnd.jupyter.widget-view+json": {
              "model_id": "bc02c6cdd3d748abb6f627b0625459d3",
              "version_major": 2,
              "version_minor": 0
            },
            "text/plain": [
              "Validation: 0it [00:00, ?it/s]"
            ]
          },
          "metadata": {},
          "output_type": "display_data"
        },
        {
          "data": {
            "application/vnd.jupyter.widget-view+json": {
              "model_id": "05c4d10c65874f479b8666aeb70cf9f5",
              "version_major": 2,
              "version_minor": 0
            },
            "text/plain": [
              "Validation: 0it [00:00, ?it/s]"
            ]
          },
          "metadata": {},
          "output_type": "display_data"
        },
        {
          "data": {
            "application/vnd.jupyter.widget-view+json": {
              "model_id": "627143d83205464d975288fc68f1546c",
              "version_major": 2,
              "version_minor": 0
            },
            "text/plain": [
              "Validation: 0it [00:00, ?it/s]"
            ]
          },
          "metadata": {},
          "output_type": "display_data"
        },
        {
          "data": {
            "application/vnd.jupyter.widget-view+json": {
              "model_id": "41b783ffca8442da93299b72baa8c34a",
              "version_major": 2,
              "version_minor": 0
            },
            "text/plain": [
              "Validation: 0it [00:00, ?it/s]"
            ]
          },
          "metadata": {},
          "output_type": "display_data"
        },
        {
          "data": {
            "application/vnd.jupyter.widget-view+json": {
              "model_id": "4a4fb99b162347f5a80789141ca3b440",
              "version_major": 2,
              "version_minor": 0
            },
            "text/plain": [
              "Validation: 0it [00:00, ?it/s]"
            ]
          },
          "metadata": {},
          "output_type": "display_data"
        },
        {
          "data": {
            "application/vnd.jupyter.widget-view+json": {
              "model_id": "10392a8f421f4eba8488f2b188948eb1",
              "version_major": 2,
              "version_minor": 0
            },
            "text/plain": [
              "Validation: 0it [00:00, ?it/s]"
            ]
          },
          "metadata": {},
          "output_type": "display_data"
        },
        {
          "name": "stderr",
          "output_type": "stream",
          "text": [
            "c:\\Users\\Danny\\AppData\\Local\\Programs\\Python\\Python311\\Lib\\site-packages\\pytorch_lightning\\trainer\\call.py:53: UserWarning: Detected KeyboardInterrupt, attempting graceful shutdown...\n",
            "  rank_zero_warn(\"Detected KeyboardInterrupt, attempting graceful shutdown...\")\n",
            "LOCAL_RANK: 0 - CUDA_VISIBLE_DEVICES: [0]\n",
            "c:\\Users\\Danny\\AppData\\Local\\Programs\\Python\\Python311\\Lib\\site-packages\\pytorch_lightning\\trainer\\connectors\\data_connector.py:442: PossibleUserWarning: The dataloader, test_dataloader, does not have many workers which may be a bottleneck. Consider increasing the value of the `num_workers` argument` (try 20 which is the number of cpus on this machine) in the `DataLoader` init to improve performance.\n",
            "  rank_zero_warn(\n"
          ]
        },
        {
          "data": {
            "application/vnd.jupyter.widget-view+json": {
              "model_id": "31a679fb352b48c593a0d5318edf2c23",
              "version_major": 2,
              "version_minor": 0
            },
            "text/plain": [
              "Testing: 0it [00:00, ?it/s]"
            ]
          },
          "metadata": {},
          "output_type": "display_data"
        },
        {
          "name": "stderr",
          "output_type": "stream",
          "text": [
            "LOCAL_RANK: 0 - CUDA_VISIBLE_DEVICES: [0]\n"
          ]
        },
        {
          "data": {
            "application/vnd.jupyter.widget-view+json": {
              "model_id": "9ca767c7291340fd979aa9ef483dca4b",
              "version_major": 2,
              "version_minor": 0
            },
            "text/plain": [
              "Testing: 0it [00:00, ?it/s]"
            ]
          },
          "metadata": {},
          "output_type": "display_data"
        },
        {
          "name": "stdout",
          "output_type": "stream",
          "text": [
            "test_log_likelihood: 1499.652\n"
          ]
        }
      ],
      "source": [
        "# QUESTION 1 TRAIN\n",
        "pretrained_path = \"tb_logs//Flows-ex6//version_1//checkpoints//epoch=27-step=10920.ckpt\"\n",
        "model, result = train_model(input_dim = 28*28, num_flows = 4, use_pretrained=False, pretrained_path=pretrained_path)\n",
        "test_res = result[\"test\"][0]\n",
        "print(\"test_log_likelihood: %4.3f\" % (test_res[\"test_loss\"] if \"test_loss\" in test_res else test_res[\"test_log_likelihood\"]))"
      ]
    },
    {
      "cell_type": "markdown",
      "metadata": {
        "id": "-AEQRjFMnsOZ"
      },
      "source": [
        "## Results\n",
        "<!-- <img src=\"https://raw.githubusercontent.com/daiyral/ex5/main/plots/q1/train_elbo.png\" alt=\"Training Loss (Non-Causal)\" width=\"1000\"/> -->"
      ]
    },
    {
      "cell_type": "code",
      "execution_count": 19,
      "metadata": {
        "colab": {
          "base_uri": "https://localhost:8080/",
          "height": 519
        },
        "id": "Y-W60K7vbghR",
        "outputId": "25b032f5-c0da-42e9-84a3-db9a8faa786d"
      },
      "outputs": [
        {
          "name": "stderr",
          "output_type": "stream",
          "text": [
            "Global seed set to 2\n",
            "Clipping input data to the valid range for imshow with RGB data ([0..1] for floats or [0..255] for integers).\n"
          ]
        },
        {
          "data": {
            "application/pdf": "[encoded data removed]",
            "image/svg+xml": [
              "<?xml version=\"1.0\" encoding=\"utf-8\" standalone=\"no\"?>\n",
              "<!DOCTYPE svg PUBLIC \"-//W3C//DTD SVG 1.1//EN\"\n",
              "  \"http://www.w3.org/Graphics/SVG/1.1/DTD/svg11.dtd\">\n",
              "<svg xmlns:xlink=\"http://www.w3.org/1999/xlink\" width=\"347.04pt\" height=\"347.04pt\" viewBox=\"0 0 347.04 347.04\" xmlns=\"http://www.w3.org/2000/svg\" version=\"1.1\">\n",
              " <metadata>\n",
              "  <rdf:RDF xmlns:dc=\"http://purl.org/dc/elements/1.1/\" xmlns:cc=\"http://creativecommons.org/ns#\" xmlns:rdf=\"http://www.w3.org/1999/02/22-rdf-syntax-ns#\">\n",
              "   <cc:Work>\n",
              "    <dc:type rdf:resource=\"http://purl.org/dc/dcmitype/StillImage\"/>\n",
              "    <dc:date>2024-07-13T11:01:20.474939</dc:date>\n",
              "    <dc:format>image/svg+xml</dc:format>\n",
              "    <dc:creator>\n",
              "     <cc:Agent>\n",
              "      <dc:title>Matplotlib v3.8.4, https://matplotlib.org/</dc:title>\n",
              "     </cc:Agent>\n",
              "    </dc:creator>\n",
              "   </cc:Work>\n",
              "  </rdf:RDF>\n",
              " </metadata>\n",
              " <defs>\n",
              "  <style type=\"text/css\">*{stroke-linejoin: round; stroke-linecap: butt}</style>\n",
              " </defs>\n",
              " <g id=\"figure_1\">\n",
              "  <g id=\"patch_1\">\n",
              "   <path d=\"M 0 347.04 \n",
              "L 347.04 347.04 \n",
              "L 347.04 -0 \n",
              "L 0 -0 \n",
              "z\n",
              "\" style=\"fill: #ffffff\"/>\n",
              "  </g>\n",
              "  <g id=\"axes_1\">\n",
              "   <g clip-path=\"url(#ped56fcc0a1)\">\n",
              "    <image xlink:href=\"data:image/png;base64,\n",
              "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\" id=\"imageb776a9953f\" transform=\"scale(1 -1) translate(0 -333.36)\" x=\"7.2\" y=\"-6.48\" width=\"332.64\" height=\"333.36\"/>\n",
              "   </g>\n",
              "  </g>\n",
              " </g>\n",
              " <defs>\n",
              "  <clipPath id=\"ped56fcc0a1\">\n",
              "   <rect x=\"7.2\" y=\"7.2\" width=\"332.64\" height=\"332.64\"/>\n",
              "  </clipPath>\n",
              " </defs>\n",
              "</svg>\n"
            ],
            "text/plain": [
              "<Figure size 600x600 with 1 Axes>"
            ]
          },
          "metadata": {},
          "output_type": "display_data"
        }
      ],
      "source": [
        "pl.seed_everything(2)\n",
        "samples = model.sample(num_samples=16)\n",
        "show_imgs(samples.cpu())"
      ]
    },
    {
      "cell_type": "code",
      "execution_count": null,
      "metadata": {},
      "outputs": [
        {
          "name": "stdout",
          "output_type": "stream",
          "text": [
            "torch.Size([1, 784])\n",
            "(tensor([[ 1.1569e-01, -5.0005e-02,  1.2623e-01,  3.1557e-01, -9.0205e-02,\n",
            "          1.3761e-01,  2.4723e-01, -2.7490e-01, -3.6445e-01,  5.1929e-02,\n",
            "          1.3859e-01,  8.5625e-02,  2.1989e-01, -2.0584e-02, -1.0116e-03,\n",
            "          2.6839e-01,  1.0366e-01, -7.1159e-02, -1.7178e-01, -3.0347e-01,\n",
            "         -2.4719e-01,  9.1486e-02, -1.0033e-01,  1.2972e-01,  2.4794e-01,\n",
            "          7.2442e-02, -2.3609e-01,  7.1795e-02,  1.8581e-01, -1.2210e-01,\n",
            "         -5.7592e-02,  1.0075e-01,  8.0339e-02,  1.8648e-01,  2.0393e-01,\n",
            "         -2.9938e-02, -7.6902e-02,  1.4401e-01,  9.8727e-02,  9.1078e-02,\n",
            "         -1.4391e-01,  1.6621e-01,  2.6952e-02,  4.8418e-02,  1.7790e-01,\n",
            "          1.3436e-02, -1.1639e-01, -3.3866e-01, -7.0070e-03,  1.1559e-01,\n",
            "          1.8253e-01,  4.3751e-02, -8.6101e-03,  2.1264e-01,  1.1138e-01,\n",
            "          1.9563e-01,  2.8744e-02,  1.1559e-01,  4.2078e-02,  7.5277e-02,\n",
            "         -7.4385e-02,  4.3092e-01,  1.1019e-01,  2.0515e-01, -1.0273e-02,\n",
            "         -2.1305e-01, -5.6135e-02, -5.9549e-02,  6.3170e-02, -9.2417e-02,\n",
            "         -3.9103e-02,  9.6795e-02,  7.6872e-02, -5.1768e-02, -2.4916e-02,\n",
            "         -1.2179e-01, -4.0675e-02, -5.2677e-02,  2.0604e-01,  2.1014e-01,\n",
            "          5.4743e-02,  4.0946e-02,  3.9213e-01, -2.1168e-01,  1.4796e-01,\n",
            "          4.0174e-01, -1.5166e-01, -1.8288e-01, -8.3170e-02,  1.8884e-01,\n",
            "         -9.7130e-02, -2.7366e-02, -1.4973e-01,  1.3929e-01,  8.8511e-02,\n",
            "         -1.0847e-01,  2.9529e-02, -1.6204e-01, -1.0142e-01, -1.4708e-01,\n",
            "         -2.9548e-02, -7.5584e-02, -8.5753e-02, -3.6664e-02,  1.0197e-02,\n",
            "         -1.9815e-01,  2.1636e-02, -2.5566e-03,  3.9286e-03,  1.9288e-01,\n",
            "          1.6042e-01,  6.2786e-02,  4.5060e-02,  2.0090e-01,  1.8961e-01,\n",
            "         -7.7342e-02,  3.3222e-01, -1.4199e-01,  6.0441e-02, -1.2256e-01,\n",
            "          5.7959e-02,  2.1605e-02, -9.0786e-02, -1.0143e-01, -1.4977e-01,\n",
            "         -1.1436e-01, -6.5008e-02, -1.8874e-01, -1.7553e-01, -1.2932e-01,\n",
            "         -1.2662e-01, -2.1039e-01,  5.4117e-02,  1.5068e-01,  9.6562e-02,\n",
            "          1.3361e-01, -8.5637e-02,  2.1971e-01, -1.5409e-01, -1.0906e-01,\n",
            "          9.8004e-02,  1.2011e-01,  1.8891e-01,  1.8317e-01, -2.2501e-02,\n",
            "         -1.0609e-01, -3.2615e-02,  1.2040e-02,  8.0111e-02, -4.4204e-02,\n",
            "         -1.7862e-01, -4.6969e-02, -1.3125e-01, -3.0867e-03,  2.6343e-02,\n",
            "         -8.6945e-02, -2.4096e-01, -1.0222e-01, -1.3350e-01,  2.2722e-02,\n",
            "          1.7854e-01,  2.4393e-01, -1.5459e-02,  4.1675e-02, -2.7892e-02,\n",
            "          1.4349e-01,  1.3254e-01, -1.8013e-01,  2.4661e-02,  3.2833e-01,\n",
            "         -2.1735e-01,  1.1002e-01, -4.6607e-02,  4.7073e-02,  1.9420e-02,\n",
            "         -1.0217e-01, -1.4965e-01, -1.4759e-01, -1.2002e-01, -2.5548e-01,\n",
            "         -1.6288e-01, -1.7628e-01, -2.1326e-01, -2.4296e-01, -7.1145e-02,\n",
            "         -2.1875e-01, -1.6164e-01, -5.6646e-02,  2.4016e-01,  3.2880e-01,\n",
            "          2.5650e-01,  1.6092e-01, -7.3346e-02, -1.1674e-01, -2.0784e-01,\n",
            "         -3.0275e-01, -4.2443e-01, -1.2612e-01,  7.6964e-02,  1.3813e-01,\n",
            "         -3.8487e-01, -5.0110e-01,  6.6108e-01,  2.2734e+00,  1.7151e+00,\n",
            "          1.3824e+00, -1.6785e-01, -8.3316e-01, -1.4262e+00, -1.5009e+00,\n",
            "         -1.4973e+00, -1.3685e+00, -1.1973e+00, -1.0694e+00, -9.8091e-01,\n",
            "         -5.5770e-01, -3.8449e-01, -8.8302e-02, -1.9431e-02,  8.6021e-02,\n",
            "         -1.1370e-01,  2.1549e-02, -1.1820e-01, -8.3878e-02,  1.0541e-01,\n",
            "         -9.5104e-02, -8.2405e-02, -9.0886e-02, -3.5927e-01, -9.2948e-01,\n",
            "          2.4694e+00,  2.4763e+00,  2.3033e+00,  1.6894e+00,  1.4017e+00,\n",
            "          9.2813e-01,  1.5648e-01,  1.2490e-01,  1.5086e-02,  1.9468e-01,\n",
            "          4.4935e-01,  5.1388e-01,  5.4105e-01,  8.6797e-01,  1.2977e+00,\n",
            "          2.4996e-01, -3.4197e-03,  1.6618e-01, -2.8394e-02,  1.2857e-01,\n",
            "         -3.3955e-02,  2.2849e-01, -2.0959e-01, -2.6216e-01, -5.8346e-02,\n",
            "         -4.0972e-01, -5.9184e-01, -1.1575e+00, -4.7967e-01, -6.8619e-02,\n",
            "         -9.8644e-01, -6.4860e-01, -1.9001e-01,  7.1051e-01,  1.1147e+00,\n",
            "          7.1042e-01,  1.0880e+00,  1.5321e+00,  1.6713e+00,  1.4514e+00,\n",
            "          6.5316e-01,  1.1899e+00,  1.9049e+00,  1.4030e+00, -1.0117e-01,\n",
            "          1.7536e-01, -1.4857e-01, -7.0024e-02,  1.5301e-01,  3.8811e-01,\n",
            "         -1.8660e-01, -2.4615e-02, -5.1892e-02, -1.5262e-01, -7.2655e-01,\n",
            "         -9.7675e-01, -1.4768e+00, -1.5401e+00, -1.5483e+00, -1.6575e+00,\n",
            "         -1.5704e+00, -1.2585e+00, -3.0691e-01, -1.0930e+00, -3.4748e-02,\n",
            "          1.5959e-01,  8.2357e-02, -6.6782e-01, -2.0595e+00,  6.4040e-01,\n",
            "          1.6978e+00,  7.8503e-01, -5.8974e-02,  1.4446e-01,  1.7545e-01,\n",
            "         -6.9046e-02, -1.8681e-01, -2.9860e-01, -1.6999e-02,  1.6287e-01,\n",
            "         -2.3771e-01, -2.4525e-01, -3.3081e-01, -4.7500e-01, -9.0183e-01,\n",
            "         -1.0814e+00, -1.0007e+00, -9.7350e-01, -4.8806e-01, -2.0920e-01,\n",
            "         -2.7141e-01, -6.4018e-02, -6.3079e-02,  1.2846e-01, -1.5099e-01,\n",
            "         -1.2820e+00, -1.3435e+00,  8.1252e-01,  1.2237e+00, -4.3819e-01,\n",
            "         -1.7171e-01,  1.3039e-01,  1.6845e-02,  3.2346e-01, -1.0839e-01,\n",
            "          3.8102e-02,  2.9973e-01,  3.8588e-02,  1.0521e-02, -2.5428e-02,\n",
            "         -1.6777e-01, -1.7146e-01, -3.7171e-01, -5.6516e-01, -6.4656e-01,\n",
            "         -2.8702e-01,  1.3987e-02,  2.1139e-02,  2.9688e-01,  3.7735e-01,\n",
            "          2.6578e-01,  2.4344e-01, -1.9427e-01, -1.3755e+00,  4.7327e-01,\n",
            "          1.0994e+00, -2.7862e-01, -4.5853e-01,  1.1220e-01,  1.2922e-01,\n",
            "          1.9733e-02, -7.8274e-02, -3.3826e-01, -7.7446e-03, -1.3251e-01,\n",
            "          1.6124e-01,  1.0521e-01,  5.6482e-02, -9.1242e-03, -3.1130e-02,\n",
            "         -8.0230e-03, -3.7066e-01, -3.4708e-01, -2.3375e-01, -1.0430e-01,\n",
            "          3.6792e-02,  5.1381e-02,  1.0630e-01,  1.1443e-01, -1.0325e-01,\n",
            "         -8.8919e-01, -1.7970e-01,  1.0241e+00,  1.3821e+00, -3.4616e-01,\n",
            "         -2.4224e-01,  1.6591e-01,  2.1496e-01,  5.3158e-02,  6.9704e-02,\n",
            "          1.1577e-01,  2.8709e-01,  3.0044e-03,  1.5461e-01,  1.3712e-01,\n",
            "         -1.0230e-01, -2.4147e-02, -2.9862e-02, -2.1919e-01, -2.1055e-01,\n",
            "          5.9395e-03, -1.7776e-02,  7.5899e-02, -1.5428e-01, -2.6064e-01,\n",
            "         -6.6786e-02, -1.4494e-01, -3.6337e-01, -6.7610e-01,  8.6820e-01,\n",
            "          1.1323e+00, -6.3482e-01, -4.7871e-01, -1.0782e-01, -9.6520e-02,\n",
            "         -2.9510e-02,  6.6713e-02, -1.2197e-01,  1.3420e-02, -5.6611e-02,\n",
            "         -9.9297e-02, -7.1670e-02,  1.3614e-02,  1.5607e-01,  3.1909e-02,\n",
            "          7.4024e-02, -5.1782e-02, -8.3785e-02,  1.6716e-01,  1.8277e-01,\n",
            "          1.0470e-01, -2.0794e-01, -2.3666e-01, -1.3394e-01, -1.4083e-01,\n",
            "         -9.9900e-01, -5.7040e-01,  6.9098e-01,  7.6890e-01, -7.7726e-01,\n",
            "         -6.7082e-02,  1.4568e-01,  7.8482e-02, -8.7744e-02, -3.6159e-02,\n",
            "          6.7757e-02, -7.5043e-02, -5.6220e-03, -5.9045e-02, -8.6775e-02,\n",
            "         -6.0620e-02, -1.7210e-01, -7.6214e-02,  8.3247e-02,  9.6094e-02,\n",
            "          1.9945e-01,  1.8845e-01,  2.5572e-01,  5.9675e-02, -1.2511e-01,\n",
            "         -1.0102e-01, -3.7417e-02, -4.7705e-01, -1.5574e+00, -1.3030e-01,\n",
            "          6.2690e-01, -6.6599e-01, -3.0754e-01,  4.2102e-02, -1.4867e-02,\n",
            "         -7.1532e-03,  3.2034e-02,  7.7966e-02, -1.0179e-01,  4.9514e-02,\n",
            "          8.6471e-02, -1.5794e-02, -9.7173e-02,  3.8408e-02,  5.9070e-02,\n",
            "          2.1865e-01,  8.5959e-02,  2.2833e-01,  2.4726e-01,  1.7910e-01,\n",
            "          2.4692e-01,  1.5477e-01,  1.1546e-01,  1.9870e-01,  2.2351e-01,\n",
            "         -1.0344e+00, -7.9500e-01,  2.9057e-01,  1.4013e-01, -9.6969e-01,\n",
            "         -5.3689e-02,  6.4948e-02, -1.4854e-01,  1.4596e-02, -8.1048e-02,\n",
            "          9.7786e-02, -3.5929e-03,  6.1655e-02, -1.6954e-01,  7.6208e-02,\n",
            "         -4.3838e-02,  5.1486e-03,  1.5121e-02,  9.5912e-02,  2.3178e-01,\n",
            "          1.6569e-01,  3.2857e-01,  2.9149e-01,  2.6918e-02,  9.6164e-02,\n",
            "          2.1799e-01,  3.6283e-01, -3.6697e-01, -8.8825e-01,  5.4770e-01,\n",
            "          4.5026e-01, -7.4793e-01, -4.7915e-01, -1.0131e-01, -1.2040e-01,\n",
            "         -1.0450e-02, -6.5369e-02,  1.6364e-01, -1.5132e-02,  1.6012e-01,\n",
            "         -3.3100e-03,  2.2734e-02, -1.0828e-01,  7.9371e-03, -2.3651e-02,\n",
            "          5.0874e-02, -6.8281e-02,  7.4928e-02,  1.4487e-01,  1.5151e-01,\n",
            "          2.5464e-01,  1.1669e-01,  7.6674e-02,  2.7033e-01,  1.6843e-01,\n",
            "         -9.7482e-01,  4.6764e-01,  5.1187e-01,  2.1928e-01, -7.5954e-01,\n",
            "         -1.6953e-02, -1.3346e-01, -1.5810e-01,  1.3885e-01, -1.0171e-01,\n",
            "         -2.9440e-02,  1.2070e-01,  1.1273e-01, -5.5299e-02,  1.5884e-01,\n",
            "          6.9262e-02,  2.1269e-01,  4.9214e-03,  1.1054e-01,  6.3469e-02,\n",
            "          2.0637e-02,  1.9363e-01,  2.3253e-01,  1.9297e-01,  1.9440e-01,\n",
            "          1.2063e-01,  4.7277e-02, -6.3305e-01,  7.1767e-01,  5.4536e-01,\n",
            "          5.3152e-01, -9.5275e-01, -2.7036e-01,  1.0647e-01, -1.5569e-01,\n",
            "         -3.9169e-02,  9.4444e-02, -1.1463e-02,  6.3928e-02, -6.2677e-02,\n",
            "          1.5739e-01,  3.9622e-02,  6.0685e-02, -4.5066e-02, -3.7772e-03,\n",
            "          7.5316e-02, -1.0785e-02, -1.4191e-01,  3.4020e-02, -6.1377e-02,\n",
            "         -4.9253e-02,  1.4982e-02,  1.8024e-01,  3.1437e-01, -2.1144e-01,\n",
            "         -1.0165e+00,  7.9782e-01,  6.2759e-01, -8.0816e-01, -6.3482e-01,\n",
            "          2.5555e-02, -1.9085e-01,  3.0967e-04, -4.0005e-02, -1.9432e-02,\n",
            "          2.6798e-02,  6.7171e-02,  9.4939e-02,  1.5472e-01, -1.5980e-01,\n",
            "          1.1709e-01, -2.0758e-01,  1.2057e-01, -8.0685e-02, -1.0800e-01,\n",
            "          4.0170e-02, -9.6838e-02, -2.6572e-01, -1.3630e-01, -2.6880e-01,\n",
            "         -5.2957e-02, -3.2037e-01, -5.9614e-01,  8.8174e-01,  5.1404e-01,\n",
            "         -9.2374e-01, -1.2036e+00,  3.5817e-02,  1.1951e-01,  1.2180e-01,\n",
            "          9.0856e-02,  2.0726e-01,  1.7809e-01, -1.0031e-02,  1.9405e-02,\n",
            "         -3.2137e-02,  1.5992e-02, -2.1896e-02, -1.1060e-01, -6.8259e-02,\n",
            "         -2.5628e-01, -5.3996e-03,  8.9349e-03, -8.7293e-02, -2.6184e-02,\n",
            "         -2.0068e-01, -3.1104e-01, -3.7298e-01, -3.8306e-01, -8.7151e-01,\n",
            "         -4.6231e-02,  6.9190e-01,  6.3454e-01, -1.3254e+00, -7.4714e-01,\n",
            "          1.4491e-01,  1.8353e-01,  5.7088e-02,  2.2480e-01,  1.3293e-01,\n",
            "         -1.4951e-02, -9.9844e-03, -2.7256e-02,  3.1776e-02,  8.9717e-02,\n",
            "         -1.3845e-01, -8.7234e-02,  9.4928e-02,  7.3065e-03, -1.3028e-01,\n",
            "          2.8429e-02,  1.4164e-02,  1.9253e-01, -6.3229e-02, -2.2334e-01,\n",
            "         -4.5412e-01, -8.5081e-01, -4.9009e-01,  1.1100e+00,  8.4873e-01,\n",
            "          1.1343e+00, -8.4696e-01, -5.3547e-01, -1.5423e-02,  2.3949e-01,\n",
            "          1.4557e-01,  3.2654e-02,  1.5867e-01,  2.5221e-01,  2.6812e-02,\n",
            "         -2.1782e-03,  8.2099e-02,  1.3522e-01, -1.5090e-01, -1.6887e-02,\n",
            "         -4.8706e-02, -1.1745e-01,  1.3272e-02, -1.2882e-01, -1.3498e-01,\n",
            "         -9.6246e-02, -6.5500e-02, -1.0916e-01, -4.3473e-01, -6.8942e-01,\n",
            "          5.1943e-01,  2.0026e+00,  1.6300e+00,  1.6584e+00, -6.0286e-01,\n",
            "         -5.6061e-01, -8.6942e-02, -4.4411e-02,  5.6928e-02,  9.9069e-02,\n",
            "          9.2352e-02, -4.8462e-02, -7.2241e-02, -7.4386e-02,  8.7091e-02,\n",
            "         -1.8886e-01, -1.6654e-02,  1.3545e-01, -1.8148e-02,  1.2058e-02,\n",
            "          1.4180e-01, -1.1597e-01,  4.2018e-02, -5.1430e-02,  3.4740e-03,\n",
            "         -2.5216e-02, -2.4344e-01, -4.2133e-01,  1.3747e+00,  3.2537e+00,\n",
            "          2.1914e+00, -9.0937e-01, -8.1104e-01, -2.3262e-01, -1.0972e-01,\n",
            "         -7.2110e-02,  4.2320e-02,  5.2977e-03, -1.3091e-01, -4.9773e-02,\n",
            "          2.4759e-01,  4.4978e-02,  1.0607e-01,  4.2439e-02, -1.4395e-01,\n",
            "         -6.8186e-02,  5.8789e-04, -4.6538e-02, -3.3665e-02,  4.0487e-02,\n",
            "         -8.5689e-02,  4.3650e-02,  1.8719e-01, -2.1863e-01, -6.0519e-02,\n",
            "          5.2998e-02, -1.2823e-01, -1.7159e-01,  5.6921e-02, -1.0978e-02,\n",
            "         -5.3840e-02, -1.0202e-01, -6.1991e-02,  3.7152e-02, -6.8663e-02,\n",
            "          2.0201e-01,  6.5797e-02,  4.4458e-03, -4.8067e-03, -2.3505e-03,\n",
            "         -5.1612e-02, -1.5094e-02, -7.9527e-03,  6.1710e-03]], device='cuda:0',\n",
            "       grad_fn=<MulBackward0>), tensor([1168.8220], device='cuda:0', grad_fn=<AddBackward0>))\n"
          ]
        }
      ],
      "source": [
        "image = test_set[0][0].unsqueeze(0).to(device)\n",
        "print(image.shape)\n",
        "latent = model(image)\n",
        "print(latent)"
      ]
    },
    {
      "cell_type": "code",
      "execution_count": null,
      "metadata": {
        "colab": {
          "base_uri": "https://localhost:8080/",
          "height": 1000
        },
        "id": "izH_hLrVnsOa",
        "outputId": "b76f8c99-f062-4444-c962-7eae9dc4665b"
      },
      "outputs": [],
      "source": [
        "def q2(i, j):\n",
        "    im1, im2 = train_set[i][0], train_set[j][0]\n",
        "    show_imgs([im1, im2])\n",
        "    (mu1, log_variance1), (mu2, log_variance2) = model.encoder(im1.unsqueeze(1)), model.encoder(im2.unsqueeze(1))\n",
        "    for i in range(0, 10):\n",
        "        mu, log_variance = mu1 * (1 - i/10) + mu2 * i/10, log_variance1 * (1 - i/10) + log_variance2 * i/10\n",
        "        z = model.latent_sample(mu.unsqueeze(0), log_variance.unsqueeze(0))\n",
        "        reconstructed = model.decoder(z)\n",
        "        show_imgs(reconstructed.cpu().detach())\n",
        "q2(1, 2)\n",
        "q2(2, 3)\n",
        "q2(5, 6)"
      ]
    }
  ],
  "metadata": {
    "accelerator": "GPU",
    "colab": {
      "gpuType": "T4",
      "provenance": []
    },
    "kernelspec": {
      "display_name": "Python 3",
      "name": "python3"
    },
    "language_info": {
      "codemirror_mode": {
        "name": "ipython",
        "version": 3
      },
      "file_extension": ".py",
      "mimetype": "text/x-python",
      "name": "python",
      "nbconvert_exporter": "python",
      "pygments_lexer": "ipython3",
      "version": "3.11.5"
    },
    "widgets": {
      "application/vnd.jupyter.widget-state+json": {
        "01664b9aedb8488a9f4031aa3492e4c0": {
          "model_module": "@jupyter-widgets/base",
          "model_module_version": "1.2.0",
          "model_name": "LayoutModel",
          "state": {
            "_model_module": "@jupyter-widgets/base",
            "_model_module_version": "1.2.0",
            "_model_name": "LayoutModel",
            "_view_count": null,
            "_view_module": "@jupyter-widgets/base",
            "_view_module_version": "1.2.0",
            "_view_name": "LayoutView",
            "align_content": null,
            "align_items": null,
            "align_self": null,
            "border": null,
            "bottom": null,
            "display": null,
            "flex": "2",
            "flex_flow": null,
            "grid_area": null,
            "grid_auto_columns": null,
            "grid_auto_flow": null,
            "grid_auto_rows": null,
            "grid_column": null,
            "grid_gap": null,
            "grid_row": null,
            "grid_template_areas": null,
            "grid_template_columns": null,
            "grid_template_rows": null,
            "height": null,
            "justify_content": null,
            "justify_items": null,
            "left": null,
            "margin": null,
            "max_height": null,
            "max_width": null,
            "min_height": null,
            "min_width": null,
            "object_fit": null,
            "object_position": null,
            "order": null,
            "overflow": null,
            "overflow_x": null,
            "overflow_y": null,
            "padding": null,
            "right": null,
            "top": null,
            "visibility": null,
            "width": null
          }
        },
        "0791d07a942e474daa97b181846b55a1": {
          "model_module": "@jupyter-widgets/controls",
          "model_module_version": "1.5.0",
          "model_name": "HTMLModel",
          "state": {
            "_dom_classes": [],
            "_model_module": "@jupyter-widgets/controls",
            "_model_module_version": "1.5.0",
            "_model_name": "HTMLModel",
            "_view_count": null,
            "_view_module": "@jupyter-widgets/controls",
            "_view_module_version": "1.5.0",
            "_view_name": "HTMLView",
            "description": "",
            "description_tooltip": null,
            "layout": "IPY_MODEL_46c93a5cf1c8421aa0fc1e217c2e229d",
            "placeholder": "​",
            "style": "IPY_MODEL_645df64423fc4de3b22532404d4b6d44",
            "value": " 79/79 [00:02&lt;00:00, 29.31it/s]"
          }
        },
        "0e31f520164a4bf7babb984d23f6d70b": {
          "model_module": "@jupyter-widgets/controls",
          "model_module_version": "1.5.0",
          "model_name": "HTMLModel",
          "state": {
            "_dom_classes": [],
            "_model_module": "@jupyter-widgets/controls",
            "_model_module_version": "1.5.0",
            "_model_name": "HTMLModel",
            "_view_count": null,
            "_view_module": "@jupyter-widgets/controls",
            "_view_module_version": "1.5.0",
            "_view_name": "HTMLView",
            "description": "",
            "description_tooltip": null,
            "layout": "IPY_MODEL_b1f903d69e6849f693a475df3316979f",
            "placeholder": "​",
            "style": "IPY_MODEL_2a6bd5516ebb40c1956559052323d50d",
            "value": " 79/79 [00:03&lt;00:00, 20.62it/s]"
          }
        },
        "29184af70bd542a68c9f07d6c540aa09": {
          "model_module": "@jupyter-widgets/controls",
          "model_module_version": "1.5.0",
          "model_name": "DescriptionStyleModel",
          "state": {
            "_model_module": "@jupyter-widgets/controls",
            "_model_module_version": "1.5.0",
            "_model_name": "DescriptionStyleModel",
            "_view_count": null,
            "_view_module": "@jupyter-widgets/base",
            "_view_module_version": "1.2.0",
            "_view_name": "StyleView",
            "description_width": ""
          }
        },
        "2a6bd5516ebb40c1956559052323d50d": {
          "model_module": "@jupyter-widgets/controls",
          "model_module_version": "1.5.0",
          "model_name": "DescriptionStyleModel",
          "state": {
            "_model_module": "@jupyter-widgets/controls",
            "_model_module_version": "1.5.0",
            "_model_name": "DescriptionStyleModel",
            "_view_count": null,
            "_view_module": "@jupyter-widgets/base",
            "_view_module_version": "1.2.0",
            "_view_name": "StyleView",
            "description_width": ""
          }
        },
        "2e6e6d0f2d5a4b1c87abd1920b1bdc4b": {
          "model_module": "@jupyter-widgets/base",
          "model_module_version": "1.2.0",
          "model_name": "LayoutModel",
          "state": {
            "_model_module": "@jupyter-widgets/base",
            "_model_module_version": "1.2.0",
            "_model_name": "LayoutModel",
            "_view_count": null,
            "_view_module": "@jupyter-widgets/base",
            "_view_module_version": "1.2.0",
            "_view_name": "LayoutView",
            "align_content": null,
            "align_items": null,
            "align_self": null,
            "border": null,
            "bottom": null,
            "display": null,
            "flex": null,
            "flex_flow": null,
            "grid_area": null,
            "grid_auto_columns": null,
            "grid_auto_flow": null,
            "grid_auto_rows": null,
            "grid_column": null,
            "grid_gap": null,
            "grid_row": null,
            "grid_template_areas": null,
            "grid_template_columns": null,
            "grid_template_rows": null,
            "height": null,
            "justify_content": null,
            "justify_items": null,
            "left": null,
            "margin": null,
            "max_height": null,
            "max_width": null,
            "min_height": null,
            "min_width": null,
            "object_fit": null,
            "object_position": null,
            "order": null,
            "overflow": null,
            "overflow_x": null,
            "overflow_y": null,
            "padding": null,
            "right": null,
            "top": null,
            "visibility": null,
            "width": null
          }
        },
        "411b1f11155f437fb31a52d8bd954d53": {
          "model_module": "@jupyter-widgets/controls",
          "model_module_version": "1.5.0",
          "model_name": "FloatProgressModel",
          "state": {
            "_dom_classes": [],
            "_model_module": "@jupyter-widgets/controls",
            "_model_module_version": "1.5.0",
            "_model_name": "FloatProgressModel",
            "_view_count": null,
            "_view_module": "@jupyter-widgets/controls",
            "_view_module_version": "1.5.0",
            "_view_name": "ProgressView",
            "bar_style": "success",
            "description": "",
            "description_tooltip": null,
            "layout": "IPY_MODEL_5835871934b444e1bd84bc30e276cb0b",
            "max": 79,
            "min": 0,
            "orientation": "horizontal",
            "style": "IPY_MODEL_c02ae0c813964142bb9f66c2a361c9ac",
            "value": 79
          }
        },
        "43b4ba6b4bf64af485b9e1252a8b6287": {
          "model_module": "@jupyter-widgets/controls",
          "model_module_version": "1.5.0",
          "model_name": "HTMLModel",
          "state": {
            "_dom_classes": [],
            "_model_module": "@jupyter-widgets/controls",
            "_model_module_version": "1.5.0",
            "_model_name": "HTMLModel",
            "_view_count": null,
            "_view_module": "@jupyter-widgets/controls",
            "_view_module_version": "1.5.0",
            "_view_name": "HTMLView",
            "description": "",
            "description_tooltip": null,
            "layout": "IPY_MODEL_2e6e6d0f2d5a4b1c87abd1920b1bdc4b",
            "placeholder": "​",
            "style": "IPY_MODEL_29184af70bd542a68c9f07d6c540aa09",
            "value": "Testing DataLoader 0: 100%"
          }
        },
        "446e703b0c4140b091570386f4dd874a": {
          "model_module": "@jupyter-widgets/controls",
          "model_module_version": "1.5.0",
          "model_name": "DescriptionStyleModel",
          "state": {
            "_model_module": "@jupyter-widgets/controls",
            "_model_module_version": "1.5.0",
            "_model_name": "DescriptionStyleModel",
            "_view_count": null,
            "_view_module": "@jupyter-widgets/base",
            "_view_module_version": "1.2.0",
            "_view_name": "StyleView",
            "description_width": ""
          }
        },
        "46c93a5cf1c8421aa0fc1e217c2e229d": {
          "model_module": "@jupyter-widgets/base",
          "model_module_version": "1.2.0",
          "model_name": "LayoutModel",
          "state": {
            "_model_module": "@jupyter-widgets/base",
            "_model_module_version": "1.2.0",
            "_model_name": "LayoutModel",
            "_view_count": null,
            "_view_module": "@jupyter-widgets/base",
            "_view_module_version": "1.2.0",
            "_view_name": "LayoutView",
            "align_content": null,
            "align_items": null,
            "align_self": null,
            "border": null,
            "bottom": null,
            "display": null,
            "flex": null,
            "flex_flow": null,
            "grid_area": null,
            "grid_auto_columns": null,
            "grid_auto_flow": null,
            "grid_auto_rows": null,
            "grid_column": null,
            "grid_gap": null,
            "grid_row": null,
            "grid_template_areas": null,
            "grid_template_columns": null,
            "grid_template_rows": null,
            "height": null,
            "justify_content": null,
            "justify_items": null,
            "left": null,
            "margin": null,
            "max_height": null,
            "max_width": null,
            "min_height": null,
            "min_width": null,
            "object_fit": null,
            "object_position": null,
            "order": null,
            "overflow": null,
            "overflow_x": null,
            "overflow_y": null,
            "padding": null,
            "right": null,
            "top": null,
            "visibility": null,
            "width": null
          }
        },
        "5835871934b444e1bd84bc30e276cb0b": {
          "model_module": "@jupyter-widgets/base",
          "model_module_version": "1.2.0",
          "model_name": "LayoutModel",
          "state": {
            "_model_module": "@jupyter-widgets/base",
            "_model_module_version": "1.2.0",
            "_model_name": "LayoutModel",
            "_view_count": null,
            "_view_module": "@jupyter-widgets/base",
            "_view_module_version": "1.2.0",
            "_view_name": "LayoutView",
            "align_content": null,
            "align_items": null,
            "align_self": null,
            "border": null,
            "bottom": null,
            "display": null,
            "flex": "2",
            "flex_flow": null,
            "grid_area": null,
            "grid_auto_columns": null,
            "grid_auto_flow": null,
            "grid_auto_rows": null,
            "grid_column": null,
            "grid_gap": null,
            "grid_row": null,
            "grid_template_areas": null,
            "grid_template_columns": null,
            "grid_template_rows": null,
            "height": null,
            "justify_content": null,
            "justify_items": null,
            "left": null,
            "margin": null,
            "max_height": null,
            "max_width": null,
            "min_height": null,
            "min_width": null,
            "object_fit": null,
            "object_position": null,
            "order": null,
            "overflow": null,
            "overflow_x": null,
            "overflow_y": null,
            "padding": null,
            "right": null,
            "top": null,
            "visibility": null,
            "width": null
          }
        },
        "645df64423fc4de3b22532404d4b6d44": {
          "model_module": "@jupyter-widgets/controls",
          "model_module_version": "1.5.0",
          "model_name": "DescriptionStyleModel",
          "state": {
            "_model_module": "@jupyter-widgets/controls",
            "_model_module_version": "1.5.0",
            "_model_name": "DescriptionStyleModel",
            "_view_count": null,
            "_view_module": "@jupyter-widgets/base",
            "_view_module_version": "1.2.0",
            "_view_name": "StyleView",
            "description_width": ""
          }
        },
        "66321ec3082c4f2e82004f36841027a6": {
          "model_module": "@jupyter-widgets/controls",
          "model_module_version": "1.5.0",
          "model_name": "HBoxModel",
          "state": {
            "_dom_classes": [],
            "_model_module": "@jupyter-widgets/controls",
            "_model_module_version": "1.5.0",
            "_model_name": "HBoxModel",
            "_view_count": null,
            "_view_module": "@jupyter-widgets/controls",
            "_view_module_version": "1.5.0",
            "_view_name": "HBoxView",
            "box_style": "",
            "children": [
              "IPY_MODEL_43b4ba6b4bf64af485b9e1252a8b6287",
              "IPY_MODEL_b1cfd5928a144458adc0ce7415ef6010",
              "IPY_MODEL_0e31f520164a4bf7babb984d23f6d70b"
            ],
            "layout": "IPY_MODEL_ee0044f500d742a7bac85586d44b9929"
          }
        },
        "827c6a13c52149259e3728e4d4e644b2": {
          "model_module": "@jupyter-widgets/base",
          "model_module_version": "1.2.0",
          "model_name": "LayoutModel",
          "state": {
            "_model_module": "@jupyter-widgets/base",
            "_model_module_version": "1.2.0",
            "_model_name": "LayoutModel",
            "_view_count": null,
            "_view_module": "@jupyter-widgets/base",
            "_view_module_version": "1.2.0",
            "_view_name": "LayoutView",
            "align_content": null,
            "align_items": null,
            "align_self": null,
            "border": null,
            "bottom": null,
            "display": "inline-flex",
            "flex": null,
            "flex_flow": "row wrap",
            "grid_area": null,
            "grid_auto_columns": null,
            "grid_auto_flow": null,
            "grid_auto_rows": null,
            "grid_column": null,
            "grid_gap": null,
            "grid_row": null,
            "grid_template_areas": null,
            "grid_template_columns": null,
            "grid_template_rows": null,
            "height": null,
            "justify_content": null,
            "justify_items": null,
            "left": null,
            "margin": null,
            "max_height": null,
            "max_width": null,
            "min_height": null,
            "min_width": null,
            "object_fit": null,
            "object_position": null,
            "order": null,
            "overflow": null,
            "overflow_x": null,
            "overflow_y": null,
            "padding": null,
            "right": null,
            "top": null,
            "visibility": null,
            "width": "100%"
          }
        },
        "955a0c6dbfbe4a7089f0ffd6c22cc72f": {
          "model_module": "@jupyter-widgets/controls",
          "model_module_version": "1.5.0",
          "model_name": "HBoxModel",
          "state": {
            "_dom_classes": [],
            "_model_module": "@jupyter-widgets/controls",
            "_model_module_version": "1.5.0",
            "_model_name": "HBoxModel",
            "_view_count": null,
            "_view_module": "@jupyter-widgets/controls",
            "_view_module_version": "1.5.0",
            "_view_name": "HBoxView",
            "box_style": "",
            "children": [
              "IPY_MODEL_e646fb573b2047d9a54ffa7e420561e8",
              "IPY_MODEL_411b1f11155f437fb31a52d8bd954d53",
              "IPY_MODEL_0791d07a942e474daa97b181846b55a1"
            ],
            "layout": "IPY_MODEL_827c6a13c52149259e3728e4d4e644b2"
          }
        },
        "a97f2d91d86d4a0aa13f14ab2115ae21": {
          "model_module": "@jupyter-widgets/controls",
          "model_module_version": "1.5.0",
          "model_name": "ProgressStyleModel",
          "state": {
            "_model_module": "@jupyter-widgets/controls",
            "_model_module_version": "1.5.0",
            "_model_name": "ProgressStyleModel",
            "_view_count": null,
            "_view_module": "@jupyter-widgets/base",
            "_view_module_version": "1.2.0",
            "_view_name": "StyleView",
            "bar_color": null,
            "description_width": ""
          }
        },
        "b1cfd5928a144458adc0ce7415ef6010": {
          "model_module": "@jupyter-widgets/controls",
          "model_module_version": "1.5.0",
          "model_name": "FloatProgressModel",
          "state": {
            "_dom_classes": [],
            "_model_module": "@jupyter-widgets/controls",
            "_model_module_version": "1.5.0",
            "_model_name": "FloatProgressModel",
            "_view_count": null,
            "_view_module": "@jupyter-widgets/controls",
            "_view_module_version": "1.5.0",
            "_view_name": "ProgressView",
            "bar_style": "success",
            "description": "",
            "description_tooltip": null,
            "layout": "IPY_MODEL_01664b9aedb8488a9f4031aa3492e4c0",
            "max": 79,
            "min": 0,
            "orientation": "horizontal",
            "style": "IPY_MODEL_a97f2d91d86d4a0aa13f14ab2115ae21",
            "value": 79
          }
        },
        "b1f903d69e6849f693a475df3316979f": {
          "model_module": "@jupyter-widgets/base",
          "model_module_version": "1.2.0",
          "model_name": "LayoutModel",
          "state": {
            "_model_module": "@jupyter-widgets/base",
            "_model_module_version": "1.2.0",
            "_model_name": "LayoutModel",
            "_view_count": null,
            "_view_module": "@jupyter-widgets/base",
            "_view_module_version": "1.2.0",
            "_view_name": "LayoutView",
            "align_content": null,
            "align_items": null,
            "align_self": null,
            "border": null,
            "bottom": null,
            "display": null,
            "flex": null,
            "flex_flow": null,
            "grid_area": null,
            "grid_auto_columns": null,
            "grid_auto_flow": null,
            "grid_auto_rows": null,
            "grid_column": null,
            "grid_gap": null,
            "grid_row": null,
            "grid_template_areas": null,
            "grid_template_columns": null,
            "grid_template_rows": null,
            "height": null,
            "justify_content": null,
            "justify_items": null,
            "left": null,
            "margin": null,
            "max_height": null,
            "max_width": null,
            "min_height": null,
            "min_width": null,
            "object_fit": null,
            "object_position": null,
            "order": null,
            "overflow": null,
            "overflow_x": null,
            "overflow_y": null,
            "padding": null,
            "right": null,
            "top": null,
            "visibility": null,
            "width": null
          }
        },
        "c02ae0c813964142bb9f66c2a361c9ac": {
          "model_module": "@jupyter-widgets/controls",
          "model_module_version": "1.5.0",
          "model_name": "ProgressStyleModel",
          "state": {
            "_model_module": "@jupyter-widgets/controls",
            "_model_module_version": "1.5.0",
            "_model_name": "ProgressStyleModel",
            "_view_count": null,
            "_view_module": "@jupyter-widgets/base",
            "_view_module_version": "1.2.0",
            "_view_name": "StyleView",
            "bar_color": null,
            "description_width": ""
          }
        },
        "e646fb573b2047d9a54ffa7e420561e8": {
          "model_module": "@jupyter-widgets/controls",
          "model_module_version": "1.5.0",
          "model_name": "HTMLModel",
          "state": {
            "_dom_classes": [],
            "_model_module": "@jupyter-widgets/controls",
            "_model_module_version": "1.5.0",
            "_model_name": "HTMLModel",
            "_view_count": null,
            "_view_module": "@jupyter-widgets/controls",
            "_view_module_version": "1.5.0",
            "_view_name": "HTMLView",
            "description": "",
            "description_tooltip": null,
            "layout": "IPY_MODEL_e74e08c9fb654724acc8373e356edf01",
            "placeholder": "​",
            "style": "IPY_MODEL_446e703b0c4140b091570386f4dd874a",
            "value": "Testing DataLoader 0: 100%"
          }
        },
        "e74e08c9fb654724acc8373e356edf01": {
          "model_module": "@jupyter-widgets/base",
          "model_module_version": "1.2.0",
          "model_name": "LayoutModel",
          "state": {
            "_model_module": "@jupyter-widgets/base",
            "_model_module_version": "1.2.0",
            "_model_name": "LayoutModel",
            "_view_count": null,
            "_view_module": "@jupyter-widgets/base",
            "_view_module_version": "1.2.0",
            "_view_name": "LayoutView",
            "align_content": null,
            "align_items": null,
            "align_self": null,
            "border": null,
            "bottom": null,
            "display": null,
            "flex": null,
            "flex_flow": null,
            "grid_area": null,
            "grid_auto_columns": null,
            "grid_auto_flow": null,
            "grid_auto_rows": null,
            "grid_column": null,
            "grid_gap": null,
            "grid_row": null,
            "grid_template_areas": null,
            "grid_template_columns": null,
            "grid_template_rows": null,
            "height": null,
            "justify_content": null,
            "justify_items": null,
            "left": null,
            "margin": null,
            "max_height": null,
            "max_width": null,
            "min_height": null,
            "min_width": null,
            "object_fit": null,
            "object_position": null,
            "order": null,
            "overflow": null,
            "overflow_x": null,
            "overflow_y": null,
            "padding": null,
            "right": null,
            "top": null,
            "visibility": null,
            "width": null
          }
        },
        "ee0044f500d742a7bac85586d44b9929": {
          "model_module": "@jupyter-widgets/base",
          "model_module_version": "1.2.0",
          "model_name": "LayoutModel",
          "state": {
            "_model_module": "@jupyter-widgets/base",
            "_model_module_version": "1.2.0",
            "_model_name": "LayoutModel",
            "_view_count": null,
            "_view_module": "@jupyter-widgets/base",
            "_view_module_version": "1.2.0",
            "_view_name": "LayoutView",
            "align_content": null,
            "align_items": null,
            "align_self": null,
            "border": null,
            "bottom": null,
            "display": "inline-flex",
            "flex": null,
            "flex_flow": "row wrap",
            "grid_area": null,
            "grid_auto_columns": null,
            "grid_auto_flow": null,
            "grid_auto_rows": null,
            "grid_column": null,
            "grid_gap": null,
            "grid_row": null,
            "grid_template_areas": null,
            "grid_template_columns": null,
            "grid_template_rows": null,
            "height": null,
            "justify_content": null,
            "justify_items": null,
            "left": null,
            "margin": null,
            "max_height": null,
            "max_width": null,
            "min_height": null,
            "min_width": null,
            "object_fit": null,
            "object_position": null,
            "order": null,
            "overflow": null,
            "overflow_x": null,
            "overflow_y": null,
            "padding": null,
            "right": null,
            "top": null,
            "visibility": null,
            "width": "100%"
          }
        }
      }
    }
  },
  "nbformat": 4,
  "nbformat_minor": 0
}
