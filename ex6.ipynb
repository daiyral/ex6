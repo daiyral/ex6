{
  "cells": [
    {
      "cell_type": "markdown",
      "metadata": {
        "id": "E_wGwPYLbghK"
      },
      "source": [
        "## Normalizing Flows - Exercise 6.\n",
        "### Daniel Aibinder 318239639, Yonathan Dovgolevsky 327709648"
      ]
    },
    {
      "cell_type": "code",
      "execution_count": 1,
      "metadata": {
        "colab": {
          "base_uri": "https://localhost:8080/",
          "height": 105
        },
        "id": "jUdClyTnbghM",
        "outputId": "0b691a00-8229-4fba-ada7-da73c9c4dfbe"
      },
      "outputs": [
        {
          "name": "stderr",
          "output_type": "stream",
          "text": [
            "C:\\Users\\Danny\\AppData\\Local\\Temp\\ipykernel_15268\\3028478413.py:11: DeprecationWarning: `set_matplotlib_formats` is deprecated since IPython 7.23, directly use `matplotlib_inline.backend_inline.set_matplotlib_formats()`\n",
            "  set_matplotlib_formats('svg', 'pdf') # For export\n",
            "Global seed set to 42\n"
          ]
        },
        {
          "name": "stdout",
          "output_type": "stream",
          "text": [
            "Using device cuda:0\n"
          ]
        },
        {
          "data": {
            "text/plain": [
              "<Figure size 640x480 with 0 Axes>"
            ]
          },
          "metadata": {},
          "output_type": "display_data"
        }
      ],
      "source": [
        "## Standard libraries\n",
        "import os\n",
        "import math\n",
        "import numpy as np\n",
        "\n",
        "## Imports for plotting\n",
        "import matplotlib.pyplot as plt\n",
        "plt.set_cmap('cividis')\n",
        "%matplotlib inline\n",
        "from IPython.display import set_matplotlib_formats\n",
        "set_matplotlib_formats('svg', 'pdf') # For export\n",
        "from matplotlib.colors import to_rgb\n",
        "import seaborn as sns\n",
        "\n",
        "## Progress bar\n",
        "from tqdm.notebook import tqdm\n",
        "\n",
        "## PyTorch\n",
        "import torch\n",
        "import torch.nn as nn\n",
        "import torch.nn.functional as F\n",
        "import torch.utils.data as data\n",
        "import torch.optim as optim\n",
        "# Torchvision\n",
        "import torchvision\n",
        "from torchvision.datasets import MNIST\n",
        "from torchvision import transforms\n",
        "# PyTorch Lightning\n",
        "try:\n",
        "    import pytorch_lightning as pl\n",
        "except ModuleNotFoundError: # Google Colab does not have PyTorch Lightning installed by default. Hence, we do it here if necessary\n",
        "    !pip install --quiet pytorch-lightning>=1.4\n",
        "    import pytorch_lightning as pl\n",
        "from pytorch_lightning.callbacks import LearningRateMonitor, ModelCheckpoint\n",
        "from pytorch_lightning.loggers import TensorBoardLogger\n",
        "\n",
        "\n",
        "# Path to the folder where the datasets are/should be downloaded (e.g. MNIST)\n",
        "DATASET_PATH = \"./data\"\n",
        "# Path to the folder where the pretrained models are saved\n",
        "CHECKPOINT_PATH = \"./saved_models/tutorial12\"\n",
        "\n",
        "# Setting the seed\n",
        "pl.seed_everything(42)\n",
        "\n",
        "# Ensure that all operations are deterministic on GPU (if used) for reproducibility\n",
        "torch.backends.cudnn.deterministic = True\n",
        "torch.backends.cudnn.benchmark = False\n",
        "\n",
        "# Fetching the device that will be used throughout this notebook\n",
        "device = torch.device(\"cpu\") if not torch.cuda.is_available() else torch.device(\"cuda:0\")\n",
        "print(\"Using device\", device)"
      ]
    },
    {
      "cell_type": "code",
      "execution_count": 2,
      "metadata": {
        "colab": {
          "base_uri": "https://localhost:8080/"
        },
        "id": "xiX3muzmbghO",
        "outputId": "eeee7f49-d8ff-4c03-c7d5-d49148e79d35"
      },
      "outputs": [
        {
          "name": "stderr",
          "output_type": "stream",
          "text": [
            "Global seed set to 42\n"
          ]
        }
      ],
      "source": [
        "def add_noise(sample):\n",
        "    sample = (sample * 255).to(torch.float) # Convert to float and scale to [0, 255]\n",
        "    noise = torch.rand_like(sample) # Uniform noise in [0, 1]\n",
        "    noisy_sample = sample + noise\n",
        "    noisy_sample = noisy_sample / 255.0 # Scale back to [0, 1]\n",
        "    noisy_sample = torch.clamp(noisy_sample, 0, 1) # Ensure that the values are still in [0, 1]\n",
        "    return noisy_sample\n",
        "\n",
        "def flatten_image(image):\n",
        "    return image.view(-1)\n",
        "\n",
        "# Transformations: Convert to tensor, add noise and normalize\n",
        "transform = transforms.Compose([\n",
        "    transforms.ToTensor(),\n",
        "    add_noise,\n",
        "    flatten_image\n",
        "])\n",
        "\n",
        "\n",
        "# Loading the training dataset. We need to split it into a training and validation part\n",
        "train_dataset = MNIST(root=DATASET_PATH, train=True, transform=transform, download=True)\n",
        "pl.seed_everything(42)\n",
        "train_set, val_set = torch.utils.data.random_split(train_dataset, [50000, 10000])\n",
        "\n",
        "# Loading the test set\n",
        "test_set = MNIST(root=DATASET_PATH, train=False, transform=transform, download=True)\n",
        "\n",
        "# We define a set of data loaders that we can use for various purposes later.\n",
        "train_loader = data.DataLoader(train_set, batch_size=128, shuffle=True, drop_last=True, pin_memory=True)\n",
        "val_loader = data.DataLoader(val_set, batch_size=128, shuffle=False, drop_last=False)\n",
        "test_loader = data.DataLoader(test_set, batch_size=128, shuffle=False, drop_last=False)"
      ]
    },
    {
      "cell_type": "code",
      "execution_count": 3,
      "metadata": {
        "colab": {
          "base_uri": "https://localhost:8080/",
          "height": 280
        },
        "id": "vN4jMKlCbghO",
        "outputId": "cff9fdce-4aa9-49c6-a2ba-f88f51104bd5"
      },
      "outputs": [
        {
          "name": "stderr",
          "output_type": "stream",
          "text": [
            "Clipping input data to the valid range for imshow with RGB data ([0..1] for floats or [0..255] for integers).\n"
          ]
        },
        {
          "data": {
            "application/pdf": "[encoded data removed]",
            "image/svg+xml": [
              "<?xml version=\"1.0\" encoding=\"utf-8\" standalone=\"no\"?>\n",
              "<!DOCTYPE svg PUBLIC \"-//W3C//DTD SVG 1.1//EN\"\n",
              "  \"http://www.w3.org/Graphics/SVG/1.1/DTD/svg11.dtd\">\n",
              "<svg xmlns:xlink=\"http://www.w3.org/1999/xlink\" width=\"341.674839pt\" height=\"180.72pt\" viewBox=\"0 0 341.674839 180.72\" xmlns=\"http://www.w3.org/2000/svg\" version=\"1.1\">\n",
              " <metadata>\n",
              "  <rdf:RDF xmlns:dc=\"http://purl.org/dc/elements/1.1/\" xmlns:cc=\"http://creativecommons.org/ns#\" xmlns:rdf=\"http://www.w3.org/1999/02/22-rdf-syntax-ns#\">\n",
              "   <cc:Work>\n",
              "    <dc:type rdf:resource=\"http://purl.org/dc/dcmitype/StillImage\"/>\n",
              "    <dc:date>2024-07-13T09:55:34.132872</dc:date>\n",
              "    <dc:format>image/svg+xml</dc:format>\n",
              "    <dc:creator>\n",
              "     <cc:Agent>\n",
              "      <dc:title>Matplotlib v3.8.4, https://matplotlib.org/</dc:title>\n",
              "     </cc:Agent>\n",
              "    </dc:creator>\n",
              "   </cc:Work>\n",
              "  </rdf:RDF>\n",
              " </metadata>\n",
              " <defs>\n",
              "  <style type=\"text/css\">*{stroke-linejoin: round; stroke-linecap: butt}</style>\n",
              " </defs>\n",
              " <g id=\"figure_1\">\n",
              "  <g id=\"patch_1\">\n",
              "   <path d=\"M 0 180.72 \n",
              "L 341.674839 180.72 \n",
              "L 341.674839 0 \n",
              "L 0 0 \n",
              "z\n",
              "\" style=\"fill: #ffffff\"/>\n",
              "  </g>\n",
              "  <g id=\"axes_1\">\n",
              "   <g clip-path=\"url(#pa35ca9da40)\">\n",
              "    <image xlink:href=\"data:image/png;base64,\n",
              "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\" id=\"imagef641f8a787\" transform=\"scale(1 -1) translate(0 -166.32)\" x=\"7.2\" y=\"-7.2\" width=\"327.6\" height=\"166.32\"/>\n",
              "   </g>\n",
              "  </g>\n",
              " </g>\n",
              " <defs>\n",
              "  <clipPath id=\"pa35ca9da40\">\n",
              "   <rect x=\"7.2\" y=\"7.2\" width=\"327.274839\" height=\"166.32\"/>\n",
              "  </clipPath>\n",
              " </defs>\n",
              "</svg>\n"
            ],
            "text/plain": [
              "<Figure size 600x300 with 1 Axes>"
            ]
          },
          "metadata": {},
          "output_type": "display_data"
        }
      ],
      "source": [
        "def show_imgs(imgs):\n",
        "    imgs = [img.view(1, 28, 28) for img in imgs] #unflatten images\n",
        "    num_imgs = imgs.shape[0] if isinstance(imgs, torch.Tensor) else len(imgs)\n",
        "    nrow = min(num_imgs, 4)\n",
        "    ncol = int(math.ceil(num_imgs/nrow))\n",
        "    imgs = torchvision.utils.make_grid(imgs, nrow=nrow, pad_value=128)\n",
        "    imgs = imgs.clamp(min=0, max=255)\n",
        "    np_imgs = imgs.cpu().numpy()\n",
        "    plt.figure(figsize=(1.5*nrow, 1.5*ncol))\n",
        "    plt.imshow(np.transpose(np_imgs, (1,2,0)), interpolation='nearest')\n",
        "    plt.axis('off')\n",
        "    plt.show()\n",
        "    plt.close()\n",
        "\n",
        "show_imgs([train_set[i][0] for i in range(8)])"
      ]
    },
    {
      "cell_type": "code",
      "execution_count": 4,
      "metadata": {},
      "outputs": [],
      "source": [
        "class MLP(nn.Module):\n",
        "    def __init__(self, input_dim):\n",
        "        super(MLP, self).__init__()\n",
        "        self.layers = nn.Sequential(\n",
        "            nn.Linear(input_dim, input_dim // 2),\n",
        "            nn.BatchNorm1d(input_dim // 2),\n",
        "            nn.ReLU(),\n",
        "            nn.Linear(input_dim // 2, input_dim // 4 ),\n",
        "            nn.BatchNorm1d(input_dim // 4),\n",
        "            nn.ReLU(),\n",
        "            nn.Linear(input_dim // 4 , input_dim // 4 ),\n",
        "            nn.BatchNorm1d(input_dim // 4),\n",
        "            nn.ReLU(),\n",
        "            nn.Linear(input_dim // 4 , input_dim // 2 ),\n",
        "            nn.BatchNorm1d(input_dim // 2),\n",
        "            nn.ReLU(),\n",
        "            nn.Linear(input_dim // 2 , input_dim)\n",
        "        )\n",
        "        # self.layers = nn.Sequential(\n",
        "        #     nn.Linear(input_dim, input_dim * 2 ),\n",
        "        #     nn.BatchNorm1d(input_dim * 2),\n",
        "        #     nn.ReLU(),\n",
        "        #     nn.Linear(input_dim * 2 , input_dim * 2 ),\n",
        "        #     nn.BatchNorm1d(input_dim * 2 ),\n",
        "        #     nn.ReLU(),\n",
        "        #     nn.Linear(input_dim * 2  , input_dim * 2 ),\n",
        "        #     nn.BatchNorm1d(input_dim * 2 ),\n",
        "        #     nn.ReLU(),\n",
        "        #     nn.Linear(input_dim * 2  , input_dim * 2 ),\n",
        "        #     nn.BatchNorm1d(input_dim * 2 ),\n",
        "        #     nn.ReLU(),\n",
        "        #     nn.Linear(input_dim * 2  , input_dim)\n",
        "        # )\n",
        "\n",
        "\n",
        "    def forward(self, x):\n",
        "        self.to(x.device)\n",
        "        return self.layers(x)\n",
        "\n",
        "class NormalizingFlowLayer2(nn.Module):\n",
        "    def __init__(self, input_dim):\n",
        "        super().__init__()\n",
        "        self.input_dim = input_dim\n",
        "        self.mlp = MLP(input_dim // 2)\n",
        "        self.scale = nn.Parameter(torch.randn(input_dim, device=device) * 0.01).to(device)    \n",
        "        \n",
        "    def forward(self, x, alternate, inverse = False):\n",
        "        if not inverse:\n",
        "            x1, x2 = torch.chunk(x, 2, dim=1)\n",
        "            if alternate:\n",
        "                x2 = x2 + self.mlp(x1)\n",
        "            else:\n",
        "                x1 = x1 + self.mlp(x2)\n",
        "            x = torch.cat([x1, x2], dim=1)\n",
        "            x = x * torch.exp(self.scale)\n",
        "            logdet = torch.sum(self.scale, dim=-1)\n",
        "        else:\n",
        "            x = x * torch.exp(-self.scale.to(device))\n",
        "            x1, x2 = torch.chunk(x, 2, dim=1)\n",
        "            if alternate:\n",
        "                x2 = x2 - self.mlp(x1)\n",
        "            else:\n",
        "                x1 = x1 - self.mlp(x2)\n",
        "            x = torch.cat([x1, x2], dim=1)\n",
        "            logdet = -torch.sum(self.scale, dim=-1)\n",
        "        return x, logdet\n",
        "    \n",
        "        \n",
        "class NormalizingFlowModel2(pl.LightningModule):\n",
        "    def __init__(self,input_dim, num_flows):\n",
        "        super().__init__()\n",
        "        self.input_dim = input_dim\n",
        "        self.num_flows = num_flows\n",
        "        self.transforms = nn.ModuleList([NormalizingFlowLayer2(input_dim) for _ in range(num_flows)])\n",
        "\n",
        "    def forward(self, x):\n",
        "        logdet = torch.zeros(x.shape[0], device=x.device)\n",
        "        alternate = False\n",
        "        for transform in self.transforms:\n",
        "            x, ld = transform(x, alternate)\n",
        "            logdet += ld\n",
        "            alternate = not alternate\n",
        "        return x, logdet\n",
        "    \n",
        "    def inverse(self, x):\n",
        "        logdet = torch.zeros(x.shape[0], device=x.device)\n",
        "        alternate = True\n",
        "        for transform in reversed(self.transforms):\n",
        "            x, ld = transform(x, alternate, inverse=True)\n",
        "            logdet += ld\n",
        "            alternate = not alternate\n",
        "        return x, logdet\n",
        "    \n",
        "    def calc_likelihood(self, x):\n",
        "        z, logdet = self.forward(x)\n",
        "        logPz = -0.5 * torch.sum(z**2, dim=1) - 0.5 * self.input_dim * math.log(2 * math.pi)\n",
        "\n",
        "        # log_det = torch.mean(log_det)\n",
        "        # log2pi = torch.log(torch.tensor(2*np.pi))\n",
        "        # norm_factor = - 0.5  * 28*28 * log2pi\n",
        "        # logPz = torch.mean(-0.5 * torch.pow(z,2).sum(1)) + norm_factor # (-1/2) ||z-mu||^2\n",
        "        return logPz + logdet\n",
        "    \n",
        "    @torch.no_grad()\n",
        "    def sample(self, num_samples):\n",
        "        z = torch.randn(num_samples, self.input_dim, device=device)\n",
        "        x,_ = self.inverse(z)\n",
        "        return x\n",
        "\n",
        "    def configure_optimizers(self):\n",
        "        optimizer = optim.Adam(self.parameters(), lr=1e-3, weight_decay=1e-5)\n",
        "        scheduler = optim.lr_scheduler.StepLR(optimizer, 1, gamma=0.99)\n",
        "        return [optimizer], [scheduler]\n",
        "\n",
        "    def training_step(self, batch, batch_idx):\n",
        "        x, _ = batch\n",
        "        log_likelihood = self.calc_likelihood(x).mean()\n",
        "        loss = -log_likelihood\n",
        "        self.log('train_log_likelihood', log_likelihood)\n",
        "        return loss\n",
        "    \n",
        "    def validation_step(self, batch, batch_idx):\n",
        "        x, _ = batch\n",
        "        log_likelihood = self.calc_likelihood(x).mean()\n",
        "        loss = -log_likelihood\n",
        "        self.log('val_log_likelihood', log_likelihood)\n",
        "        return loss\n",
        "\n",
        "    def test_step(self, batch, batch_idx):\n",
        "        x, _ = batch\n",
        "        log_likelihood = self.calc_likelihood(x).mean()\n",
        "        loss = -log_likelihood\n",
        "        self.log('test_log_likelihood', log_likelihood)\n",
        "        return loss\n"
      ]
    },
    {
      "cell_type": "code",
      "execution_count": 5,
      "metadata": {
        "id": "3n_VPsTYbghP"
      },
      "outputs": [],
      "source": [
        "# class MLP(nn.Module):\n",
        "#     def __init__(self, input_dim):\n",
        "#         super(MLP, self).__init__()\n",
        "#         self.layers = nn.Sequential(\n",
        "#             nn.Linear(input_dim, input_dim * 4),\n",
        "#             nn.LeakyReLU(),\n",
        "#             nn.Linear(input_dim * 4, input_dim * 4),\n",
        "#             nn.LeakyReLU(),\n",
        "#             nn.Linear(input_dim * 4, input_dim * 4),\n",
        "#             nn.LeakyReLU(),\n",
        "#             nn.Linear(input_dim * 4, input_dim * 4),\n",
        "#             nn.LeakyReLU(),\n",
        "#             nn.Linear(input_dim * 4 , input_dim)\n",
        "#         )\n",
        "\n",
        "#     def forward(self, x):\n",
        "#         self.to(x.device)\n",
        "#         return self.layers(x)\n",
        "\n",
        "# class NormalizingFlowLayer(nn.Module):\n",
        "#     def __init__(self, input_dim):\n",
        "#         super(NormalizingFlowLayer, self).__init__()\n",
        "#         self.input_dim = input_dim\n",
        "#         self.scale = nn.Parameter(torch.zeros(input_dim))\n",
        "#         self.mlp = MLP(input_dim)\n",
        "    \n",
        "#     def forward(self, x1, x2):\n",
        "#         s = self.mlp(x1)\n",
        "#         s = torch.tanh(s/self.scale.exp()) * self.scale.exp()\n",
        "#         z1 = x1 * torch.exp(s)\n",
        "#         z = torch.cat([z1, x2], dim=1)\n",
        "#         log_det_jacobian = s.sum(dim=1)\n",
        "#         return z, log_det_jacobian\n",
        "    \n",
        "#     def inverse(self, z1, z2):\n",
        "#         self.to(z1.device)\n",
        "#         s = self.mlp(z1)\n",
        "#         s = torch.tanh(s/self.scale.exp()) * self.scale.exp()\n",
        "#         x1 = z1 * torch.exp(-s)\n",
        "#         x = torch.cat([x1, z2], dim=1)\n",
        "#         return x\n",
        "\n",
        "\n",
        "# class NormalizingFlowModel(pl.LightningModule):\n",
        "     \n",
        "#     def __init__(self, input_dim, num_flows):\n",
        "#         super().__init__()\n",
        "#         self.save_hyperparameters()\n",
        "#         self.input_dim = input_dim\n",
        "#         self.flows = nn.ModuleList([NormalizingFlowLayer(input_dim // 2) for _ in range(num_flows)])\n",
        "#         self.prior = torch.distributions.multivariate_normal.MultivariateNormal(torch.zeros(input_dim,device=device), torch.eye(input_dim, device=device))\n",
        "\n",
        "    \n",
        "#     def forward(self, x):\n",
        "#         log_det_jacobian = torch.zeros(x.size(0), device=x.device)\n",
        "#         alternate = False\n",
        "#         for flow in self.flows:\n",
        "#             x1, x2 = x.chunk(2, dim=1)\n",
        "#             if alternate:\n",
        "#                 x1, x2 = x2, x1\n",
        "#             x, ldj = flow(x1, x2)\n",
        "#             log_det_jacobian += ldj\n",
        "#             alternate = not alternate\n",
        "#         return x, log_det_jacobian\n",
        "    \n",
        "#     def inverse(self, z):\n",
        "#         alternate = False\n",
        "#         for flow in reversed(self.flows):\n",
        "#             z1, z2 = z.chunk(2, dim=1)\n",
        "#             if alternate:\n",
        "#                 z1, z2 = z2, z1\n",
        "#             z = flow.inverse(z1, z2)\n",
        "#             alternate = not alternate\n",
        "#         return z\n",
        "    \n",
        "#     def calc_likelihood(self, x):\n",
        "#         z, log_det_jacobian = self.forward(x)\n",
        "#         log_pz = self.prior.log_prob(z)\n",
        "#         #prior_ll = -0.5 * torch.sum(z**2 + np.log(2 * np.pi), dim=-1)\n",
        "#         return log_pz + log_det_jacobian\n",
        "\n",
        "#     @torch.no_grad()\n",
        "#     def sample(self, num_samples):\n",
        "#         z = self.prior.sample((num_samples,)).to(device)\n",
        "#         x = self.inverse(z)\n",
        "#         return x\n",
        "\n",
        "#     def configure_optimizers(self):\n",
        "#         optimizer = optim.Adam(self.parameters(), lr=1e-3)\n",
        "#         scheduler = optim.lr_scheduler.StepLR(optimizer, 1, gamma=0.99)\n",
        "#         return [optimizer], [scheduler]\n",
        "\n",
        "#     def training_step(self, batch, batch_idx):\n",
        "#         x, _ = batch\n",
        "#         log_likelihood = self.calc_likelihood(x).mean()\n",
        "#         loss = -log_likelihood\n",
        "#         self.log('train_log_likelihood', log_likelihood)\n",
        "#         return loss\n",
        "    \n",
        "#     def validation_step(self, batch, batch_idx):\n",
        "#         x, _ = batch\n",
        "#         log_likelihood = self.calc_likelihood(x).mean()\n",
        "#         loss = -log_likelihood\n",
        "#         self.log('val_log_likelihood', log_likelihood)\n",
        "#         return loss\n",
        "\n",
        "#     def test_step(self, batch, batch_idx):\n",
        "#         x, _ = batch\n",
        "#         log_likelihood = self.calc_likelihood(x).mean()\n",
        "#         loss = -log_likelihood\n",
        "#         self.log('test_log_likelihood', log_likelihood)\n",
        "#         return loss\n",
        "\n"
      ]
    },
    {
      "cell_type": "code",
      "execution_count": 6,
      "metadata": {
        "id": "g1zeMtu3bghQ"
      },
      "outputs": [],
      "source": [
        "def train_model(use_pretrained = False, pretrained_path = \"\", **kwargs):\n",
        "    logger = TensorBoardLogger(\"tb_logs\", name=\"Flows-ex6\")\n",
        "    # Create a PyTorch Lightning trainer with the generation callback\n",
        "    trainer = pl.Trainer(default_root_dir=os.path.join(CHECKPOINT_PATH, \"Flows-ex6\"),\n",
        "                         accelerator=\"gpu\" if str(device).startswith(\"cuda\") else \"cpu\",\n",
        "                         devices=1,\n",
        "                         logger = logger,\n",
        "                         max_epochs=150,\n",
        "                         callbacks=[ModelCheckpoint(save_weights_only=True, mode=\"max\", monitor=\"val_log_likelihood\"),\n",
        "                                    LearningRateMonitor(\"epoch\")])\n",
        "    result = None\n",
        "\n",
        "    # Check whether pretrained model exists. If yes, load it and skip training\n",
        "    if os.path.isfile(pretrained_path) and use_pretrained:\n",
        "        print(\"Found pretrained model, loading...\")\n",
        "        model = NormalizingFlowModel2.load_from_checkpoint(pretrained_path, **kwargs)\n",
        "        ckpt = torch.load(pretrained_path, map_location=device)\n",
        "        result = ckpt.get(\"result\", None)\n",
        "    else:\n",
        "        model = NormalizingFlowModel2(**kwargs)\n",
        "        trainer.fit(model, train_loader, val_loader)\n",
        "    model = model.to(device)\n",
        "\n",
        "    if result is None:\n",
        "        # Test best model on validation and test set\n",
        "        val_result = trainer.test(model, val_loader, verbose=False)\n",
        "        test_result = trainer.test(model, test_loader, verbose=False)\n",
        "        result = {\"test\": test_result, \"val\": val_result}\n",
        "    return model, result"
      ]
    },
    {
      "cell_type": "code",
      "execution_count": 7,
      "metadata": {
        "id": "Ogctk_HbbghQ"
      },
      "outputs": [],
      "source": [
        "#All graphs taken from tensorboard\n",
        "\n",
        "# %load_ext tensorboard\n",
        "# %tensorboard --logdir tb_logs"
      ]
    },
    {
      "cell_type": "code",
      "execution_count": 8,
      "metadata": {
        "colab": {
          "base_uri": "https://localhost:8080/",
          "height": 222,
          "referenced_widgets": [
            "955a0c6dbfbe4a7089f0ffd6c22cc72f",
            "e646fb573b2047d9a54ffa7e420561e8",
            "411b1f11155f437fb31a52d8bd954d53",
            "0791d07a942e474daa97b181846b55a1",
            "827c6a13c52149259e3728e4d4e644b2",
            "e74e08c9fb654724acc8373e356edf01",
            "446e703b0c4140b091570386f4dd874a",
            "5835871934b444e1bd84bc30e276cb0b",
            "c02ae0c813964142bb9f66c2a361c9ac",
            "46c93a5cf1c8421aa0fc1e217c2e229d",
            "645df64423fc4de3b22532404d4b6d44",
            "66321ec3082c4f2e82004f36841027a6",
            "43b4ba6b4bf64af485b9e1252a8b6287",
            "b1cfd5928a144458adc0ce7415ef6010",
            "0e31f520164a4bf7babb984d23f6d70b",
            "ee0044f500d742a7bac85586d44b9929",
            "2e6e6d0f2d5a4b1c87abd1920b1bdc4b",
            "29184af70bd542a68c9f07d6c540aa09",
            "01664b9aedb8488a9f4031aa3492e4c0",
            "a97f2d91d86d4a0aa13f14ab2115ae21",
            "b1f903d69e6849f693a475df3316979f",
            "2a6bd5516ebb40c1956559052323d50d"
          ]
        },
        "id": "Za6-69NWbghR",
        "outputId": "7cfd08dd-38d4-4ab0-abef-ef56170cc0b2"
      },
      "outputs": [
        {
          "name": "stderr",
          "output_type": "stream",
          "text": [
            "GPU available: True (cuda), used: True\n",
            "TPU available: False, using: 0 TPU cores\n",
            "IPU available: False, using: 0 IPUs\n",
            "HPU available: False, using: 0 HPUs\n",
            "You are using a CUDA device ('NVIDIA GeForce RTX 4080') that has Tensor Cores. To properly utilize them, you should set `torch.set_float32_matmul_precision('medium' | 'high')` which will trade-off precision for performance. For more details, read https://pytorch.org/docs/stable/generated/torch.set_float32_matmul_precision.html#torch.set_float32_matmul_precision\n",
            "LOCAL_RANK: 0 - CUDA_VISIBLE_DEVICES: [0]\n",
            "\n",
            "  | Name       | Type       | Params\n",
            "------------------------------------------\n",
            "0 | transforms | ModuleList | 818 K \n",
            "------------------------------------------\n",
            "818 K     Trainable params\n",
            "0         Non-trainable params\n",
            "818 K     Total params\n",
            "3.274     Total estimated model params size (MB)\n"
          ]
        },
        {
          "data": {
            "application/vnd.jupyter.widget-view+json": {
              "model_id": "3ae6785c3c664c78b6296c5dfd6e4214",
              "version_major": 2,
              "version_minor": 0
            },
            "text/plain": [
              "Sanity Checking: 0it [00:00, ?it/s]"
            ]
          },
          "metadata": {},
          "output_type": "display_data"
        },
        {
          "name": "stderr",
          "output_type": "stream",
          "text": [
            "c:\\Users\\Danny\\AppData\\Local\\Programs\\Python\\Python311\\Lib\\site-packages\\pytorch_lightning\\trainer\\connectors\\data_connector.py:442: PossibleUserWarning: The dataloader, val_dataloader, does not have many workers which may be a bottleneck. Consider increasing the value of the `num_workers` argument` (try 20 which is the number of cpus on this machine) in the `DataLoader` init to improve performance.\n",
            "  rank_zero_warn(\n",
            "c:\\Users\\Danny\\AppData\\Local\\Programs\\Python\\Python311\\Lib\\site-packages\\pytorch_lightning\\trainer\\connectors\\data_connector.py:442: PossibleUserWarning: The dataloader, train_dataloader, does not have many workers which may be a bottleneck. Consider increasing the value of the `num_workers` argument` (try 20 which is the number of cpus on this machine) in the `DataLoader` init to improve performance.\n",
            "  rank_zero_warn(\n"
          ]
        },
        {
          "data": {
            "application/vnd.jupyter.widget-view+json": {
              "model_id": "9a270eed6d91486880e622df0eb272dc",
              "version_major": 2,
              "version_minor": 0
            },
            "text/plain": [
              "Training: 0it [00:00, ?it/s]"
            ]
          },
          "metadata": {},
          "output_type": "display_data"
        },
        {
          "data": {
            "application/vnd.jupyter.widget-view+json": {
              "model_id": "5b3f8bf7a21e431d8f3f4e7c7b69d5a5",
              "version_major": 2,
              "version_minor": 0
            },
            "text/plain": [
              "Validation: 0it [00:00, ?it/s]"
            ]
          },
          "metadata": {},
          "output_type": "display_data"
        },
        {
          "data": {
            "application/vnd.jupyter.widget-view+json": {
              "model_id": "05f9682e65984c04907038f062bafe2c",
              "version_major": 2,
              "version_minor": 0
            },
            "text/plain": [
              "Validation: 0it [00:00, ?it/s]"
            ]
          },
          "metadata": {},
          "output_type": "display_data"
        },
        {
          "data": {
            "application/vnd.jupyter.widget-view+json": {
              "model_id": "34eca2099afb40e099b2e3dd459d682b",
              "version_major": 2,
              "version_minor": 0
            },
            "text/plain": [
              "Validation: 0it [00:00, ?it/s]"
            ]
          },
          "metadata": {},
          "output_type": "display_data"
        },
        {
          "data": {
            "application/vnd.jupyter.widget-view+json": {
              "model_id": "6da1d7874af04527928533be38c3e505",
              "version_major": 2,
              "version_minor": 0
            },
            "text/plain": [
              "Validation: 0it [00:00, ?it/s]"
            ]
          },
          "metadata": {},
          "output_type": "display_data"
        },
        {
          "data": {
            "application/vnd.jupyter.widget-view+json": {
              "model_id": "0875856bc2414b4384ba268da63dd2b7",
              "version_major": 2,
              "version_minor": 0
            },
            "text/plain": [
              "Validation: 0it [00:00, ?it/s]"
            ]
          },
          "metadata": {},
          "output_type": "display_data"
        },
        {
          "data": {
            "application/vnd.jupyter.widget-view+json": {
              "model_id": "c7a09a40ee4e4deca3e5bc55136c6851",
              "version_major": 2,
              "version_minor": 0
            },
            "text/plain": [
              "Validation: 0it [00:00, ?it/s]"
            ]
          },
          "metadata": {},
          "output_type": "display_data"
        },
        {
          "data": {
            "application/vnd.jupyter.widget-view+json": {
              "model_id": "fdff295f591249a78be67b53a05d935c",
              "version_major": 2,
              "version_minor": 0
            },
            "text/plain": [
              "Validation: 0it [00:00, ?it/s]"
            ]
          },
          "metadata": {},
          "output_type": "display_data"
        },
        {
          "data": {
            "application/vnd.jupyter.widget-view+json": {
              "model_id": "7aa57dcf5b4f4476af8577e89b7b77eb",
              "version_major": 2,
              "version_minor": 0
            },
            "text/plain": [
              "Validation: 0it [00:00, ?it/s]"
            ]
          },
          "metadata": {},
          "output_type": "display_data"
        },
        {
          "data": {
            "application/vnd.jupyter.widget-view+json": {
              "model_id": "7b2f8ab168d846b3a6c0a55adb277e5f",
              "version_major": 2,
              "version_minor": 0
            },
            "text/plain": [
              "Validation: 0it [00:00, ?it/s]"
            ]
          },
          "metadata": {},
          "output_type": "display_data"
        },
        {
          "data": {
            "application/vnd.jupyter.widget-view+json": {
              "model_id": "732068068a9b445bbacbaa35f0aa317f",
              "version_major": 2,
              "version_minor": 0
            },
            "text/plain": [
              "Validation: 0it [00:00, ?it/s]"
            ]
          },
          "metadata": {},
          "output_type": "display_data"
        },
        {
          "data": {
            "application/vnd.jupyter.widget-view+json": {
              "model_id": "5ba99f58e6234cce9086c7a02b91a8db",
              "version_major": 2,
              "version_minor": 0
            },
            "text/plain": [
              "Validation: 0it [00:00, ?it/s]"
            ]
          },
          "metadata": {},
          "output_type": "display_data"
        },
        {
          "data": {
            "application/vnd.jupyter.widget-view+json": {
              "model_id": "8b70fde7fb8e49829f7f598e8d5ae1b9",
              "version_major": 2,
              "version_minor": 0
            },
            "text/plain": [
              "Validation: 0it [00:00, ?it/s]"
            ]
          },
          "metadata": {},
          "output_type": "display_data"
        },
        {
          "data": {
            "application/vnd.jupyter.widget-view+json": {
              "model_id": "df938714ad4f483c865aba2fb6de337e",
              "version_major": 2,
              "version_minor": 0
            },
            "text/plain": [
              "Validation: 0it [00:00, ?it/s]"
            ]
          },
          "metadata": {},
          "output_type": "display_data"
        },
        {
          "data": {
            "application/vnd.jupyter.widget-view+json": {
              "model_id": "c46c60c015dc49d3b24fad066980f3d8",
              "version_major": 2,
              "version_minor": 0
            },
            "text/plain": [
              "Validation: 0it [00:00, ?it/s]"
            ]
          },
          "metadata": {},
          "output_type": "display_data"
        },
        {
          "data": {
            "application/vnd.jupyter.widget-view+json": {
              "model_id": "9ef762aa15184019b82f078dfa4ded44",
              "version_major": 2,
              "version_minor": 0
            },
            "text/plain": [
              "Validation: 0it [00:00, ?it/s]"
            ]
          },
          "metadata": {},
          "output_type": "display_data"
        },
        {
          "data": {
            "application/vnd.jupyter.widget-view+json": {
              "model_id": "b7a931454d154c51a6222f9768d983d9",
              "version_major": 2,
              "version_minor": 0
            },
            "text/plain": [
              "Validation: 0it [00:00, ?it/s]"
            ]
          },
          "metadata": {},
          "output_type": "display_data"
        },
        {
          "data": {
            "application/vnd.jupyter.widget-view+json": {
              "model_id": "9c9ee3f62ebe41ad813ea19a9d55636c",
              "version_major": 2,
              "version_minor": 0
            },
            "text/plain": [
              "Validation: 0it [00:00, ?it/s]"
            ]
          },
          "metadata": {},
          "output_type": "display_data"
        },
        {
          "data": {
            "application/vnd.jupyter.widget-view+json": {
              "model_id": "d99f86dfc38a4fe39389e2233b63353a",
              "version_major": 2,
              "version_minor": 0
            },
            "text/plain": [
              "Validation: 0it [00:00, ?it/s]"
            ]
          },
          "metadata": {},
          "output_type": "display_data"
        },
        {
          "data": {
            "application/vnd.jupyter.widget-view+json": {
              "model_id": "312290d3642a4eb5ab7e8df492fe12d2",
              "version_major": 2,
              "version_minor": 0
            },
            "text/plain": [
              "Validation: 0it [00:00, ?it/s]"
            ]
          },
          "metadata": {},
          "output_type": "display_data"
        },
        {
          "data": {
            "application/vnd.jupyter.widget-view+json": {
              "model_id": "924040943a91441788e4227238927c5e",
              "version_major": 2,
              "version_minor": 0
            },
            "text/plain": [
              "Validation: 0it [00:00, ?it/s]"
            ]
          },
          "metadata": {},
          "output_type": "display_data"
        },
        {
          "data": {
            "application/vnd.jupyter.widget-view+json": {
              "model_id": "80bc2c4d03774da5bf14fc557cce8a78",
              "version_major": 2,
              "version_minor": 0
            },
            "text/plain": [
              "Validation: 0it [00:00, ?it/s]"
            ]
          },
          "metadata": {},
          "output_type": "display_data"
        },
        {
          "data": {
            "application/vnd.jupyter.widget-view+json": {
              "model_id": "cb192f41e68140c5996a266fe2af3fd6",
              "version_major": 2,
              "version_minor": 0
            },
            "text/plain": [
              "Validation: 0it [00:00, ?it/s]"
            ]
          },
          "metadata": {},
          "output_type": "display_data"
        },
        {
          "data": {
            "application/vnd.jupyter.widget-view+json": {
              "model_id": "5076cb6341334cdba6d0fdf695119156",
              "version_major": 2,
              "version_minor": 0
            },
            "text/plain": [
              "Validation: 0it [00:00, ?it/s]"
            ]
          },
          "metadata": {},
          "output_type": "display_data"
        },
        {
          "data": {
            "application/vnd.jupyter.widget-view+json": {
              "model_id": "b4322049d3e84a1fb11b929b17afa347",
              "version_major": 2,
              "version_minor": 0
            },
            "text/plain": [
              "Validation: 0it [00:00, ?it/s]"
            ]
          },
          "metadata": {},
          "output_type": "display_data"
        },
        {
          "data": {
            "application/vnd.jupyter.widget-view+json": {
              "model_id": "b17517c9d3f24645ad40ef9cf1551937",
              "version_major": 2,
              "version_minor": 0
            },
            "text/plain": [
              "Validation: 0it [00:00, ?it/s]"
            ]
          },
          "metadata": {},
          "output_type": "display_data"
        },
        {
          "data": {
            "application/vnd.jupyter.widget-view+json": {
              "model_id": "1722f90b5ab74b2dbca2e2453558d273",
              "version_major": 2,
              "version_minor": 0
            },
            "text/plain": [
              "Validation: 0it [00:00, ?it/s]"
            ]
          },
          "metadata": {},
          "output_type": "display_data"
        },
        {
          "data": {
            "application/vnd.jupyter.widget-view+json": {
              "model_id": "3ec471cb3bd04dcf8944e76e2bd492ee",
              "version_major": 2,
              "version_minor": 0
            },
            "text/plain": [
              "Validation: 0it [00:00, ?it/s]"
            ]
          },
          "metadata": {},
          "output_type": "display_data"
        },
        {
          "data": {
            "application/vnd.jupyter.widget-view+json": {
              "model_id": "dae2a201b13b47d09a3601d05d4c16c6",
              "version_major": 2,
              "version_minor": 0
            },
            "text/plain": [
              "Validation: 0it [00:00, ?it/s]"
            ]
          },
          "metadata": {},
          "output_type": "display_data"
        },
        {
          "name": "stderr",
          "output_type": "stream",
          "text": [
            "c:\\Users\\Danny\\AppData\\Local\\Programs\\Python\\Python311\\Lib\\site-packages\\pytorch_lightning\\trainer\\call.py:53: UserWarning: Detected KeyboardInterrupt, attempting graceful shutdown...\n",
            "  rank_zero_warn(\"Detected KeyboardInterrupt, attempting graceful shutdown...\")\n",
            "LOCAL_RANK: 0 - CUDA_VISIBLE_DEVICES: [0]\n",
            "c:\\Users\\Danny\\AppData\\Local\\Programs\\Python\\Python311\\Lib\\site-packages\\pytorch_lightning\\trainer\\connectors\\data_connector.py:442: PossibleUserWarning: The dataloader, test_dataloader, does not have many workers which may be a bottleneck. Consider increasing the value of the `num_workers` argument` (try 20 which is the number of cpus on this machine) in the `DataLoader` init to improve performance.\n",
            "  rank_zero_warn(\n"
          ]
        },
        {
          "data": {
            "application/vnd.jupyter.widget-view+json": {
              "model_id": "63be0a0f1ef74f89834b3e6af073a12b",
              "version_major": 2,
              "version_minor": 0
            },
            "text/plain": [
              "Testing: 0it [00:00, ?it/s]"
            ]
          },
          "metadata": {},
          "output_type": "display_data"
        },
        {
          "name": "stderr",
          "output_type": "stream",
          "text": [
            "LOCAL_RANK: 0 - CUDA_VISIBLE_DEVICES: [0]\n"
          ]
        },
        {
          "data": {
            "application/vnd.jupyter.widget-view+json": {
              "model_id": "af6011c093ac4825b116fb7b4f4111a9",
              "version_major": 2,
              "version_minor": 0
            },
            "text/plain": [
              "Testing: 0it [00:00, ?it/s]"
            ]
          },
          "metadata": {},
          "output_type": "display_data"
        },
        {
          "name": "stdout",
          "output_type": "stream",
          "text": [
            "test_log_likelihood: 1491.333\n"
          ]
        }
      ],
      "source": [
        "# QUESTION 1 TRAIN\n",
        "pretrained_path = \"tb_logs//Flows-ex6//q1//checkpoints//epoch=0-step=390.ckpt\"\n",
        "model, result = train_model(input_dim = 28*28, num_flows = 4, use_pretrained=False, pretrained_path=pretrained_path)\n",
        "test_res = result[\"test\"][0]\n",
        "print(\"test_log_likelihood: %4.3f\" % (test_res[\"test_loss\"] if \"test_loss\" in test_res else test_res[\"test_log_likelihood\"]))"
      ]
    },
    {
      "cell_type": "markdown",
      "metadata": {
        "id": "-AEQRjFMnsOZ"
      },
      "source": [
        "## Results\n",
        "<!-- <img src=\"https://raw.githubusercontent.com/daiyral/ex5/main/plots/q1/train_elbo.png\" alt=\"Training Loss (Non-Causal)\" width=\"1000\"/> -->"
      ]
    },
    {
      "cell_type": "code",
      "execution_count": 10,
      "metadata": {
        "colab": {
          "base_uri": "https://localhost:8080/",
          "height": 519
        },
        "id": "Y-W60K7vbghR",
        "outputId": "25b032f5-c0da-42e9-84a3-db9a8faa786d"
      },
      "outputs": [
        {
          "name": "stderr",
          "output_type": "stream",
          "text": [
            "Global seed set to 2\n",
            "Clipping input data to the valid range for imshow with RGB data ([0..1] for floats or [0..255] for integers).\n"
          ]
        },
        {
          "data": {
            "application/pdf": "[encoded data removed]",
            "image/svg+xml": [
              "<?xml version=\"1.0\" encoding=\"utf-8\" standalone=\"no\"?>\n",
              "<!DOCTYPE svg PUBLIC \"-//W3C//DTD SVG 1.1//EN\"\n",
              "  \"http://www.w3.org/Graphics/SVG/1.1/DTD/svg11.dtd\">\n",
              "<svg xmlns:xlink=\"http://www.w3.org/1999/xlink\" width=\"347.04pt\" height=\"347.04pt\" viewBox=\"0 0 347.04 347.04\" xmlns=\"http://www.w3.org/2000/svg\" version=\"1.1\">\n",
              " <metadata>\n",
              "  <rdf:RDF xmlns:dc=\"http://purl.org/dc/elements/1.1/\" xmlns:cc=\"http://creativecommons.org/ns#\" xmlns:rdf=\"http://www.w3.org/1999/02/22-rdf-syntax-ns#\">\n",
              "   <cc:Work>\n",
              "    <dc:type rdf:resource=\"http://purl.org/dc/dcmitype/StillImage\"/>\n",
              "    <dc:date>2024-07-13T10:01:08.055322</dc:date>\n",
              "    <dc:format>image/svg+xml</dc:format>\n",
              "    <dc:creator>\n",
              "     <cc:Agent>\n",
              "      <dc:title>Matplotlib v3.8.4, https://matplotlib.org/</dc:title>\n",
              "     </cc:Agent>\n",
              "    </dc:creator>\n",
              "   </cc:Work>\n",
              "  </rdf:RDF>\n",
              " </metadata>\n",
              " <defs>\n",
              "  <style type=\"text/css\">*{stroke-linejoin: round; stroke-linecap: butt}</style>\n",
              " </defs>\n",
              " <g id=\"figure_1\">\n",
              "  <g id=\"patch_1\">\n",
              "   <path d=\"M 0 347.04 \n",
              "L 347.04 347.04 \n",
              "L 347.04 -0 \n",
              "L 0 -0 \n",
              "z\n",
              "\" style=\"fill: #ffffff\"/>\n",
              "  </g>\n",
              "  <g id=\"axes_1\">\n",
              "   <g clip-path=\"url(#p82ebfb518a)\">\n",
              "    <image xlink:href=\"data:image/png;base64,\n",
              "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\" id=\"image8c61ce3519\" transform=\"scale(1 -1) translate(0 -333.36)\" x=\"7.2\" y=\"-6.48\" width=\"332.64\" height=\"333.36\"/>\n",
              "   </g>\n",
              "  </g>\n",
              " </g>\n",
              " <defs>\n",
              "  <clipPath id=\"p82ebfb518a\">\n",
              "   <rect x=\"7.2\" y=\"7.2\" width=\"332.64\" height=\"332.64\"/>\n",
              "  </clipPath>\n",
              " </defs>\n",
              "</svg>\n"
            ],
            "text/plain": [
              "<Figure size 600x600 with 1 Axes>"
            ]
          },
          "metadata": {},
          "output_type": "display_data"
        }
      ],
      "source": [
        "pl.seed_everything(2)\n",
        "samples = model.sample(num_samples=16)\n",
        "show_imgs(samples.cpu())"
      ]
    },
    {
      "cell_type": "code",
      "execution_count": null,
      "metadata": {
        "colab": {
          "base_uri": "https://localhost:8080/",
          "height": 1000
        },
        "id": "izH_hLrVnsOa",
        "outputId": "b76f8c99-f062-4444-c962-7eae9dc4665b"
      },
      "outputs": [],
      "source": [
        "def q2(i, j):\n",
        "    im1, im2 = train_set[i][0], train_set[j][0]\n",
        "    show_imgs([im1, im2])\n",
        "    (mu1, log_variance1), (mu2, log_variance2) = model.encoder(im1.unsqueeze(1)), model.encoder(im2.unsqueeze(1))\n",
        "    for i in range(0, 10):\n",
        "        mu, log_variance = mu1 * (1 - i/10) + mu2 * i/10, log_variance1 * (1 - i/10) + log_variance2 * i/10\n",
        "        z = model.latent_sample(mu.unsqueeze(0), log_variance.unsqueeze(0))\n",
        "        reconstructed = model.decoder(z)\n",
        "        show_imgs(reconstructed.cpu().detach())\n",
        "q2(1, 2)\n",
        "q2(2, 3)\n",
        "q2(5, 6)"
      ]
    }
  ],
  "metadata": {
    "accelerator": "GPU",
    "colab": {
      "gpuType": "T4",
      "provenance": []
    },
    "kernelspec": {
      "display_name": "Python 3",
      "name": "python3"
    },
    "language_info": {
      "codemirror_mode": {
        "name": "ipython",
        "version": 3
      },
      "file_extension": ".py",
      "mimetype": "text/x-python",
      "name": "python",
      "nbconvert_exporter": "python",
      "pygments_lexer": "ipython3",
      "version": "3.11.5"
    },
    "widgets": {
      "application/vnd.jupyter.widget-state+json": {
        "01664b9aedb8488a9f4031aa3492e4c0": {
          "model_module": "@jupyter-widgets/base",
          "model_module_version": "1.2.0",
          "model_name": "LayoutModel",
          "state": {
            "_model_module": "@jupyter-widgets/base",
            "_model_module_version": "1.2.0",
            "_model_name": "LayoutModel",
            "_view_count": null,
            "_view_module": "@jupyter-widgets/base",
            "_view_module_version": "1.2.0",
            "_view_name": "LayoutView",
            "align_content": null,
            "align_items": null,
            "align_self": null,
            "border": null,
            "bottom": null,
            "display": null,
            "flex": "2",
            "flex_flow": null,
            "grid_area": null,
            "grid_auto_columns": null,
            "grid_auto_flow": null,
            "grid_auto_rows": null,
            "grid_column": null,
            "grid_gap": null,
            "grid_row": null,
            "grid_template_areas": null,
            "grid_template_columns": null,
            "grid_template_rows": null,
            "height": null,
            "justify_content": null,
            "justify_items": null,
            "left": null,
            "margin": null,
            "max_height": null,
            "max_width": null,
            "min_height": null,
            "min_width": null,
            "object_fit": null,
            "object_position": null,
            "order": null,
            "overflow": null,
            "overflow_x": null,
            "overflow_y": null,
            "padding": null,
            "right": null,
            "top": null,
            "visibility": null,
            "width": null
          }
        },
        "0791d07a942e474daa97b181846b55a1": {
          "model_module": "@jupyter-widgets/controls",
          "model_module_version": "1.5.0",
          "model_name": "HTMLModel",
          "state": {
            "_dom_classes": [],
            "_model_module": "@jupyter-widgets/controls",
            "_model_module_version": "1.5.0",
            "_model_name": "HTMLModel",
            "_view_count": null,
            "_view_module": "@jupyter-widgets/controls",
            "_view_module_version": "1.5.0",
            "_view_name": "HTMLView",
            "description": "",
            "description_tooltip": null,
            "layout": "IPY_MODEL_46c93a5cf1c8421aa0fc1e217c2e229d",
            "placeholder": "​",
            "style": "IPY_MODEL_645df64423fc4de3b22532404d4b6d44",
            "value": " 79/79 [00:02&lt;00:00, 29.31it/s]"
          }
        },
        "0e31f520164a4bf7babb984d23f6d70b": {
          "model_module": "@jupyter-widgets/controls",
          "model_module_version": "1.5.0",
          "model_name": "HTMLModel",
          "state": {
            "_dom_classes": [],
            "_model_module": "@jupyter-widgets/controls",
            "_model_module_version": "1.5.0",
            "_model_name": "HTMLModel",
            "_view_count": null,
            "_view_module": "@jupyter-widgets/controls",
            "_view_module_version": "1.5.0",
            "_view_name": "HTMLView",
            "description": "",
            "description_tooltip": null,
            "layout": "IPY_MODEL_b1f903d69e6849f693a475df3316979f",
            "placeholder": "​",
            "style": "IPY_MODEL_2a6bd5516ebb40c1956559052323d50d",
            "value": " 79/79 [00:03&lt;00:00, 20.62it/s]"
          }
        },
        "29184af70bd542a68c9f07d6c540aa09": {
          "model_module": "@jupyter-widgets/controls",
          "model_module_version": "1.5.0",
          "model_name": "DescriptionStyleModel",
          "state": {
            "_model_module": "@jupyter-widgets/controls",
            "_model_module_version": "1.5.0",
            "_model_name": "DescriptionStyleModel",
            "_view_count": null,
            "_view_module": "@jupyter-widgets/base",
            "_view_module_version": "1.2.0",
            "_view_name": "StyleView",
            "description_width": ""
          }
        },
        "2a6bd5516ebb40c1956559052323d50d": {
          "model_module": "@jupyter-widgets/controls",
          "model_module_version": "1.5.0",
          "model_name": "DescriptionStyleModel",
          "state": {
            "_model_module": "@jupyter-widgets/controls",
            "_model_module_version": "1.5.0",
            "_model_name": "DescriptionStyleModel",
            "_view_count": null,
            "_view_module": "@jupyter-widgets/base",
            "_view_module_version": "1.2.0",
            "_view_name": "StyleView",
            "description_width": ""
          }
        },
        "2e6e6d0f2d5a4b1c87abd1920b1bdc4b": {
          "model_module": "@jupyter-widgets/base",
          "model_module_version": "1.2.0",
          "model_name": "LayoutModel",
          "state": {
            "_model_module": "@jupyter-widgets/base",
            "_model_module_version": "1.2.0",
            "_model_name": "LayoutModel",
            "_view_count": null,
            "_view_module": "@jupyter-widgets/base",
            "_view_module_version": "1.2.0",
            "_view_name": "LayoutView",
            "align_content": null,
            "align_items": null,
            "align_self": null,
            "border": null,
            "bottom": null,
            "display": null,
            "flex": null,
            "flex_flow": null,
            "grid_area": null,
            "grid_auto_columns": null,
            "grid_auto_flow": null,
            "grid_auto_rows": null,
            "grid_column": null,
            "grid_gap": null,
            "grid_row": null,
            "grid_template_areas": null,
            "grid_template_columns": null,
            "grid_template_rows": null,
            "height": null,
            "justify_content": null,
            "justify_items": null,
            "left": null,
            "margin": null,
            "max_height": null,
            "max_width": null,
            "min_height": null,
            "min_width": null,
            "object_fit": null,
            "object_position": null,
            "order": null,
            "overflow": null,
            "overflow_x": null,
            "overflow_y": null,
            "padding": null,
            "right": null,
            "top": null,
            "visibility": null,
            "width": null
          }
        },
        "411b1f11155f437fb31a52d8bd954d53": {
          "model_module": "@jupyter-widgets/controls",
          "model_module_version": "1.5.0",
          "model_name": "FloatProgressModel",
          "state": {
            "_dom_classes": [],
            "_model_module": "@jupyter-widgets/controls",
            "_model_module_version": "1.5.0",
            "_model_name": "FloatProgressModel",
            "_view_count": null,
            "_view_module": "@jupyter-widgets/controls",
            "_view_module_version": "1.5.0",
            "_view_name": "ProgressView",
            "bar_style": "success",
            "description": "",
            "description_tooltip": null,
            "layout": "IPY_MODEL_5835871934b444e1bd84bc30e276cb0b",
            "max": 79,
            "min": 0,
            "orientation": "horizontal",
            "style": "IPY_MODEL_c02ae0c813964142bb9f66c2a361c9ac",
            "value": 79
          }
        },
        "43b4ba6b4bf64af485b9e1252a8b6287": {
          "model_module": "@jupyter-widgets/controls",
          "model_module_version": "1.5.0",
          "model_name": "HTMLModel",
          "state": {
            "_dom_classes": [],
            "_model_module": "@jupyter-widgets/controls",
            "_model_module_version": "1.5.0",
            "_model_name": "HTMLModel",
            "_view_count": null,
            "_view_module": "@jupyter-widgets/controls",
            "_view_module_version": "1.5.0",
            "_view_name": "HTMLView",
            "description": "",
            "description_tooltip": null,
            "layout": "IPY_MODEL_2e6e6d0f2d5a4b1c87abd1920b1bdc4b",
            "placeholder": "​",
            "style": "IPY_MODEL_29184af70bd542a68c9f07d6c540aa09",
            "value": "Testing DataLoader 0: 100%"
          }
        },
        "446e703b0c4140b091570386f4dd874a": {
          "model_module": "@jupyter-widgets/controls",
          "model_module_version": "1.5.0",
          "model_name": "DescriptionStyleModel",
          "state": {
            "_model_module": "@jupyter-widgets/controls",
            "_model_module_version": "1.5.0",
            "_model_name": "DescriptionStyleModel",
            "_view_count": null,
            "_view_module": "@jupyter-widgets/base",
            "_view_module_version": "1.2.0",
            "_view_name": "StyleView",
            "description_width": ""
          }
        },
        "46c93a5cf1c8421aa0fc1e217c2e229d": {
          "model_module": "@jupyter-widgets/base",
          "model_module_version": "1.2.0",
          "model_name": "LayoutModel",
          "state": {
            "_model_module": "@jupyter-widgets/base",
            "_model_module_version": "1.2.0",
            "_model_name": "LayoutModel",
            "_view_count": null,
            "_view_module": "@jupyter-widgets/base",
            "_view_module_version": "1.2.0",
            "_view_name": "LayoutView",
            "align_content": null,
            "align_items": null,
            "align_self": null,
            "border": null,
            "bottom": null,
            "display": null,
            "flex": null,
            "flex_flow": null,
            "grid_area": null,
            "grid_auto_columns": null,
            "grid_auto_flow": null,
            "grid_auto_rows": null,
            "grid_column": null,
            "grid_gap": null,
            "grid_row": null,
            "grid_template_areas": null,
            "grid_template_columns": null,
            "grid_template_rows": null,
            "height": null,
            "justify_content": null,
            "justify_items": null,
            "left": null,
            "margin": null,
            "max_height": null,
            "max_width": null,
            "min_height": null,
            "min_width": null,
            "object_fit": null,
            "object_position": null,
            "order": null,
            "overflow": null,
            "overflow_x": null,
            "overflow_y": null,
            "padding": null,
            "right": null,
            "top": null,
            "visibility": null,
            "width": null
          }
        },
        "5835871934b444e1bd84bc30e276cb0b": {
          "model_module": "@jupyter-widgets/base",
          "model_module_version": "1.2.0",
          "model_name": "LayoutModel",
          "state": {
            "_model_module": "@jupyter-widgets/base",
            "_model_module_version": "1.2.0",
            "_model_name": "LayoutModel",
            "_view_count": null,
            "_view_module": "@jupyter-widgets/base",
            "_view_module_version": "1.2.0",
            "_view_name": "LayoutView",
            "align_content": null,
            "align_items": null,
            "align_self": null,
            "border": null,
            "bottom": null,
            "display": null,
            "flex": "2",
            "flex_flow": null,
            "grid_area": null,
            "grid_auto_columns": null,
            "grid_auto_flow": null,
            "grid_auto_rows": null,
            "grid_column": null,
            "grid_gap": null,
            "grid_row": null,
            "grid_template_areas": null,
            "grid_template_columns": null,
            "grid_template_rows": null,
            "height": null,
            "justify_content": null,
            "justify_items": null,
            "left": null,
            "margin": null,
            "max_height": null,
            "max_width": null,
            "min_height": null,
            "min_width": null,
            "object_fit": null,
            "object_position": null,
            "order": null,
            "overflow": null,
            "overflow_x": null,
            "overflow_y": null,
            "padding": null,
            "right": null,
            "top": null,
            "visibility": null,
            "width": null
          }
        },
        "645df64423fc4de3b22532404d4b6d44": {
          "model_module": "@jupyter-widgets/controls",
          "model_module_version": "1.5.0",
          "model_name": "DescriptionStyleModel",
          "state": {
            "_model_module": "@jupyter-widgets/controls",
            "_model_module_version": "1.5.0",
            "_model_name": "DescriptionStyleModel",
            "_view_count": null,
            "_view_module": "@jupyter-widgets/base",
            "_view_module_version": "1.2.0",
            "_view_name": "StyleView",
            "description_width": ""
          }
        },
        "66321ec3082c4f2e82004f36841027a6": {
          "model_module": "@jupyter-widgets/controls",
          "model_module_version": "1.5.0",
          "model_name": "HBoxModel",
          "state": {
            "_dom_classes": [],
            "_model_module": "@jupyter-widgets/controls",
            "_model_module_version": "1.5.0",
            "_model_name": "HBoxModel",
            "_view_count": null,
            "_view_module": "@jupyter-widgets/controls",
            "_view_module_version": "1.5.0",
            "_view_name": "HBoxView",
            "box_style": "",
            "children": [
              "IPY_MODEL_43b4ba6b4bf64af485b9e1252a8b6287",
              "IPY_MODEL_b1cfd5928a144458adc0ce7415ef6010",
              "IPY_MODEL_0e31f520164a4bf7babb984d23f6d70b"
            ],
            "layout": "IPY_MODEL_ee0044f500d742a7bac85586d44b9929"
          }
        },
        "827c6a13c52149259e3728e4d4e644b2": {
          "model_module": "@jupyter-widgets/base",
          "model_module_version": "1.2.0",
          "model_name": "LayoutModel",
          "state": {
            "_model_module": "@jupyter-widgets/base",
            "_model_module_version": "1.2.0",
            "_model_name": "LayoutModel",
            "_view_count": null,
            "_view_module": "@jupyter-widgets/base",
            "_view_module_version": "1.2.0",
            "_view_name": "LayoutView",
            "align_content": null,
            "align_items": null,
            "align_self": null,
            "border": null,
            "bottom": null,
            "display": "inline-flex",
            "flex": null,
            "flex_flow": "row wrap",
            "grid_area": null,
            "grid_auto_columns": null,
            "grid_auto_flow": null,
            "grid_auto_rows": null,
            "grid_column": null,
            "grid_gap": null,
            "grid_row": null,
            "grid_template_areas": null,
            "grid_template_columns": null,
            "grid_template_rows": null,
            "height": null,
            "justify_content": null,
            "justify_items": null,
            "left": null,
            "margin": null,
            "max_height": null,
            "max_width": null,
            "min_height": null,
            "min_width": null,
            "object_fit": null,
            "object_position": null,
            "order": null,
            "overflow": null,
            "overflow_x": null,
            "overflow_y": null,
            "padding": null,
            "right": null,
            "top": null,
            "visibility": null,
            "width": "100%"
          }
        },
        "955a0c6dbfbe4a7089f0ffd6c22cc72f": {
          "model_module": "@jupyter-widgets/controls",
          "model_module_version": "1.5.0",
          "model_name": "HBoxModel",
          "state": {
            "_dom_classes": [],
            "_model_module": "@jupyter-widgets/controls",
            "_model_module_version": "1.5.0",
            "_model_name": "HBoxModel",
            "_view_count": null,
            "_view_module": "@jupyter-widgets/controls",
            "_view_module_version": "1.5.0",
            "_view_name": "HBoxView",
            "box_style": "",
            "children": [
              "IPY_MODEL_e646fb573b2047d9a54ffa7e420561e8",
              "IPY_MODEL_411b1f11155f437fb31a52d8bd954d53",
              "IPY_MODEL_0791d07a942e474daa97b181846b55a1"
            ],
            "layout": "IPY_MODEL_827c6a13c52149259e3728e4d4e644b2"
          }
        },
        "a97f2d91d86d4a0aa13f14ab2115ae21": {
          "model_module": "@jupyter-widgets/controls",
          "model_module_version": "1.5.0",
          "model_name": "ProgressStyleModel",
          "state": {
            "_model_module": "@jupyter-widgets/controls",
            "_model_module_version": "1.5.0",
            "_model_name": "ProgressStyleModel",
            "_view_count": null,
            "_view_module": "@jupyter-widgets/base",
            "_view_module_version": "1.2.0",
            "_view_name": "StyleView",
            "bar_color": null,
            "description_width": ""
          }
        },
        "b1cfd5928a144458adc0ce7415ef6010": {
          "model_module": "@jupyter-widgets/controls",
          "model_module_version": "1.5.0",
          "model_name": "FloatProgressModel",
          "state": {
            "_dom_classes": [],
            "_model_module": "@jupyter-widgets/controls",
            "_model_module_version": "1.5.0",
            "_model_name": "FloatProgressModel",
            "_view_count": null,
            "_view_module": "@jupyter-widgets/controls",
            "_view_module_version": "1.5.0",
            "_view_name": "ProgressView",
            "bar_style": "success",
            "description": "",
            "description_tooltip": null,
            "layout": "IPY_MODEL_01664b9aedb8488a9f4031aa3492e4c0",
            "max": 79,
            "min": 0,
            "orientation": "horizontal",
            "style": "IPY_MODEL_a97f2d91d86d4a0aa13f14ab2115ae21",
            "value": 79
          }
        },
        "b1f903d69e6849f693a475df3316979f": {
          "model_module": "@jupyter-widgets/base",
          "model_module_version": "1.2.0",
          "model_name": "LayoutModel",
          "state": {
            "_model_module": "@jupyter-widgets/base",
            "_model_module_version": "1.2.0",
            "_model_name": "LayoutModel",
            "_view_count": null,
            "_view_module": "@jupyter-widgets/base",
            "_view_module_version": "1.2.0",
            "_view_name": "LayoutView",
            "align_content": null,
            "align_items": null,
            "align_self": null,
            "border": null,
            "bottom": null,
            "display": null,
            "flex": null,
            "flex_flow": null,
            "grid_area": null,
            "grid_auto_columns": null,
            "grid_auto_flow": null,
            "grid_auto_rows": null,
            "grid_column": null,
            "grid_gap": null,
            "grid_row": null,
            "grid_template_areas": null,
            "grid_template_columns": null,
            "grid_template_rows": null,
            "height": null,
            "justify_content": null,
            "justify_items": null,
            "left": null,
            "margin": null,
            "max_height": null,
            "max_width": null,
            "min_height": null,
            "min_width": null,
            "object_fit": null,
            "object_position": null,
            "order": null,
            "overflow": null,
            "overflow_x": null,
            "overflow_y": null,
            "padding": null,
            "right": null,
            "top": null,
            "visibility": null,
            "width": null
          }
        },
        "c02ae0c813964142bb9f66c2a361c9ac": {
          "model_module": "@jupyter-widgets/controls",
          "model_module_version": "1.5.0",
          "model_name": "ProgressStyleModel",
          "state": {
            "_model_module": "@jupyter-widgets/controls",
            "_model_module_version": "1.5.0",
            "_model_name": "ProgressStyleModel",
            "_view_count": null,
            "_view_module": "@jupyter-widgets/base",
            "_view_module_version": "1.2.0",
            "_view_name": "StyleView",
            "bar_color": null,
            "description_width": ""
          }
        },
        "e646fb573b2047d9a54ffa7e420561e8": {
          "model_module": "@jupyter-widgets/controls",
          "model_module_version": "1.5.0",
          "model_name": "HTMLModel",
          "state": {
            "_dom_classes": [],
            "_model_module": "@jupyter-widgets/controls",
            "_model_module_version": "1.5.0",
            "_model_name": "HTMLModel",
            "_view_count": null,
            "_view_module": "@jupyter-widgets/controls",
            "_view_module_version": "1.5.0",
            "_view_name": "HTMLView",
            "description": "",
            "description_tooltip": null,
            "layout": "IPY_MODEL_e74e08c9fb654724acc8373e356edf01",
            "placeholder": "​",
            "style": "IPY_MODEL_446e703b0c4140b091570386f4dd874a",
            "value": "Testing DataLoader 0: 100%"
          }
        },
        "e74e08c9fb654724acc8373e356edf01": {
          "model_module": "@jupyter-widgets/base",
          "model_module_version": "1.2.0",
          "model_name": "LayoutModel",
          "state": {
            "_model_module": "@jupyter-widgets/base",
            "_model_module_version": "1.2.0",
            "_model_name": "LayoutModel",
            "_view_count": null,
            "_view_module": "@jupyter-widgets/base",
            "_view_module_version": "1.2.0",
            "_view_name": "LayoutView",
            "align_content": null,
            "align_items": null,
            "align_self": null,
            "border": null,
            "bottom": null,
            "display": null,
            "flex": null,
            "flex_flow": null,
            "grid_area": null,
            "grid_auto_columns": null,
            "grid_auto_flow": null,
            "grid_auto_rows": null,
            "grid_column": null,
            "grid_gap": null,
            "grid_row": null,
            "grid_template_areas": null,
            "grid_template_columns": null,
            "grid_template_rows": null,
            "height": null,
            "justify_content": null,
            "justify_items": null,
            "left": null,
            "margin": null,
            "max_height": null,
            "max_width": null,
            "min_height": null,
            "min_width": null,
            "object_fit": null,
            "object_position": null,
            "order": null,
            "overflow": null,
            "overflow_x": null,
            "overflow_y": null,
            "padding": null,
            "right": null,
            "top": null,
            "visibility": null,
            "width": null
          }
        },
        "ee0044f500d742a7bac85586d44b9929": {
          "model_module": "@jupyter-widgets/base",
          "model_module_version": "1.2.0",
          "model_name": "LayoutModel",
          "state": {
            "_model_module": "@jupyter-widgets/base",
            "_model_module_version": "1.2.0",
            "_model_name": "LayoutModel",
            "_view_count": null,
            "_view_module": "@jupyter-widgets/base",
            "_view_module_version": "1.2.0",
            "_view_name": "LayoutView",
            "align_content": null,
            "align_items": null,
            "align_self": null,
            "border": null,
            "bottom": null,
            "display": "inline-flex",
            "flex": null,
            "flex_flow": "row wrap",
            "grid_area": null,
            "grid_auto_columns": null,
            "grid_auto_flow": null,
            "grid_auto_rows": null,
            "grid_column": null,
            "grid_gap": null,
            "grid_row": null,
            "grid_template_areas": null,
            "grid_template_columns": null,
            "grid_template_rows": null,
            "height": null,
            "justify_content": null,
            "justify_items": null,
            "left": null,
            "margin": null,
            "max_height": null,
            "max_width": null,
            "min_height": null,
            "min_width": null,
            "object_fit": null,
            "object_position": null,
            "order": null,
            "overflow": null,
            "overflow_x": null,
            "overflow_y": null,
            "padding": null,
            "right": null,
            "top": null,
            "visibility": null,
            "width": "100%"
          }
        }
      }
    }
  },
  "nbformat": 4,
  "nbformat_minor": 0
}
